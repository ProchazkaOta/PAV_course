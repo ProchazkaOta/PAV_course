{
 "cells": [
  {
   "cell_type": "markdown",
   "metadata": {},
   "source": [
    "# Základy Pythonu\n",
    "\n",
    "V této přednášce se seznámíte se základy jazyka Python a naučíte se tvořit jednoduché skripty pro zpracování dat.\n",
    "\n",
    "Jazyk Python má několik vlastností, které z něj dělají v současnosti nejpoužívanější jazyk pro vědecko technické výpočty. Zejména je vhodný jakožto \"glue language\", umožňující snadné spojování existujících knihoven do složitějších celků. Klíčové vlastnosti jazyka:\n",
    "\n",
    "- Jednoduchá syntaxe, která podporuje čitelnost kódu. Kód se totiž častěji čte než píše.\n",
    "- Jednoduchý jazyk, který umožňuje rychlý vývoj a ladění. Je možno rychle zkoušet různá řešení.\n",
    "- Interpretovaný jazyk, což znamená snadné spuštění kódu bez problémů s kompilací a linkováním.\n",
    "- Standardní knihovna obsahuje velké množství běžně používaných vysokoúrovňových funkcí.\n",
    "- Pomocí dalších knihoven je k dispozici rozhraní v velkému množství existujícího kódu v nejrůznějších jazycích. \n",
    "- Jednoduchá interakce s jinými jazyky. Např. volání C++ z Pythonu a obráceně.\n",
    "- Přenositelnost mezi platformami, zejména: Mac OS X, Windows, Linux, Unix, Android, iOS. \n",
    "- Python a většina knihoven jsou svobodným software, t.j. volně použivatelný i modifikovatelný.\n",
    "\n",
    "Tyto výhody jsou vykoupeny některými nevýhodami:\n",
    "\n",
    "- Dynamické typování a tzv. [\"duck typing\"](https://en.wikipedia.org/wiki/Duck_typing) zjednodušuje implementaci, ale \n",
    "  může vést k chybám. Je třeba více testování, dokumentování a programátorská disciplína.\n",
    "- Interpretovaný a vysokoúrovňový jazyk nemůže být příliš rychlý. Kód vykonávaný přímo Pythonem je zhruba \n",
    "  10x pomalejší než stejný kód napsaný v C++. Možná řešení: \n",
    "  - používání knihoven implementovaných v kompilovaných jazycích\n",
    "  - [\"just-in-time\"](https://en.wikipedia.org/wiki/Just-in-time_compilation) kompilátor,\n",
    "    např. [PyPy](https://pypy.org/) \n",
    "  - kompilovatelná varianta Pythonu: [Cython](http://cython.org/)\n",
    "- Standardní interpreter [CPython](https://stackoverflow.com/questions/17130975/python-vs-cpython) neumožňuje\n",
    "  paralelní běh vláken kvůli použití globálního zámku [GIL](https://en.wikipedia.org/wiki/Global_interpreter_lock).\n",
    "  Možná řešení:\n",
    "  - paralelizmus pomocí procesů\n",
    "  - použití knihoven, které vnitřně vlákna využijí\n",
    "  - alternativní implementace bez GIL: Jython, IronPython, Cython (GIL lze dočasně vypnout)\n",
    "- Méně rozvinutá podpora mobilních platforem (např. oproti Javě).  "
   ]
  },
  {
   "cell_type": "markdown",
   "metadata": {},
   "source": [
    "# Proměnné\n",
    "\n",
    "Proměnná je 'odkazem' na objekt, který existuje nezávisle na existenci proměnné, které na něj ukazuje. Některé objekty jsou neměnné (immutable) to jsou objekty typu: int, float, string. Ostaní jsou 'mutable'.\n",
    "\n",
    "Výpis objektů (odkazovaných proměnnými) provedeme pomocí funkce 'print'. IPython také vypíše poslední výraz pokud není přiřazen do proměnné."
   ]
  },
  {
   "cell_type": "code",
   "execution_count": 1,
   "metadata": {},
   "outputs": [
    {
     "name": "stdout",
     "output_type": "stream",
     "text": [
      "a:  []\n",
      "b:  []\n",
      "a:  [1]\n",
      "b:  [1]\n"
     ]
    }
   ],
   "source": [
    "# Do proměnné 'a' přiřadíme prázdé pole.\n",
    "a = []\n",
    "# Do proměnné 'b' přiřadíme stejný objekt.\n",
    "b = a\n",
    "\n",
    "print(\"a: \", a)\n",
    "print(\"b: \", b)\n",
    "\n",
    "# Do pole přidáme prvek.\n",
    "b.append(1)\n",
    "\n",
    "# Přes obě proměnné je dostupné stejné pole, nyní s prvkem '1'.\n",
    "print(\"a: \", a)\n",
    "print(\"b: \", b)\n"
   ]
  },
  {
   "cell_type": "code",
   "execution_count": 2,
   "metadata": {},
   "outputs": [
    {
     "name": "stdout",
     "output_type": "stream",
     "text": [
      "a:  1\n",
      "b:  1\n",
      "a:  2\n",
      "b:  1\n"
     ]
    }
   ],
   "source": [
    "a = 1\n",
    "b = a\n",
    "# Proměnné 'a' a 'b' obě odkazují na stejný objekt 1. Ten je ale neměnný.\n",
    "print(\"a: \", a)\n",
    "print(\"b: \", b)\n",
    "\n",
    "# Zvětšením o jedna neměníme objekt '1', ale přiřadíme proměnné 'a' objekt '2'. \n",
    "a += 1\n",
    "\n",
    "# Proměnná 'b' odkazuje stále na objekt '1'.\n",
    "print(\"a: \", a)\n",
    "print(\"b: \", b)"
   ]
  },
  {
   "cell_type": "markdown",
   "metadata": {},
   "source": [
    "Detailnější popis najdete např [zde](https://mathieularose.com/python-variables/)"
   ]
  },
  {
   "cell_type": "markdown",
   "metadata": {},
   "source": [
    "# Skalární typy\n",
    "\n",
    "Každá objekt má typ (třídu, class). Python má základní immutable skalární typy 'None', 'bool', 'int', 'float' a 'string'. Typ objektu zjistíme funkcí 'type'.\n",
    "\n"
   ]
  },
  {
   "cell_type": "code",
   "execution_count": 35,
   "metadata": {},
   "outputs": [
    {
     "name": "stdout",
     "output_type": "stream",
     "text": [
      "type(a): <class 'NoneType'>\n"
     ]
    }
   ],
   "source": [
    "# Typ a onjekt None. Univerzální hodnota pro nic.\n",
    "a = None\n",
    "print(\"type(a):\", type(a))"
   ]
  },
  {
   "cell_type": "code",
   "execution_count": 10,
   "metadata": {},
   "outputs": [
    {
     "name": "stdout",
     "output_type": "stream",
     "text": [
      "type(a): <class 'bool'>\n"
     ]
    }
   ],
   "source": [
    "# Typ bool.\n",
    "a = True\n",
    "print(\"type(a):\", type(a))"
   ]
  },
  {
   "cell_type": "code",
   "execution_count": 5,
   "metadata": {},
   "outputs": [
    {
     "name": "stdout",
     "output_type": "stream",
     "text": [
      "type(a): <class 'int'>\n"
     ]
    }
   ],
   "source": [
    "# Typ int.\n",
    "a = 1\n",
    "print(\"type(a):\", type(a))"
   ]
  },
  {
   "cell_type": "code",
   "execution_count": 6,
   "metadata": {},
   "outputs": [
    {
     "name": "stdout",
     "output_type": "stream",
     "text": [
      "type(a): <class 'float'>\n"
     ]
    }
   ],
   "source": [
    "# Typ float.\n",
    "a = 1.0\n",
    "print(\"type(a):\", type(a))"
   ]
  },
  {
   "cell_type": "code",
   "execution_count": 7,
   "metadata": {},
   "outputs": [
    {
     "name": "stdout",
     "output_type": "stream",
     "text": [
      "type(a): <class 'str'>\n"
     ]
    }
   ],
   "source": [
    "# Typ string.\n",
    "a = \"1\"\n",
    "print(\"type(a):\", type(a))"
   ]
  },
  {
   "cell_type": "markdown",
   "metadata": {},
   "source": [
    "# Operátory\n",
    "pro int a float: `+` (sčítání), `-` (odčítání), `*` (násobení), `/` (dělení), `**` (umocnění), \n",
    "`%` (modulo), `//` (celočíselné dělení).\n"
   ]
  },
  {
   "cell_type": "code",
   "execution_count": 8,
   "metadata": {},
   "outputs": [
    {
     "data": {
      "text/plain": [
       "2.0"
      ]
     },
     "execution_count": 8,
     "metadata": {},
     "output_type": "execute_result"
    }
   ],
   "source": [
    "2.1 // 0.9"
   ]
  },
  {
   "cell_type": "code",
   "execution_count": 11,
   "metadata": {},
   "outputs": [
    {
     "data": {
      "text/plain": [
       "0.30000000000000004"
      ]
     },
     "execution_count": 11,
     "metadata": {},
     "output_type": "execute_result"
    }
   ],
   "source": [
    "2.1 % 0.9"
   ]
  },
  {
   "cell_type": "markdown",
   "metadata": {},
   "source": [
    "Zejména poslední 3 operátory si vyzkoušejte a \n",
    "přečtěte podrobný [popis](https://www.tutorialspoint.com/python/python_basic_operators.htm). \n",
    "Zde najdete popsané i další operátory:\n",
    "\n",
    "**přiřazovací operátory**: \n",
    "    \n",
    "    =, +=, -=, ... \n",
    "\n",
    "**porovnávací operátory**, vracejí 'bool': \n",
    "\n",
    "    ==, !=, <, >, >=, <=\n",
    "    \n",
    "Zde je možno psát zkráceně: \n",
    "    \n",
    "    0 < a <= 1 \n",
    "    \n",
    "místo \n",
    "    \n",
    "    0 < a and a <= 1\n",
    "\n",
    "**bitové operátory**: \n",
    "\n",
    "    ~ (negace), & (bitový and), | (bitový or), << (rotace vlevo), >> (rotace vpravo)\n",
    "\n",
    "**logické operátory**: \n",
    "\n",
    "    not, and, or\n",
    "\n",
    "**operátory identity**: \n",
    "    \n",
    "    is, is not \n",
    "zda dva objekty jsou na stejném místě paměti (identické)\n",
    "    \n",
    "**operátory členství**:\n",
    "\n",
    "    a in b, a not in b \n",
    "zda  a je prvkem/ není prvkem b (list, set, dictionary, ...)"
   ]
  },
  {
   "cell_type": "markdown",
   "metadata": {},
   "source": [
    "# Typ 'string'.\n",
    "\n",
    "[Kompletní popis](https://www.tutorialspoint.com/python/python_strings.htm) operátorů a metod pro typ 'string' včetně popisu formátovacího operátoru. Zde jen přehled nejčastěji používaného.\n",
    "\n",
    "`a + b` - spojení dvou řeťezců\n",
    "\n",
    "### Formátovací operátor '%'"
   ]
  },
  {
   "cell_type": "code",
   "execution_count": 23,
   "metadata": {},
   "outputs": [
    {
     "data": {
      "text/plain": [
       "\"Vektor A má délku: '  1.34'\""
      ]
     },
     "execution_count": 23,
     "metadata": {},
     "output_type": "execute_result"
    }
   ],
   "source": [
    "a = 'A'\n",
    "b = 1.345\n",
    "\"Vektor %s má délku: '%6.2f'\"%(a, b)"
   ]
  },
  {
   "cell_type": "code",
   "execution_count": 24,
   "metadata": {},
   "outputs": [
    {
     "data": {
      "text/plain": [
       "\"Vektor A má délku: '1.345'\""
      ]
     },
     "execution_count": 24,
     "metadata": {},
     "output_type": "execute_result"
    }
   ],
   "source": [
    "data = dict(C=a, D=b)\n",
    "ld = [a, b]\n",
    "\"Vektor {} má délku: '{}'\".format(*ld)"
   ]
  },
  {
   "cell_type": "markdown",
   "metadata": {},
   "source": [
    "### Metody\n",
    "\n",
    "`a_str.find(b_str,  beg=0, end=len(a_str))` - [popis](https://www.tutorialspoint.com/python/string_find.htm)\n",
    "\n",
    "`a_str.replace(old_str, new_str, count)` - [popis](https://www.tutorialspoint.com/python/string_replace.htm)\n",
    "\n",
    "Pro složitější hledání a nahrazování je vhodné použít regulární výrazy, viz. dále.\n",
    "\n",
    "`a_str.join(seq)` - [popis](https://www.tutorialspoint.com/python/string_join.htm)\n",
    "\n",
    "`a_str.split(b_str, num)` - [popis](https://www.tutorialspoint.com/python/string_split.htm)\n",
    "\n"
   ]
  },
  {
   "cell_type": "markdown",
   "metadata": {},
   "source": [
    "# Typ list\n",
    "\n",
    "Python má jeden typ pro indexované pole, ale lze ho též používat jako zásobník nebo frontu. Pole je indexováno od '0' a jsou povoleny záporné indexy, které se počí tají od konce.\n",
    "[Podrobný popis](https://www.tutorialspoint.com/python/python_lists.htm)\n",
    "\n",
    "`len(list)` - délka pole \n",
    "\n",
    "`list[i]` - prvek na pozici `i`; fungují i záporné indexy\n",
    "\n",
    "`list[i:j]` - slice, podseznam od pozice `i` (včetně) do pozice `j` (mimo); fungují i záporné indexy\n",
    "\n",
    "`pop(i)` -  výběr prvku z pole (složitost až $O(n)$), `pop(0)` a `pop(-1)` mají konstantní složitost\n",
    "\n",
    "`del list[i]` - smazání prvku `i` z pole\n",
    "\n",
    "`list.append(x)` - přidání objektu `x` na konec pole\n",
    "\n",
    "`list.extend(other_list)` - připojení listu `other_list`\n",
    "\n",
    "`list.sort(...)` - setřídní pole, [popis](https://www.tutorialspoint.com/python/list_sort.htm)\n",
    "\n",
    "Kromě typu `list` má Python také typ `tuple`, který je však immutable nelze do něj prvky přidávat nebo je odstraňovat nebo měnit. [Popis.](https://www.tutorialspoint.com/python/python_tuples.htm)"
   ]
  },
  {
   "cell_type": "code",
   "execution_count": 11,
   "metadata": {},
   "outputs": [
    {
     "name": "stdout",
     "output_type": "stream",
     "text": [
      "a[1:3] :  [2, 3]\n"
     ]
    },
    {
     "ename": "TypeError",
     "evalue": "'tuple' object does not support item assignment",
     "output_type": "error",
     "traceback": [
      "\u001b[0;31m---------------------------------------------------------------------------\u001b[0m",
      "\u001b[0;31mTypeError\u001b[0m                                 Traceback (most recent call last)",
      "\u001b[0;32m<ipython-input-11-c9403b524505>\u001b[0m in \u001b[0;36m<module>\u001b[0;34m()\u001b[0m\n\u001b[1;32m      7\u001b[0m \u001b[0;31m# Tuple, vytvoříme pomocí kulatých závorek. Pevná délka i obsah.\u001b[0m\u001b[0;34m\u001b[0m\u001b[0;34m\u001b[0m\u001b[0m\n\u001b[1;32m      8\u001b[0m \u001b[0mb\u001b[0m \u001b[0;34m=\u001b[0m \u001b[0;34m(\u001b[0m\u001b[0;36m1\u001b[0m\u001b[0;34m,\u001b[0m\u001b[0;36m2\u001b[0m\u001b[0;34m,\u001b[0m\u001b[0;36m3\u001b[0m\u001b[0;34m)\u001b[0m\u001b[0;34m\u001b[0m\u001b[0m\n\u001b[0;32m----> 9\u001b[0;31m \u001b[0mb\u001b[0m\u001b[0;34m[\u001b[0m\u001b[0;36m2\u001b[0m\u001b[0;34m]\u001b[0m\u001b[0;34m=\u001b[0m\u001b[0;36m4\u001b[0m\u001b[0;34m\u001b[0m\u001b[0m\n\u001b[0m",
      "\u001b[0;31mTypeError\u001b[0m: 'tuple' object does not support item assignment"
     ]
    }
   ],
   "source": [
    "# Pole lze vytvořit pomocí hranatých závorek.\n",
    "a = [1, 2, 3]\n",
    "# Přidáme prvek.\n",
    "a.append(4)\n",
    "# Slicing\n",
    "print(\"a[1:3] : \", a[1:3])\n",
    "# Tuple, vytvoříme pomocí kulatých závorek. Pevná délka i obsah.\n",
    "b = (1,2,3)\n"
   ]
  },
  {
   "cell_type": "code",
   "execution_count": 21,
   "metadata": {},
   "outputs": [
    {
     "ename": "TypeError",
     "evalue": "'tuple' object does not support item assignment",
     "output_type": "error",
     "traceback": [
      "\u001b[0;31m---------------------------------------------------------------------------\u001b[0m",
      "\u001b[0;31mTypeError\u001b[0m                                 Traceback (most recent call last)",
      "\u001b[0;32m<ipython-input-21-b93ae844cef5>\u001b[0m in \u001b[0;36m<module>\u001b[0;34m()\u001b[0m\n\u001b[1;32m      1\u001b[0m \u001b[0;31m# Změna tuplu je chyba:\u001b[0m\u001b[0;34m\u001b[0m\u001b[0;34m\u001b[0m\u001b[0m\n\u001b[1;32m      2\u001b[0m \u001b[0;34m\u001b[0m\u001b[0m\n\u001b[0;32m----> 3\u001b[0;31m \u001b[0mb\u001b[0m\u001b[0;34m[\u001b[0m\u001b[0;36m1\u001b[0m\u001b[0;34m]\u001b[0m \u001b[0;34m=\u001b[0m \u001b[0;36m3\u001b[0m\u001b[0;34m\u001b[0m\u001b[0m\n\u001b[0m",
      "\u001b[0;31mTypeError\u001b[0m: 'tuple' object does not support item assignment"
     ]
    }
   ],
   "source": [
    "# Změna tuplu je chyba:\n",
    "\n",
    "b[1] = 3"
   ]
  },
  {
   "cell_type": "markdown",
   "metadata": {},
   "source": [
    "# Typ dictionary\n",
    "\n",
    "Datová struktura pomocí klíčů libovolného typu, který má metodu `hash()`. Klíče jsou immutable a jsou v rámci jednoho dictionary unikátní. Klíčům přiřazené hodnoty mohou být libovolné objektu.  \n",
    "Indexování pomocí int klíčů je vhodné jen pokud indexy netvoří souvislou posloupnost, jinak je vhodnější použití polí. [Podrobný popis](https://www.tutorialspoint.com/python/python_dictionary.htm).\n"
   ]
  },
  {
   "cell_type": "code",
   "execution_count": 14,
   "metadata": {},
   "outputs": [
    {
     "name": "stdout",
     "output_type": "stream",
     "text": [
      "a['Name'] :  Zara\n"
     ]
    },
    {
     "data": {
      "text/plain": [
       "{'Age': 7, 'Friends': ['Dita', 'Ema'], 'ID': 123, 'Weight': 56.67}"
      ]
     },
     "execution_count": 14,
     "metadata": {},
     "output_type": "execute_result"
    }
   ],
   "source": [
    "# Vytvoření pomocí složených závorek.\n",
    "a = {'Name': 'Zara', 'Age': 7, 'Weight': 56.67, 'Friends': ['Dita', 'Ema']}\n",
    "\n",
    "# Vytvoření pomocí konstruktoru, méně psaní pro klíče typu string.\n",
    "a = dict(Name='Zara', Age=7, Weight=56.67, Friends=['Dita', 'Ema'])\n",
    "\n",
    "# Přístup přes klíč.\n",
    "print(\"a['Name'] : \", a['Name'])\n",
    "\n",
    "# Smazání klíče a hodnoty.\n",
    "del a['Name']\n",
    "\n",
    "a['ID'] = 123\n",
    "a"
   ]
  },
  {
   "cell_type": "markdown",
   "metadata": {},
   "source": [
    "# Podmínky\n",
    "\n",
    "    if <condition 1> :\n",
    "        <true block 1>\n",
    "    elif <condition 2> :\n",
    "        <true block 2> :\n",
    "    else:\n",
    "        <false block>\n",
    "        \n",
    "[Podrobný popis podmínek.](https://www.tutorialspoint.com/python/python_decision_making.htm)        \n",
    "Důležité je že bloky v Pythonu jsou vyznačeny pouze odsazením. Je nutné nemíchat mezery a tabelátory, ideálně používat vždy\n",
    "vždy 4 mezery. "
   ]
  },
  {
   "cell_type": "markdown",
   "metadata": {},
   "source": [
    "# Cykly\n",
    "\n",
    "While cyklus opakuje blok (tělo) dokud je podmínka pravdivá:\n",
    "\n",
    "    while <condition> :\n",
    "        <true block>\n",
    "   \n",
    "For cyklus opakuje blok (tělo) kde `x` potupně nabývá hodnot ze sekvence (listu) `seq`.\n",
    "\n",
    "    for x in seq:\n",
    "        <block>\n",
    "        \n",
    "Oba cykly mohou v těle obsahovat příkazy:\n",
    "\n",
    "    continue - skočí ined na další iteraci cyklu\n",
    "    \n",
    "    break - ukončí cyklus a skočí z něj\n",
    "\n",
    "Regulerní ukončení cyklu a ukončení pomocí `break` můžeme rozlišit pomocí bloku `else`:\n",
    "\n",
    "    while <condition> :\n",
    "        <true block>\n",
    "    else:\n",
    "        <end block>\n",
    "\n",
    "    for x in set:\n",
    "        <block>\n",
    "    else:\n",
    "        <end block>\n",
    "\n",
    "For cykly se hojně používají v kombinaci s metodami `values`, `items` pro dictionary a s příkazy `zip` pro 'sezipování dvou listů' a `enumerate` pro očíslování prvků listu."
   ]
  },
  {
   "cell_type": "code",
   "execution_count": 15,
   "metadata": {},
   "outputs": [
    {
     "name": "stdout",
     "output_type": "stream",
     "text": [
      "0\n",
      "1\n",
      "2\n"
     ]
    }
   ],
   "source": [
    "for i in range(3):\n",
    "    print(i)"
   ]
  },
  {
   "cell_type": "code",
   "execution_count": 28,
   "metadata": {},
   "outputs": [
    {
     "name": "stdout",
     "output_type": "stream",
     "text": [
      "<enumerate object at 0x7f9252e71e58>\n",
      "[(0, 1), (1, 2), (2, 3)]\n",
      "0 1\n",
      "1 2\n",
      "2 3\n"
     ]
    }
   ],
   "source": [
    "a = enumerate([1, 2, 3]) # Nevrací přímo list tuplů, ale tzv. generátor.\n",
    "print(a)\n",
    "print(list(a))           # Zde jsme nechali generátor vygenerovat všechny prvky do listu.\n",
    "for i, value in enumerate([1, 2, 3]):\n",
    "    print(i, value)"
   ]
  },
  {
   "cell_type": "code",
   "execution_count": 18,
   "metadata": {},
   "outputs": [
    {
     "name": "stdout",
     "output_type": "stream",
     "text": [
      "[('Name', 'Zara'), ('Age', 7), ('Weight', 56.67), ('Friends', [])]\n",
      "Name Zara\n",
      "Age 7\n",
      "Weight 56.67\n",
      "Friends []\n"
     ]
    }
   ],
   "source": [
    "a = {'Name': 'Zara',  'Weight': 56.67, 'Age': 7, 'Friends': []}\n",
    "b = a.items() # Generátor vracející tuply (key, value).\n",
    "print(list(b))\n",
    "for key, value in a.items(): # Pořadí je libovolné !!\n",
    "    print(key, value)"
   ]
  },
  {
   "cell_type": "markdown",
   "metadata": {},
   "source": [
    "# Comprehensions\n",
    "Efektivní zápis filtrování a transformací listů, množin a adresářů.\n",
    "Pro tvorbu listů:\n",
    "\n",
    "    [ <expression> for x in seq if <condition> ]\n",
    "    \n",
    "Pro každý prvek `x` v sekvenci `seq` který splňuje `<condition>` se vyhodnotí `<expression>` a přidá se do nového pole. Podobně lze tvořit množiny a dictionary. \n",
    "[Podrobný popis a příklady.](http://python-3-patterns-idioms-test.readthedocs.io/en/latest/Comprehensions.html)"
   ]
  },
  {
   "cell_type": "code",
   "execution_count": 20,
   "metadata": {},
   "outputs": [
    {
     "name": "stdout",
     "output_type": "stream",
     "text": [
      "{1, 9, 25}\n"
     ]
    }
   ],
   "source": [
    "# Druhé mocniny lichých čísel.\n",
    "print({ i**2 for i in range(7) if i%2 == 1 })"
   ]
  },
  {
   "cell_type": "code",
   "execution_count": null,
   "metadata": {},
   "outputs": [],
   "source": []
  },
  {
   "cell_type": "markdown",
   "metadata": {},
   "source": [
    "# Funkce\n",
    "Definice funkce:\n",
    "    \n",
    "    def func(a, b = None):\n",
    "        <body>\n",
    "        return <expression>\n",
    "        \n",
    "zde má funkce definovány 2 parametry, ale druhý je nepovinný a má výchozí hodnotu None. \n",
    "Všechny parametry jsou předávány odkazem.\n",
    "V těle funkce může být žádný nebo více příkazů `return`,\n",
    "který ukončí funkci a vrátí výsledek výrazu `<expression>`. \n",
    "\n",
    "Při volání funkce je možno zadávat argumenty pozičně nebo pomocí jména parametru:\n",
    "    \n",
    "    func(2)\n",
    "    func(2, None)\n",
    "    func(b=None, a=2)\n",
    "    \n",
    "... jsou ekvivalentní volání. Je možno definovat též funkce s proměnným počtem parametrů  a tzv. lambda funkce \n",
    "viz. [podrobný popis funkcí](https://www.tutorialspoint.com/python/python_functions.htm).\n",
    "\n",
    "Za hlavičku funkce se píše tzv. 'docstring' dokumentující co funkce dělá jaké má parametry a co vrací. Jelikož Python\n",
    "nekontroluje typy, je naprosto nezbytné v dokumentaci uvádět nejen co parametry znamenají, ale také jaký mají typ, pokud to není z kontextu jasné."
   ]
  },
  {
   "cell_type": "code",
   "execution_count": null,
   "metadata": {},
   "outputs": [],
   "source": [
    "def make_sequence( a, b, step=1, power = 1):\n",
    "    \"\"\"\n",
    "    Make a sequence a**p, ..., b**p.\n",
    "    :param a: float, first value base\n",
    "    :param b: float, end value base (last base is less then b)\n",
    "    :param step: float, step of base values\n",
    "    :param power: float, common power of resulting values\n",
    "    :return ...\n",
    "    \"\"\"\n",
    "    x = a\n",
    "    sequence = []\n",
    "    while x < b:\n",
    "        sequence.append(x**power)\n",
    "        x += step\n",
    "    return sequence"
   ]
  },
  {
   "cell_type": "code",
   "execution_count": 45,
   "metadata": {},
   "outputs": [
    {
     "data": {
      "text/plain": [
       "[1.1, 2.1, 3.1]"
      ]
     },
     "execution_count": 45,
     "metadata": {},
     "output_type": "execute_result"
    }
   ],
   "source": [
    "make_sequence(1.1, 4)"
   ]
  },
  {
   "cell_type": "code",
   "execution_count": 47,
   "metadata": {},
   "outputs": [
    {
     "data": {
      "text/plain": [
       "[1.1, 3.1, 5.1, 7.1, 9.1]"
      ]
     },
     "execution_count": 47,
     "metadata": {},
     "output_type": "execute_result"
    }
   ],
   "source": [
    "make_sequence(1.1, 10, step = 2)"
   ]
  },
  {
   "cell_type": "code",
   "execution_count": 49,
   "metadata": {},
   "outputs": [
    {
     "data": {
      "text/plain": [
       "[1, 9, 25, 49, 81]"
      ]
     },
     "execution_count": 49,
     "metadata": {},
     "output_type": "execute_result"
    }
   ],
   "source": [
    "make_sequence(1, 10, step = 2, power=2)"
   ]
  },
  {
   "cell_type": "markdown",
   "metadata": {},
   "source": [
    "# Čtení a zápis souborů\n",
    "\n",
    "Čtení všech řádek ze souboru:\n",
    "\n",
    "    with open(\"file.txt\", \"r\") as f:\n",
    "        all_lines = f.readlines()\n",
    "\n",
    "`with` je tzv. kontext manager a v tomto případě zajisí uzavření souboru. Je to ekvivalentní:\n",
    "\n",
    "    f = open(\"file.txt\", \"r\") # otevření souboru pro čtení\n",
    "    all_lines = f.readlines()\n",
    "    f.close()\n",
    "\n",
    "Postupné zpracování všech řádek souboru:\n",
    "    \n",
    "    with open(\"file.txt\", \"r\") as f:    \n",
    "        for line in f:\n",
    "            process_line(line)\n",
    "            \n",
    "Zápis do souboru:\n",
    "\n",
    "        with open(\"file.txt\", \"w\") as f: # otevření souboru pro zápis\n",
    "            f.write(\"Jedna řádka\\n\")\n",
    "            \n",
    "[Podrobný popis](https://www.tutorialspoint.com/python/python_files_io.htm)\n",
    "zahrnuje: další příznaky při otevírání souboru, nastavování pozice v souboru, práci s adresáři"
   ]
  },
  {
   "cell_type": "markdown",
   "metadata": {},
   "source": [
    "# Moduly\n",
    "Mimo vestavěných příkazů a funkcí poskytuje Pythoon množství další funkcionality pomocí 'modulů'. Některé moduly jsou\n",
    "součástí výchozí instalace jiné je potřeba nainstalovat. Součástí balíku Anakonda je většina používaných modulů. \n",
    "\n",
    "Pro použití je třeba modul importovat:\n",
    "\n",
    "    import json as js\n",
    "\n",
    "nyní máme modul importovaný pod jménem `js` a můžeme používat funkce a třídy v něm obsažené, viz.\n",
    "[dokumentace modulu json](https://docs.python.org/3/library/json.html)\n"
   ]
  },
  {
   "cell_type": "code",
   "execution_count": 34,
   "metadata": {},
   "outputs": [
    {
     "data": {
      "text/plain": [
       "{'email': 'jesson0@google.com.br',\n",
       " 'first_name': 'Joice',\n",
       " 'gender': 'Female',\n",
       " 'id': 1,\n",
       " 'ip_address': '96.52.28.71',\n",
       " 'last_name': 'Esson'}"
      ]
     },
     "execution_count": 34,
     "metadata": {},
     "output_type": "execute_result"
    }
   ],
   "source": [
    "import scipy.linalg as la\n",
    "#import load as js_load\n",
    "\n",
    "# importovali jsme modul json pro parsování JSON souborů\n",
    "with open(\"MOCK_DATA.json\", \"r\") as f:\n",
    "    data = js.load(f)\n",
    "\n",
    "# Data obsahuje kompletní hierarchická data z formátu JSON.\n",
    "data[0]    "
   ]
  },
  {
   "cell_type": "markdown",
   "metadata": {},
   "source": [
    "# Další vhodná témata k samostudiu\n",
    "\n",
    "[Třídy](https://www.tutorialspoint.com/python/python_classes_objects.htm) - \n",
    "prakticky nutné pro složitější datové struktury\n",
    "\n",
    "[Regulární výrazy](https://www.tutorialspoint.com/python/python_reg_expressions.htm) - \n",
    "velmi užitečné pro vytahování informací z textových souborů\n",
    "\n",
    "[Výjimky](https://www.tutorialspoint.com/python/python_exceptions.htm)"
   ]
  },
  {
   "cell_type": "markdown",
   "metadata": {},
   "source": [
    "# Cvičení\n",
    "\n",
    "1. Napište funkci pro zápis přirozeného čísla v římské notaci.\n",
    "2. Napište funkci, která vrátí list obsahující prvky Fibonačiho posloupnosti menší než $n$.\n",
    "3. Napište funkci, která pro dva seznamy vrátí True pokud obsahují alespoň jeden společný prvek.\n",
    "3. Napište funkci která načte data ze souboru [MOCK_DATA.json](./MOCK_DATA.json). Zjistěte jaká je struktura dat.\n",
    "4. Napište funkci `row_format`, která pro dict jednoho záznamu a tuple `width` tří intů zformátuje řetězec obsahující: \n",
    "   email, id zapsáno   římsky, ip_address. Příslušné podřetězce `s1`, `s2`, `s3` jsou doplněné zleva mezerami, tak aby\n",
    "   řetězec $s_i$ měl šířku `width[i]`. Viz. metody `ljust`, `rjust`.\n",
    "5. Z načtených dat vyberte ty záznamy, jejichž IP adresa (složená ze 4 čísel) obsahuje nějaké Fibonachiho číslo.\n",
    "6. Pro vybrané záznamy vystupte email, id a ip_address do souboru \"output.txt\" ve formě tabulky, tak aby každý ze tří\n",
    "   sloupců byl zarovnaný vpravo. K tomu použijete funkci `row_format`. Nejprve projděte všechny řádky, pro každý \n",
    "   určete šířky tří vystupovaných položek bez doplňování mezerami, pro každý sloupec určíte maximální šířku. Tyto\n",
    "   maximální šířky použijete jako parametr `width` funkce `row_format` při druhém průchodu."
   ]
  },
  {
   "cell_type": "code",
   "execution_count": null,
   "metadata": {},
   "outputs": [],
   "source": [
    "# Profiling\n",
    "\n",
    "# Statistic profiler\n",
    "import statprof\n",
    "statprof.start()\n",
    "\n",
    "# ... some code\n",
    "\n",
    "statprof.stop()\n",
    "statprof.display()\n",
    "\n",
    "\n",
    "# instrumented profiler\n",
    "import cProfile, pstats, io\n",
    "pr = cProfile.Profile()\n",
    "pr.enable()\n",
    "\n",
    "# ... some code\n",
    "\n",
    "pr.disable()\n",
    "s = io.StringIO()\n",
    "sortby = 'cumulative'\n",
    "ps = pstats.Stats(pr, stream=s).sort_stats(sortby)\n",
    "ps.print_stats()\n",
    "print(s.getvalue())\n",
    "\n"
   ]
  }
 ],
 "metadata": {
  "kernelspec": {
   "display_name": "Python 3",
   "language": "python",
   "name": "python3"
  },
  "language_info": {
   "codemirror_mode": {
    "name": "ipython",
    "version": 3
   },
   "file_extension": ".py",
   "mimetype": "text/x-python",
   "name": "python",
   "nbconvert_exporter": "python",
   "pygments_lexer": "ipython3",
   "version": "3.5.2"
  }
 },
 "nbformat": 4,
 "nbformat_minor": 2
}
