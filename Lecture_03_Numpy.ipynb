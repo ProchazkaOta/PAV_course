{
 "cells": [
  {
   "cell_type": "markdown",
   "metadata": {},
   "source": [
    "# Numpy\n",
    "\n",
    "Numpy je knihovna pro práci s vícerozměrnými poli (tenzory). Poskytuje efektivní a snadno použitelné uživatelské rozhraní ke standarním operacím s vícerozměrnými poli a k operacím lineární algebry. V tomto sešitu jsou uvedeny pouze základní funkce a koncepty. Kompletní přehled funkcí najdete v [referenční dokumentaci](https://docs.scipy.org/doc/numpy-1.13.0/reference/index.html)\n",
    "\n",
    "Další zdroje:\n",
    "- [Stanford lecture](https://web.stanford.edu/~schmit/cme193/lec/lec5.pdf)\n",
    "\n",
    "- [100 cvičení z Numpy](http://yvesguidet.no-ip.biz/complementsMureaux/100_numpy_exercises.pdf)\n",
    "\n",
    "- [Python and SciPy lecture notes](https://hal.inria.fr/hal-01206546/file/ScipyLectures-simple.pdf)\n",
    "\n",
    "Dále předpokládáme import knihovny ve tvaru:\n"
   ]
  },
  {
   "cell_type": "code",
   "execution_count": null,
   "metadata": {},
   "outputs": [],
   "source": [
    "import numpy as np"
   ]
  },
  {
   "cell_type": "markdown",
   "metadata": {},
   "source": [
    "## Array\n",
    "Základní třída, která vlastní data doplňuje o metadata o jejich organizaci. Různé operace na řezání a transpozici dat fakticky jen mění metadata."
   ]
  },
  {
   "cell_type": "code",
   "execution_count": null,
   "metadata": {
    "scrolled": true
   },
   "outputs": [],
   "source": [
    "# Konverze ze standarnich Pythnonich typu.\n",
    "list_matrix =[ list(range(3)), list(range(1,4))]\n",
    "print(\"List matrix:\", list_matrix)\n",
    "a = np.array(list_matrix)\n",
    "print(\"Numpy matrix:\\n\", a, '\\npython type:', type(a))\n"
   ]
  },
  {
   "cell_type": "markdown",
   "metadata": {},
   "source": [
    "### Array - atributy\n",
    "\n",
    "    a.ndim,  a.shape,  a.size,  a.dtype\n",
    "   "
   ]
  },
  {
   "cell_type": "code",
   "execution_count": null,
   "metadata": {},
   "outputs": [],
   "source": [
    "# Počet dimenzí/os/axis pole\n",
    "print(\"ndim\", a.ndim)\n",
    "\n",
    "# Rozměry pole v jednotlivých osách.\n",
    "print(\"shape\", a.shape)\n",
    "\n",
    "# Počet prvků pole.\n",
    "print(\"size\", a.size)\n",
    "\n",
    "# Type prvků pole (všechny prvky mají stejný typ).\n",
    "print(\"dtype\", a.dtype)\n"
   ]
  },
  {
   "cell_type": "markdown",
   "metadata": {},
   "source": [
    "Matice `a` má prvky typu `int64`. Numpy automaticky zvolí `int` pokud jsou všechny zadané prvky `int`. Explicitně je možno požadovat jiný typ pomocí parametru `dtype`:"
   ]
  },
  {
   "cell_type": "code",
   "execution_count": null,
   "metadata": {},
   "outputs": [],
   "source": [
    "from sys import getsizeof\n",
    "\n",
    "print(\"float type:\\n\", np.array(list_matrix, dtype=float))\n",
    "print(\"complex type:\\n\", np.array(list_matrix, dtype=complex))\n",
    "print(\"bool type:\\n\", np.array(list_matrix, dtype=bool))\n",
    "\n",
    "# Type variants with different memory footprint.\n",
    "a8 = np.array(list_matrix, dtype=\"int8\")\n",
    "print(\"\\nint8 type:\\n\", a8)\n",
    "print(\"element type: \", a8.dtype)\n",
    "\n",
    "print(\"a int 64 memory size:\", getsizeof(a),)\n",
    "print(\"a int 8 memory size:\", getsizeof(a8))\n"
   ]
  },
  {
   "cell_type": "markdown",
   "metadata": {},
   "source": [
    "### Inicializace array"
   ]
  },
  {
   "cell_type": "code",
   "execution_count": null,
   "metadata": {
    "scrolled": true
   },
   "outputs": [],
   "source": [
    "# sekvence: počátek, konec, krok\n",
    "print(\"arange: \", np.arange(1.1, 10, 2.1))\n",
    "\n",
    "# sekvence: počátek, konec, počet bodů\n",
    "print(\"linspace: \", np.linspace(1.1, 10, 4))\n",
    "\n",
    "# zeros, ones, eye, full\n",
    "print(\"zeros :\\n\", np.zeros((2,4)))\n",
    "print(\"ones :\\n\", np.ones((2,4)))\n",
    "print(\"full :\\n\", np.full((2,4), 3.14))\n",
    "\n",
    "# jednotkova matice\n",
    "print(\"eye :\\n\", np.eye(4))"
   ]
  },
  {
   "cell_type": "markdown",
   "metadata": {},
   "source": [
    "Další funkce pro tvorbu polí viz:\n",
    "\n",
    "[Numpy doc: array creation routines](https://docs.scipy.org/doc/numpy/reference/routines.array-creation.html)\n",
    "\n",
    "Pro čtení polí (matic) z textových tabulek lze použít funkci \n",
    "[`loadtxt`](https://docs.scipy.org/doc/numpy/reference/generated/numpy.loadtxt.html#numpy.loadtxt).\n",
    "Nicméně tato funkce je notoricky VELMI pomalá (stále pomalá v roce 2018, verze Numpy 1.16) a nevhodná pro \n",
    "soubory přesahující 10 tisíc řádek. Nejrychlejší funkce na čtení textových tabulek (CSV soubory) je funce z knihovny Pandas (viz. další přednášky).\n"
   ]
  },
  {
   "cell_type": "markdown",
   "metadata": {},
   "source": [
    "### Přetížené operátory\n",
    "Binární operátory je možné provádět pro dvě pole se stejným `shape`."
   ]
  },
  {
   "cell_type": "code",
   "execution_count": null,
   "metadata": {},
   "outputs": [],
   "source": [
    "a = np.array([[0,1,2], [1,2,3]])\n",
    "b = np.ones((2,3))"
   ]
  },
  {
   "cell_type": "code",
   "execution_count": null,
   "metadata": {},
   "outputs": [],
   "source": [
    "a + b"
   ]
  },
  {
   "cell_type": "code",
   "execution_count": null,
   "metadata": {},
   "outputs": [],
   "source": [
    "a * b"
   ]
  },
  {
   "cell_type": "code",
   "execution_count": null,
   "metadata": {},
   "outputs": [],
   "source": [
    "a > b\n"
   ]
  },
  {
   "cell_type": "code",
   "execution_count": null,
   "metadata": {},
   "outputs": [],
   "source": [
    "# I funkce lze aplikovat po jednotlivých elementech:\n",
    "np.sin(np.pi * a / 2)"
   ]
  },
  {
   "cell_type": "markdown",
   "metadata": {},
   "source": [
    "### Broadcasting\n",
    "Pokud operandy nemají stejný tvar, je možno operaci provést pokud lze jeden operand rozšířit na shape druhého operandu:\n",
    "1. Operand s nižším `ndim` se zleva doplní dimenzemi s rozměrem 1 do počtu dimenzí druhého operandu.\n",
    "2. Pokud v některé dimenzi je rozměr jednoho operandu N a rozměr druhého 1. Druhý operand se v této ose použije N krát.\n",
    "\n",
    "Obecná pravidla konverze polí menší dimenze na pole vyšší dimenze při (binárních) operacích:\n",
    "\n",
    "[Numpy broadcasting](https://docs.scipy.org/doc/numpy-1.13.0/reference/ufuncs.html#broadcasting)"
   ]
  },
  {
   "cell_type": "code",
   "execution_count": null,
   "metadata": {},
   "outputs": [],
   "source": [
    "# Nejjednodušší příklad, násobení skalárem\n",
    "b = 2 * a\n",
    "b"
   ]
  },
  {
   "cell_type": "code",
   "execution_count": null,
   "metadata": {},
   "outputs": [],
   "source": [
    "# ... je ekvivalentní násobení maticí dvojek.\n",
    "two = np.full((2,3), 2.0)\n",
    "two * a"
   ]
  },
  {
   "cell_type": "code",
   "execution_count": null,
   "metadata": {},
   "outputs": [],
   "source": [
    "# Broadcasting pro vektor a matici.\n",
    "a = np.arange(4).reshape((2,2))\n",
    "print(\"a matrix:\\n\", a)\n",
    "b = np.arange(3,5)\n",
    "print(\"b vector:\\n\", b)\n",
    "b+a"
   ]
  },
  {
   "cell_type": "markdown",
   "metadata": {},
   "source": [
    "### Array indexing and slicing\n",
    "Podpora více indexů najednou v hranatých závorkách pro indexování vícerozměrných polí.\n",
    "\n",
    "Řez ve formě `[start : end : step]` vybere v jedné dimenzi pouze indexy začínající `start`, s krokem `step` a menší než `end`."
   ]
  },
  {
   "cell_type": "code",
   "execution_count": null,
   "metadata": {},
   "outputs": [],
   "source": [
    "# Více indexů povoleno\n",
    "print(a)\n",
    "a[0,1]"
   ]
  },
  {
   "cell_type": "code",
   "execution_count": null,
   "metadata": {},
   "outputs": [],
   "source": [
    "# Pomocí řezů lze vybírat pod výběry.\n",
    "# první sloupec\n",
    "a[:, 0]"
   ]
  },
  {
   "cell_type": "code",
   "execution_count": null,
   "metadata": {},
   "outputs": [],
   "source": [
    "# Druhý řádek, prvky 0..2\n",
    "a[1, 0:2]"
   ]
  },
  {
   "cell_type": "code",
   "execution_count": null,
   "metadata": {},
   "outputs": [],
   "source": [
    "# Poslední dva prvky druhého řádku\n",
    "a[1, -3:-1]"
   ]
  },
  {
   "cell_type": "code",
   "execution_count": null,
   "metadata": {},
   "outputs": [],
   "source": [
    "# První řádek pozpátku.\n",
    "a[0,::-1]"
   ]
  },
  {
   "cell_type": "code",
   "execution_count": null,
   "metadata": {},
   "outputs": [],
   "source": [
    "a[0, ...]"
   ]
  },
  {
   "cell_type": "code",
   "execution_count": null,
   "metadata": {},
   "outputs": [],
   "source": [
    "# Konverze vektoru na matici, přidání axis\n",
    "b=a[0]\n",
    "print(b)\n",
    "print(b[None,:])\n",
    "print(b[:,None])"
   ]
  },
  {
   "cell_type": "markdown",
   "metadata": {},
   "source": [
    "### Array reshaping"
   ]
  },
  {
   "cell_type": "code",
   "execution_count": null,
   "metadata": {},
   "outputs": [],
   "source": [
    "# Rozbalení dat do prostého pole, může být vnitřně realizováno jen pomocí metadat.\n",
    "# ... vrátí se \"view\".\n",
    "b = a.ravel()\n",
    "print(b)\n",
    "b[0] =10\n",
    "a"
   ]
  },
  {
   "cell_type": "code",
   "execution_count": null,
   "metadata": {},
   "outputs": [],
   "source": [
    "# Stejné dělá metoda flatten, ale nyní vrací kopii skutčeně rozbalených dat. \n",
    "b = a.flatten()\n",
    "print(b)\n",
    "b[0] = 100\n",
    "a"
   ]
  },
  {
   "cell_type": "code",
   "execution_count": null,
   "metadata": {},
   "outputs": [],
   "source": [
    "# Změna tvaru pomocí přiřazení do attributu shape:\n",
    "b.shape = (3, 2)\n",
    "b"
   ]
  },
  {
   "cell_type": "code",
   "execution_count": null,
   "metadata": {},
   "outputs": [],
   "source": [
    "# transpozice\n",
    "a.T\n",
    "a.transpose()"
   ]
  },
  {
   "cell_type": "code",
   "execution_count": null,
   "metadata": {},
   "outputs": [],
   "source": [
    "# Obecná transpozice jak permutace axis.\n",
    "\n",
    "# Třírozměrný tenzor, osy si označíme pomocí prvků 1,2,3 \n",
    "xyz  = np.zeros( (2,2,2) )\n",
    "xyz[0,0,0] = 111\n",
    "xyz[1,0,0] = 1\n",
    "xyz[0,1,0] = 2\n",
    "xyz[0,0,1] = 3\n",
    "\n",
    "print(\"\\nxyz: \\n\", xyz)\n",
    "# Prohodíme první a druhou osu:\n",
    "print(\"\\ntranspose: \\n\", xyz.transpose((1,0,2)))"
   ]
  },
  {
   "cell_type": "markdown",
   "metadata": {},
   "source": [
    "## Operace s více poli.\n"
   ]
  },
  {
   "cell_type": "markdown",
   "metadata": {},
   "source": [
    "### Array stacking\n",
    "Posazení dvou matic (polí) nad sebe, vedle sebe ... "
   ]
  },
  {
   "cell_type": "code",
   "execution_count": null,
   "metadata": {},
   "outputs": [],
   "source": [
    "a= list_matrix =np.array([ list(range(3)), list(range(1,4))])\n",
    "print(a)\n",
    "b = a[0]\n",
    "print(b)"
   ]
  },
  {
   "cell_type": "code",
   "execution_count": null,
   "metadata": {},
   "outputs": [],
   "source": []
  },
  {
   "cell_type": "code",
   "execution_count": null,
   "metadata": {},
   "outputs": [],
   "source": [
    "# Více polí stejného shape na pole vyšší dimenze. \n",
    "# Např. z vektorů udělat matici (vektory jako sloupce)\n",
    "np.stack((a[0], a[1], b), axis=1)"
   ]
  },
  {
   "cell_type": "code",
   "execution_count": null,
   "metadata": {},
   "outputs": [],
   "source": [
    "# To samé v řádcích\n",
    "np.stack((a[0], a[1], b), axis=0)"
   ]
  },
  {
   "cell_type": "code",
   "execution_count": null,
   "metadata": {},
   "outputs": [],
   "source": [
    "# Více polí různý shape, zachování dimenze. Stejný shape kolmo na axise slučování.\n",
    "np.concatenate((a, b[None,:]), axis=0) # V axis 1 stejný shape. "
   ]
  },
  {
   "cell_type": "markdown",
   "metadata": {},
   "source": [
    "## Basic operations\n",
    "Get help and try functions:\n",
    "- min(), max(), maximum(), minimum()\n",
    "- average(), mean()\n",
    "- diff()\n",
    "- dot()\n",
    "- sum(), prod(), cumsum(), cumprod()"
   ]
  },
  {
   "cell_type": "markdown",
   "metadata": {},
   "source": [
    "### Linear algebra"
   ]
  },
  {
   "cell_type": "code",
   "execution_count": null,
   "metadata": {},
   "outputs": [],
   "source": [
    "import numpy.linalg as la"
   ]
  },
  {
   "cell_type": "markdown",
   "metadata": {},
   "source": [
    "\n",
    "## Klíčové funkce\n",
    "\n",
    "Numpy:\n",
    "- np.dot()\n",
    "- np.inner(), np.outer(), np.kron()\n",
    "- la.norm()\n",
    "- la.solve(), la.lu(), la.cholesky(), la.qr()\n",
    "- la.eig(), la.svd()\n",
    "\n",
    "np.fft module"
   ]
  },
  {
   "cell_type": "code",
   "execution_count": null,
   "metadata": {},
   "outputs": [],
   "source": [
    "# Vzniklá vnějším/tenzorovým součinem dvou vektorů.\n",
    "xy = np.outer(np.arange(1,3,1), np.arange(1,4,2))\n",
    "# Zápis stejného pomocí maticového součinu:\n",
    "\n",
    "print(\"xy: \\n\", xy)\n",
    "\n",
    "print(\"\\nshapes: \\n\", xy[:,:,None].shape, np.arange(1,5,3)[None,:].shape)\n",
    "xyz = np.dot(xy[:,:,None], np.arange(1,5,3)[None,:])\n"
   ]
  },
  {
   "cell_type": "code",
   "execution_count": null,
   "metadata": {},
   "outputs": [],
   "source": [
    "c = [[1, 12], [3,4],[1,4]]\n",
    "nc = np.array(c)\n",
    "nc\n",
    "nc[1]"
   ]
  },
  {
   "cell_type": "code",
   "execution_count": null,
   "metadata": {},
   "outputs": [],
   "source": [
    "np.minimum(nc[0, 1:], nc[1,])"
   ]
  },
  {
   "cell_type": "code",
   "execution_count": null,
   "metadata": {
    "scrolled": true
   },
   "outputs": [],
   "source": [
    "np.zeros((0,2))\n"
   ]
  },
  {
   "cell_type": "markdown",
   "metadata": {},
   "source": [
    "# Cvičení\n",
    "\n",
    "1. Nastudujte a vyzkoušejte si základní funkce z modulu np.random:\n",
    "   \n",
    "   random, rand, seed, choice\n",
    "   \n",
    "2. Vygenerujte:\n",
    "   \n",
    "   - náhodnou matici A, shape (3, 3)\n",
    "   - náhodný vektor b, shape (3, )\n",
    "   \n",
    "3. vyřešte soustavu $Ax=b$ a ověřte řešení pomocí výpočtu $Ax - b$\n",
    "\n",
    "4. Vygenerujte pole dvojic náhodných bodů (úseček) v jednotkovém čtverci, jako matici (N, 2, 2)\n",
    "\n",
    "5. Vypočtěte pole délek úseček (jednořádkový  kód).\n",
    "\n",
    "6. Vytvořte pole X, Y, Z, kde X obsahuje x souřednice prvních bodů, Y je y souřadnice prvních bodů, z je logaritmus délek úseček.\n",
    "\n",
    "7. Vypočtěte průmernou délku úseček a směrodatnou odchylku.\n",
    "\n",
    "8. Náročnější úkol, působení hmotných bodů: \n",
    "    \n",
    "   1. Vygenerujte náhodné pole bodů v jednotkové krychli a pole náhodných hmotností těchto bodů (libovolně).\n",
    "   2. Napište funkci, která pro zadaný index $i$. Vypočte sílu kterou na hmotný bod $X_i$ působí ostatní hmotné body:\n",
    "      \n",
    "      $$ F_i = \\sum_{j\\ne i} G \\frac{m_i m_j}{|R_{ij}|^3} R_{ij},\\quad R_{ij}  =  X_i - X_j$$\n"
   ]
  },
  {
   "cell_type": "code",
   "execution_count": null,
   "metadata": {},
   "outputs": [],
   "source": [
    "L=la.norm( mat[:,1,:] - mat[:,0,:], axis=1)\n",
    "X = mat[:, 0, 0]\n",
    "Z = np.log(L)"
   ]
  }
 ],
 "metadata": {
  "kernelspec": {
   "display_name": "Python 3",
   "language": "python",
   "name": "python3"
  },
  "language_info": {
   "codemirror_mode": {
    "name": "ipython",
    "version": 3
   },
   "file_extension": ".py",
   "mimetype": "text/x-python",
   "name": "python",
   "nbconvert_exporter": "python",
   "pygments_lexer": "ipython3",
   "version": "3.6.9"
  }
 },
 "nbformat": 4,
 "nbformat_minor": 2
}
