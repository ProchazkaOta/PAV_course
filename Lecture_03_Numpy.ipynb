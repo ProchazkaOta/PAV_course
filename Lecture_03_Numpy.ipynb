{
 "cells": [
  {
   "cell_type": "markdown",
   "metadata": {},
   "source": [
    "# Numpy\n",
    "\n",
    "Numpy je knihovna pro práci s vícerozměrnými poli (tenzory). Poskytuje efektivní a snadno použitelné uživatelské rozhraní ke standarním operacím s vícerozměrnými poli a k operacím lineární algebry. V tomto sešitu jsou uvedeny pouze základní funkce a koncepty. Kompletní přehled funkcí najdete v [referenční dokumentaci](https://docs.scipy.org/doc/numpy-1.13.0/reference/index.html)\n",
    "\n",
    "Další zdroje:\n",
    "- [Stanford lecture](https://web.stanford.edu/~schmit/cme193/lec/lec5.pdf)\n",
    "\n",
    "- [100 cvičení z Numpy](http://yvesguidet.no-ip.biz/complementsMureaux/100_numpy_exercises.pdf)\n",
    "\n",
    "- [Python and SciPy lecture notes](https://hal.inria.fr/hal-01206546/file/ScipyLectures-simple.pdf)\n",
    "\n",
    "Dále předpokládáme import knihovny ve tvaru:\n"
   ]
  },
  {
   "cell_type": "code",
   "execution_count": 2,
   "metadata": {},
   "outputs": [],
   "source": [
    "import numpy as np"
   ]
  },
  {
   "cell_type": "markdown",
   "metadata": {},
   "source": [
    "## Array\n",
    "Základní třída, která vlastní data doplňuje o metadata o jejich organizaci. Různé operace na řezání a transpozici dat fakticky jen mění metadata."
   ]
  },
  {
   "cell_type": "code",
   "execution_count": 3,
   "metadata": {
    "scrolled": true
   },
   "outputs": [
    {
     "name": "stdout",
     "output_type": "stream",
     "text": [
      "[[0, 1, 2], [1, 2, 3]]\n",
      "[[0 1 2]\n",
      " [1 2 3]] type <class 'numpy.ndarray'>\n"
     ]
    },
    {
     "data": {
      "text/plain": [
       "(2, 3)"
      ]
     },
     "execution_count": 3,
     "metadata": {},
     "output_type": "execute_result"
    }
   ],
   "source": [
    "# Konverze ze standarnich Pythnonich typu.\n",
    "list_matrix =[ list(range(3)), list(range(1,4))]\n",
    "print(list_matrix)\n",
    "a = np.array(list_matrix)\n",
    "print(a, 'type', type(a))\n",
    "\n",
    "\n",
    "# Dimenze pole\n",
    "a.shape"
   ]
  },
  {
   "cell_type": "markdown",
   "metadata": {},
   "source": [
    "### Inicializace array"
   ]
  },
  {
   "cell_type": "code",
   "execution_count": 32,
   "metadata": {
    "scrolled": true
   },
   "outputs": [
    {
     "name": "stdout",
     "output_type": "stream",
     "text": [
      "arange:  [ 1.1  3.2  5.3  7.4  9.5]\n",
      "linspace:  [  1.1          4.06666667   7.03333333  10.        ]\n",
      "zeros :\n",
      " [[ 0.  0.  0.  0.]\n",
      " [ 0.  0.  0.  0.]]\n",
      "ones :\n",
      " [[ 1.  1.  1.  1.]\n",
      " [ 1.  1.  1.  1.]]\n",
      "full :\n",
      " [[ 3.14  3.14  3.14  3.14]\n",
      " [ 3.14  3.14  3.14  3.14]]\n",
      "eye :\n",
      " [[ 1.  0.  0.  0.]\n",
      " [ 0.  1.  0.  0.]\n",
      " [ 0.  0.  1.  0.]\n",
      " [ 0.  0.  0.  1.]]\n"
     ]
    }
   ],
   "source": [
    "# sekvence: počátek, konec, krok\n",
    "print(\"arange: \", np.arange(1.1, 10, 2.1))\n",
    "\n",
    "# sekvence: počátek, konec, počet bodů\n",
    "print(\"linspace: \", np.linspace(1.1, 10, 4))\n",
    "\n",
    "# zeros, ones, eye, full\n",
    "print(\"zeros :\\n\", np.zeros((2,4)))\n",
    "print(\"ones :\\n\", np.ones((2,4)))\n",
    "print(\"full :\\n\", np.full((2,4), 3.14))\n",
    "\n",
    "# jednotkova matice\n",
    "print(\"eye :\\n\", np.eye(4))"
   ]
  },
  {
   "cell_type": "markdown",
   "metadata": {},
   "source": [
    "### Array - atributy\n",
    "\n",
    "    a.ndim\n",
    "    a.dtype\n",
    "    a.shape\n",
    "    a.size"
   ]
  },
  {
   "cell_type": "markdown",
   "metadata": {},
   "source": [
    "### Přetížené operátory\n",
    "Operace probíhají po elementech. Objekty s menším počtem dimenzí jsou opakovány, tak aby se shodoval tvar."
   ]
  },
  {
   "cell_type": "code",
   "execution_count": null,
   "metadata": {},
   "outputs": [],
   "source": []
  },
  {
   "cell_type": "code",
   "execution_count": 3,
   "metadata": {},
   "outputs": [
    {
     "data": {
      "text/plain": [
       "array([[0, 2, 4],\n",
       "       [2, 4, 6]])"
      ]
     },
     "execution_count": 3,
     "metadata": {},
     "output_type": "execute_result"
    }
   ],
   "source": [
    "# násobení skalárem\n",
    "b = 2 * a\n",
    "b"
   ]
  },
  {
   "cell_type": "code",
   "execution_count": 4,
   "metadata": {},
   "outputs": [
    {
     "data": {
      "text/plain": [
       "array([[ 1.,  1.,  1.],\n",
       "       [ 1.,  1.,  1.]])"
      ]
     },
     "execution_count": 4,
     "metadata": {},
     "output_type": "execute_result"
    }
   ],
   "source": [
    "# Skalár je konvertován na matici (2,3):\n",
    "one = np.ones( (2,3) )\n",
    "one"
   ]
  },
  {
   "cell_type": "code",
   "execution_count": 5,
   "metadata": {},
   "outputs": [
    {
     "data": {
      "text/plain": [
       "array([[ 2.,  2.,  2.],\n",
       "       [ 2.,  2.,  2.]])"
      ]
     },
     "execution_count": 5,
     "metadata": {},
     "output_type": "execute_result"
    }
   ],
   "source": [
    "two = 2 * one\n",
    "two"
   ]
  },
  {
   "cell_type": "code",
   "execution_count": 6,
   "metadata": {},
   "outputs": [
    {
     "data": {
      "text/plain": [
       "array([[ 0.,  2.,  4.],\n",
       "       [ 2.,  4.,  6.]])"
      ]
     },
     "execution_count": 6,
     "metadata": {},
     "output_type": "execute_result"
    }
   ],
   "source": [
    "two * a\n",
    "# Všiměte si jiného typu prvků, zde máme float, v poli 'a' je int."
   ]
  },
  {
   "cell_type": "code",
   "execution_count": 7,
   "metadata": {},
   "outputs": [
    {
     "data": {
      "text/plain": [
       "dtype('int64')"
      ]
     },
     "execution_count": 7,
     "metadata": {},
     "output_type": "execute_result"
    }
   ],
   "source": [
    "# typ prvků\n",
    "a.dtype"
   ]
  },
  {
   "cell_type": "code",
   "execution_count": 8,
   "metadata": {},
   "outputs": [
    {
     "data": {
      "text/plain": [
       "array([[ 0.,  1.,  2.],\n",
       "       [ 1.,  2.,  3.]])"
      ]
     },
     "execution_count": 8,
     "metadata": {},
     "output_type": "execute_result"
    }
   ],
   "source": [
    "# type lze určit v konstruktoru\n",
    "np.array(a, dtype=float)"
   ]
  },
  {
   "cell_type": "code",
   "execution_count": 9,
   "metadata": {},
   "outputs": [
    {
     "data": {
      "text/plain": [
       "array([[0, 3, 6],\n",
       "       [3, 6, 9]])"
      ]
     },
     "execution_count": 9,
     "metadata": {},
     "output_type": "execute_result"
    }
   ],
   "source": [
    "# Jiné operátory fungují stejně\n",
    "a + b"
   ]
  },
  {
   "cell_type": "code",
   "execution_count": 10,
   "metadata": {},
   "outputs": [
    {
     "data": {
      "text/plain": [
       "array([[  0.00000000e+00,   1.00000000e+00,   1.22464680e-16],\n",
       "       [  1.00000000e+00,   1.22464680e-16,  -1.00000000e+00]])"
      ]
     },
     "execution_count": 10,
     "metadata": {},
     "output_type": "execute_result"
    }
   ],
   "source": [
    "# I funkce lze aplikovat po jednotlivých elementech:\n",
    "np.sin(np.pi * a / 2)"
   ]
  },
  {
   "cell_type": "markdown",
   "metadata": {},
   "source": [
    "### Broadcasting\n",
    "Obecná pravidla konverze polí menší dimenze na pole vyšší dimenze při (binárních) operacích.\n",
    "\n",
    "[Numpy broadcasting](https://docs.scipy.org/doc/numpy-1.13.0/reference/ufuncs.html#broadcasting)"
   ]
  },
  {
   "cell_type": "markdown",
   "metadata": {},
   "source": [
    "### Array indexing and slicing\n",
    "Podpora více indexů najednou v hranatých závorkách pro indexování vícerozměrných polí.\n",
    "\n",
    "Řez ve formě `[start : end : step]` vybere v jedné dimenzi pouze indexy začínající `start`, s krokem `step` a menší než `end`."
   ]
  },
  {
   "cell_type": "code",
   "execution_count": 11,
   "metadata": {},
   "outputs": [
    {
     "data": {
      "text/plain": [
       "1"
      ]
     },
     "execution_count": 11,
     "metadata": {},
     "output_type": "execute_result"
    }
   ],
   "source": [
    "# Více indexů povoleno\n",
    "a[0, 1]"
   ]
  },
  {
   "cell_type": "code",
   "execution_count": 12,
   "metadata": {},
   "outputs": [
    {
     "data": {
      "text/plain": [
       "array([0, 1])"
      ]
     },
     "execution_count": 12,
     "metadata": {},
     "output_type": "execute_result"
    }
   ],
   "source": [
    "# Pomocí řezů lze vybírat pod výběry.\n",
    "# první sloupec\n",
    "a[:, 0]"
   ]
  },
  {
   "cell_type": "code",
   "execution_count": 13,
   "metadata": {},
   "outputs": [
    {
     "data": {
      "text/plain": [
       "array([1, 2])"
      ]
     },
     "execution_count": 13,
     "metadata": {},
     "output_type": "execute_result"
    }
   ],
   "source": [
    "# Druhý řádek, prvky 0..2\n",
    "a[1, 0:2]"
   ]
  },
  {
   "cell_type": "code",
   "execution_count": 14,
   "metadata": {},
   "outputs": [
    {
     "data": {
      "text/plain": [
       "array([1, 2])"
      ]
     },
     "execution_count": 14,
     "metadata": {},
     "output_type": "execute_result"
    }
   ],
   "source": [
    "# Poslední dva prvky druhého řádku\n",
    "a[1, -3:-1]"
   ]
  },
  {
   "cell_type": "code",
   "execution_count": 15,
   "metadata": {},
   "outputs": [
    {
     "data": {
      "text/plain": [
       "array([2, 1, 0])"
      ]
     },
     "execution_count": 15,
     "metadata": {},
     "output_type": "execute_result"
    }
   ],
   "source": [
    "# První řádek pozpátku.\n",
    "a[0,::-1]"
   ]
  },
  {
   "cell_type": "code",
   "execution_count": 16,
   "metadata": {},
   "outputs": [
    {
     "data": {
      "text/plain": [
       "array([0, 1, 2])"
      ]
     },
     "execution_count": 16,
     "metadata": {},
     "output_type": "execute_result"
    }
   ],
   "source": [
    "a[0, ...]"
   ]
  },
  {
   "cell_type": "code",
   "execution_count": 15,
   "metadata": {},
   "outputs": [
    {
     "name": "stdout",
     "output_type": "stream",
     "text": [
      "[[0 1 2]]\n",
      "[[0]\n",
      " [1]\n",
      " [2]]\n"
     ]
    }
   ],
   "source": [
    "# Konverze vektoru na matici, přidání axis\n",
    "b=a[0]\n",
    "print(b[None,:])\n",
    "print(b[:,None])"
   ]
  },
  {
   "cell_type": "markdown",
   "metadata": {},
   "source": [
    "### Array reshaping"
   ]
  },
  {
   "cell_type": "code",
   "execution_count": 17,
   "metadata": {},
   "outputs": [
    {
     "data": {
      "text/plain": [
       "array([[10,  1,  2],\n",
       "       [ 1,  2,  3]])"
      ]
     },
     "execution_count": 17,
     "metadata": {},
     "output_type": "execute_result"
    }
   ],
   "source": [
    "# Rozbalení dat do prostého pole, může být vnitřně realizováno jen pomocí metadat.\n",
    "# ... vrátí se \"view\".\n",
    "b = a.ravel()\n",
    "b[0] =10\n",
    "a"
   ]
  },
  {
   "cell_type": "code",
   "execution_count": 18,
   "metadata": {},
   "outputs": [
    {
     "data": {
      "text/plain": [
       "array([[10,  1,  2],\n",
       "       [ 1,  2,  3]])"
      ]
     },
     "execution_count": 18,
     "metadata": {},
     "output_type": "execute_result"
    }
   ],
   "source": [
    "# Stejné dělá metoda flatten, ale nyní vrací kopii skutčeně rozbalených dat. \n",
    "b = a.flatten()\n",
    "b[0] = 100\n",
    "a"
   ]
  },
  {
   "cell_type": "code",
   "execution_count": 19,
   "metadata": {},
   "outputs": [
    {
     "data": {
      "text/plain": [
       "array([[100,   1],\n",
       "       [  2,   1],\n",
       "       [  2,   3]])"
      ]
     },
     "execution_count": 19,
     "metadata": {},
     "output_type": "execute_result"
    }
   ],
   "source": [
    "# Změna tvaru pomocí přiřazení do attributu shape:\n",
    "b.shape = (3, 2)\n",
    "b"
   ]
  },
  {
   "cell_type": "code",
   "execution_count": 20,
   "metadata": {},
   "outputs": [
    {
     "data": {
      "text/plain": [
       "array([[10,  1],\n",
       "       [ 1,  2],\n",
       "       [ 2,  3]])"
      ]
     },
     "execution_count": 20,
     "metadata": {},
     "output_type": "execute_result"
    }
   ],
   "source": [
    "# transpozice\n",
    "a.T\n",
    "a.transpose()"
   ]
  },
  {
   "cell_type": "code",
   "execution_count": 33,
   "metadata": {},
   "outputs": [
    {
     "name": "stdout",
     "output_type": "stream",
     "text": [
      "xy: \n",
      " [[1 3]\n",
      " [2 6]]\n",
      "\n",
      "xyz: \n",
      " [[[ 1  4]\n",
      "  [ 3 12]]\n",
      "\n",
      " [[ 2  8]\n",
      "  [ 6 24]]]\n",
      "\n",
      "transpose: \n",
      " [[[ 1  4]\n",
      "  [ 2  8]]\n",
      "\n",
      " [[ 3 12]\n",
      "  [ 6 24]]]\n"
     ]
    }
   ],
   "source": [
    "# Zkusit:\n",
    "xy = np.outer(np.arange(1,3,1), np.arange(1,4,2))\n",
    "print(\"xy: \\n\", xy)\n",
    "xyz = np.dot(xy[:,:,None], np.arange(1,5,3)[None,:])\n",
    "print(\"\\nxyz: \\n\", xyz)\n",
    "print(\"\\ntranspose: \\n\",np.transpose(xyz, (1,0,2)))"
   ]
  },
  {
   "cell_type": "markdown",
   "metadata": {},
   "source": [
    "## Operace s více poli.\n"
   ]
  },
  {
   "cell_type": "markdown",
   "metadata": {},
   "source": [
    "### Array stacking\n",
    "Posazení dvou matic (polí) nad sebe, vedle sebe ... "
   ]
  },
  {
   "cell_type": "code",
   "execution_count": 40,
   "metadata": {},
   "outputs": [
    {
     "data": {
      "text/plain": [
       "(array([[0, 1, 2],\n",
       "        [1, 2, 3]]), array([0, 1, 2]))"
      ]
     },
     "execution_count": 40,
     "metadata": {},
     "output_type": "execute_result"
    }
   ],
   "source": [
    "a, b"
   ]
  },
  {
   "cell_type": "code",
   "execution_count": null,
   "metadata": {},
   "outputs": [],
   "source": []
  },
  {
   "cell_type": "code",
   "execution_count": 49,
   "metadata": {},
   "outputs": [
    {
     "data": {
      "text/plain": [
       "array([[0, 1, 0],\n",
       "       [1, 2, 1],\n",
       "       [2, 3, 2]])"
      ]
     },
     "execution_count": 49,
     "metadata": {},
     "output_type": "execute_result"
    }
   ],
   "source": [
    "# Více polí stejného shape na pole vyšší dimenze. \n",
    "# Např. z vektorů udělat matici (vektory jako sloupce)\n",
    "np.stack((a[0], a[1], b), axis=1)"
   ]
  },
  {
   "cell_type": "code",
   "execution_count": 50,
   "metadata": {},
   "outputs": [
    {
     "data": {
      "text/plain": [
       "array([[0, 1, 2],\n",
       "       [1, 2, 3],\n",
       "       [0, 1, 2]])"
      ]
     },
     "execution_count": 50,
     "metadata": {},
     "output_type": "execute_result"
    }
   ],
   "source": [
    "# To samé v řádcích\n",
    "np.stack((a[0], a[1], b), axis=0)"
   ]
  },
  {
   "cell_type": "code",
   "execution_count": 48,
   "metadata": {},
   "outputs": [
    {
     "data": {
      "text/plain": [
       "array([[0, 1, 2],\n",
       "       [1, 2, 3],\n",
       "       [0, 1, 2]])"
      ]
     },
     "execution_count": 48,
     "metadata": {},
     "output_type": "execute_result"
    }
   ],
   "source": [
    "# Více polí různý shape, zachování dimenze. Stejný shape kolmo na axise slučování.\n",
    "np.concatenate((a, b[None,:]), axis=0) # V axis 1 stejný shape. "
   ]
  },
  {
   "cell_type": "markdown",
   "metadata": {},
   "source": [
    "## Basic operations\n",
    "Get help and try functions:\n",
    "- min(), max(), maximum(), minimum()\n",
    "- average(), mean()\n",
    "- diff()\n",
    "- dot()\n",
    "- sum(), prod(), cumsum(), cumprod()"
   ]
  },
  {
   "cell_type": "markdown",
   "metadata": {},
   "source": [
    "### Linear algebra"
   ]
  },
  {
   "cell_type": "code",
   "execution_count": null,
   "metadata": {},
   "outputs": [],
   "source": [
    "import numpy.linalg as la"
   ]
  },
  {
   "cell_type": "markdown",
   "metadata": {},
   "source": [
    "## Klíčové funkce\n",
    "\n",
    "Numpy:\n",
    "- np.dot()\n",
    "- np.inner(), np.outer(), np.kron()\n",
    "- la.norm()\n",
    "- la.solve(), la.lu(), la.cholesky(), la.qr()\n",
    "- la.eig(), la.svd()\n",
    "\n",
    "np.fft module"
   ]
  },
  {
   "cell_type": "code",
   "execution_count": null,
   "metadata": {},
   "outputs": [],
   "source": [
    "c = [[1, 12], [3,4],[1,4]]\n",
    "nc = np.array(c)\n",
    "nc\n",
    "nc[1]"
   ]
  },
  {
   "cell_type": "code",
   "execution_count": null,
   "metadata": {},
   "outputs": [],
   "source": [
    "np.minimum(nc[0, 1:], nc[1,])"
   ]
  },
  {
   "cell_type": "markdown",
   "metadata": {},
   "source": [
    "# Cvičení\n",
    "\n",
    "1. Nastudujte a vyzkoušejte si základní funkce z modulu np.random:\n",
    "   \n",
    "   random, rand, seed, choice\n",
    "   \n",
    "2. Vygenerujte:\n",
    "   \n",
    "   - náhodnou matici A, shape (3, 3)\n",
    "   - náhodný vektor b, shape (3, )\n",
    "   \n",
    "3. vyřešte soustavu $Ax=b$ a ověřte řešení pomocí výpočtu $Ax - b$\n",
    "\n",
    "4. Vygenerujte pole dvojic náhodných bodů (úseček) v jednotkovém čtverci, jako matici (N, 2, 2)\n",
    "\n",
    "5. Vypočtěte pole délek úseček (jednořádkový  kód).\n",
    "\n",
    "6. Vytvořte pole X, Y, Z, kde X obsahuje x souřednice prvních bodů, Y je y souřadnice prvních bodů, z je logaritmus délek úseček.\n",
    "\n",
    "7. Vypočtěte průmernou délku úseček a směrodatnou odchylku.\n"
   ]
  }
 ],
 "metadata": {
  "kernelspec": {
   "display_name": "Python 3",
   "language": "python",
   "name": "python3"
  },
  "language_info": {
   "codemirror_mode": {
    "name": "ipython",
    "version": 3
   },
   "file_extension": ".py",
   "mimetype": "text/x-python",
   "name": "python",
   "nbconvert_exporter": "python",
   "pygments_lexer": "ipython3",
   "version": "3.5.2"
  }
 },
 "nbformat": 4,
 "nbformat_minor": 2
}
