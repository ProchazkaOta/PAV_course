{
 "cells": [
  {
   "cell_type": "markdown",
   "metadata": {},
   "source": [
    "# O kurzu\n",
    "\n",
    "Cílem kurzu je naznačit možnosti využití jazyka Python a vybraných knihoven ve vědecko-technických výpočtech. \n",
    "Vzhledem k velmi omezenému časovému prostoru se můžeme podorbně seznámit jen s velmi omezeným rozsahem nástrojů a postupů, ale pokusím se předložit dostatek literatury a odkazů pro dohledání dalších potřebných detailů. Ostatně vzhledem k velmi rychlému vývoji je nutné být ve střehu a udržovat si přehled průběžně.\n",
    "\n",
    "Bohužel není vůbec pokryta tématika strojového učení, kde je Python hojně používán.\n",
    "\n",
    "## Přehled literatury\n",
    "Některé níže uvedené knihy je elektronicky možno najít na adrese: bacula.nti.tul.cz (lomeno) ~jan.brezina/vyuka_PAV\n",
    "\n",
    "Většina kurzu je pokryta knihou (dále citováno jako NP):\n",
    "Robert Johansson: [Numerical Python](https://www.apress.com/gp/book/9781484205549)\n",
    "\n",
    "Ohledně **IPythonu** se můžou hodit některé kapitoly z:\n",
    "Cyrille Rossant: [IPython Interactive Computing ...](https://www.amazon.com/IPython-Interactive-Computing-Visualization-Cookbook/dp/1783284811), [nové vydání 2018](http://ipython-books.github.io/)\n",
    "... kdo se vyleká počtem stránek, tak může použít zkrácenou on-line verzi: [IPython Mini Cookbook](https://github.com/ipython-books/minibook-2nd-code)\n",
    "\n",
    "pro obecnější informace k Jupyteru:\n",
    "Dan Toomey: [Learning Jupiter](https://www.packtpub.com/big-data-and-business-intelligence/learning-jupyter)\n",
    "\n",
    "Pro úvod do jazyka **Python** dobře poslouží:\n",
    "Alen Downey at al. : [Learning with Python](http://www.foo.be/docs-free/thinkCSpy.pdf) \n",
    "pro hlubší studium lze doporučit relativně podrobnou knihu:\n",
    "Mark Lutz: [Learning Python](http://shop.oreilly.com/product/0636920028154.do)\n",
    "\n"
   ]
  },
  {
   "cell_type": "markdown",
   "metadata": {},
   "source": [
    "# IPython\n",
    "\n",
    "IPython umožňuje tvořit interaktivní sešity (notebook) obsahující kusy kódu v Pythonu a doprovodný text formátovaný pomocí Markdown s možností psaní vzorců v Latexu. Poznámky k přednáškám jsou psané v IPythonu a  v něm také budeme provádět většinu experimentů s Pythonem a vědeckými knihovnami.\n",
    "\n",
    "\n",
    "## Instalace\n",
    "Nainstalujte si kompletní Python systém [Anaconda](https://www.anaconda.com/download). Funguje pod Windows i Linuxem. Instalace zabere skoro 5GB, ale obsahuje již nainstalované všechny knihovny a závislosti co budeme potřebovat.\n",
    "\n",
    "## Spuštění\n",
    "V Linuxu (předpokládán výchozí adresář instalace):\n",
    "1. Vytvořte si adresář kde chcete ukládat IPython sešity. `mkdir $HOME/inotebooks`\n",
    "2. Nastavte se do adresáře: `cd $HOME/inotebooks`\n",
    "3. Spusťte ipython: \n",
    "    ```\n",
    "       $HOME/anaconda3/bin/jupyter notebook \n",
    "    ```\n",
    "\n",
    "   Zároveň by se vám měl spustit i prohlížeč s webovým frontendem.\n",
    "\n",
    "Pro další spouštění je vhodné si vytvořit zástupce na plochu, nebo skript.\n",
    "\n",
    "Postup pro Windows lze najít v Learning Python, budu rád když to někdo vyzkouší a popíše jakožto cvičení z IPythonu (resp. Markdownu).\n",
    "\n",
    "\n"
   ]
  },
  {
   "cell_type": "markdown",
   "metadata": {},
   "source": [
    "## Stažení sešitů přednášky - Git\n",
    "Sešity jsou dostupné v GitHub [repozitáři](https://github.com/jbrezmorf/PAV_course). \n",
    "Možné je stažení ve formě ZIP archívu, ale lepší je naklonování repozitáře pomocí nástroje `git`:\n",
    "\n",
    "    cd $HOME/inotebooks\n",
    "    git clone https://github.com/jbrezmorf/PAV_course.git\n",
    "    \n",
    "Stažení dalších aktualizací přednášek se pak provede:\n",
    "\n",
    "    cd $HOME/inotebooks/PAV_course\n",
    "    git pull\n",
    "    \n",
    "Aby nedošlo ke konfliktům při aktualizacích s vašimi upravami sešitů, je vhodné si ke každému sešitu udělat vlastní \n",
    "kopii a tam provádět úpravy. Je pak možné si přetáhnout buňky mezi aktualizovanou a vaší verzí sešitu. Změny v repozitáři\n",
    "je možno sledovat v [přehledu commitů](https://github.com/jbrezmorf/PAV_course/commits/master).\n",
    "    "
   ]
  },
  {
   "cell_type": "markdown",
   "metadata": {},
   "source": [
    "# Klávesové zkratky\n",
    "\n",
    "- **Alt-M** Přepnutí buňky na textovou (Markdown).\n",
    "- **Alt-1**, **Alt-2**, ... Přepnutí buňky na nadpis úrovně 1, 2, ...\n",
    "- **Ctrl-Enter** Spuštění buňky.\n",
    "- **Alt-Enter** Spuštění buňky a přidání nové.\n",
    "- **d, d** - smazání buňky\n",
    "\n",
    "Další zkratky viz. ikonka klávesnice v menu. Pozor, na Linuxu se levý a pravý Alt chová jinak."
   ]
  },
  {
   "cell_type": "markdown",
   "metadata": {},
   "source": [
    "# Textová (Markdown) buňka\n",
    "\n",
    "Textové buňky umožňují formátování textu pomocí značkovacího jazyka Markdown a formátování matematických vzorců pomocí Latexu. [Úvod do Markdown](http://jupyter-notebook.readthedocs.io/en/stable/examples/Notebook/Working%20With%20Markdown%20Cells.html) formátování a jeho rozšířeních v IPython sešitech.  \n",
    "\n",
    "Přehled formátovací syntaxe Markdown: [Markdown cheatsheet](https://scottboms.com/downloads/documentation/markdown_cheatsheet.pdf)\n",
    "\n",
    "## Tabulky\n",
    "Malé tabulky je možno zapsat pomocí Markdown (některé prohlížeče nezobrazují dobře):\n",
    "\n",
    "| Jméno | Příjmení | Věk |\n",
    "| :--- | :---: | ---: |\n",
    "| left align | center | right align |\n",
    "| Antonín | Bumba | 21 |\n",
    "| Květa | Poláková | 22 |\n",
    "\n",
    "Tabulky a grafy generované z dat je však lépe generovat pomocí Python kódu (viz. později lekce o Pandas).\n",
    "\n",
    "\n",
    "\n",
    "## Matematické vzorce\n",
    "\n",
    "\n",
    "    Jednoduchý dolar $ pro matematické formátování v textu:\n",
    "    $A$, $A_i$, $A^2$. A text pokračuje.\n",
    "\n",
    "\n",
    "Jednoduchý dolar \\$ pro matematické formátování v textu:\n",
    "$A$, $A_i$, $A^2$. A text pokračuje.\n",
    "\n",
    "Dvojitý dolar pro samostatný matematický vzorec:\n",
    "\n",
    "    $$\\sum_{i=1}^\\infty \\frac{1}{i^2} = \\frac{\\pi^2}{6}$$\n",
    "\n",
    "$$\\sum_{i=1}^\\infty \\frac{1}{i^2} = \\frac{\\pi^2}{6}$$\n",
    "    "
   ]
  },
  {
   "cell_type": "markdown",
   "metadata": {},
   "source": [
    "[Další příklady rovnic](http://jupyter-notebook.readthedocs.io/en/stable/examples/Notebook/Typesetting%20Equations.html)\n",
    "\n",
    "[Publikování pomocí IPython sešitů](http://blog.juliusschulz.de/blog/ultimate-ipython-notebook)\n",
    "\n",
    "[Online editor Latex výrazů](https://www.codecogs.com/latex/eqneditor.php)"
   ]
  },
  {
   "cell_type": "markdown",
   "metadata": {},
   "source": [
    "Automaticky se rozpoznají i jiná LaTeX prostředí:"
   ]
  },
  {
   "cell_type": "markdown",
   "metadata": {},
   "source": [
    "\\begin{align}\n",
    "\\label{eq:Maxwel1}\n",
    "\\nabla \\times \\vec{\\mathbf{B}} -\\, \\frac1c\\, \\frac{\\partial\\vec{\\mathbf{E}}}{\\partial t} & = \\frac{4\\pi}{c}\\vec{\\mathbf{j}} \\\\\n",
    "\\nabla \\cdot \\vec{\\mathbf{E}} & = 4 \\pi \\rho \\\\\n",
    "\\nabla \\times \\vec{\\mathbf{E}}\\, +\\, \\frac1c\\, \\frac{\\partial\\vec{\\mathbf{B}}}{\\partial t} & = \\vec{\\mathbf{0}} \\\\\n",
    "\\nabla \\cdot \\vec{\\mathbf{B}} & = 0\n",
    "\\end{align}"
   ]
  },
  {
   "cell_type": "markdown",
   "metadata": {},
   "source": [
    "## Číslování rovnic\n",
    "Rovnice se automaticky nečíslují, číslování lze zapnout pomocí spuštění následujícího kódu:"
   ]
  },
  {
   "cell_type": "code",
   "execution_count": 2,
   "metadata": {},
   "outputs": [
    {
     "data": {
      "application/javascript": [
       "  MathJax.Hub.Config({\n",
       "    TeX: { equationNumbers: { autoNumber: \"AMS\" } }\n",
       "  });"
      ],
      "text/plain": [
       "<IPython.core.display.Javascript object>"
      ]
     },
     "metadata": {},
     "output_type": "display_data"
    }
   ],
   "source": [
    "  %%javascript\n",
    "    MathJax.Hub.Config({\n",
    "      TeX: { equationNumbers: { autoNumber: \"AMS\" } }\n",
    "    });"
   ]
  },
  {
   "cell_type": "markdown",
   "metadata": {},
   "source": [
    "Lze napsat odkaz na předchozí rovnici $\\eqref{eq:Maxwel1}$. Ale nezobrazuje se správně číslo. Pro tento problém zdá se zatím není jasné řešení."
   ]
  },
  {
   "cell_type": "markdown",
   "metadata": {},
   "source": [
    "# Ostatní buňky obsahují spustitelný kód"
   ]
  },
  {
   "cell_type": "code",
   "execution_count": 3,
   "metadata": {},
   "outputs": [
    {
     "name": "stdout",
     "output_type": "stream",
     "text": [
      "2\n"
     ]
    }
   ],
   "source": [
    "# Tento sešit používá python 3. Můžete vytvořit sešity i pro jiné jazyky.\n",
    "print(1 + 1)"
   ]
  },
  {
   "cell_type": "markdown",
   "metadata": {},
   "source": [
    "# Cvičení"
   ]
  },
  {
   "cell_type": "markdown",
   "metadata": {},
   "source": [
    "Vytvořte sešit obsahující následující prvky:\n",
    "\n",
    "- Nadpisy první a druhé úrovně.\n",
    "- Dva odstavce obyčejného textu.\n",
    "- Příklad kódu (neforátováno) v textu.\n",
    "- Odrážkový a číslovaný seznam.\n",
    "- Jednu buňku se spustitelným kódem"
   ]
  },
  {
   "cell_type": "markdown",
   "metadata": {},
   "source": [
    "Vytvořte matematické vzorce obsahující:\n",
    "- řecká písmena\n",
    "- složené zlomky\n",
    "- různě velké závorky\n",
    "- sumu, integrál, limitu\n",
    "- matici 2x2 s prvky 1, 2, 3, 4"
   ]
  }
 ],
 "metadata": {
  "kernelspec": {
   "display_name": "Python 3",
   "language": "python",
   "name": "python3"
  },
  "language_info": {
   "codemirror_mode": {
    "name": "ipython",
    "version": 3
   },
   "file_extension": ".py",
   "mimetype": "text/x-python",
   "name": "python",
   "nbconvert_exporter": "python",
   "pygments_lexer": "ipython3",
   "version": "3.5.2"
  }
 },
 "nbformat": 4,
 "nbformat_minor": 2
}
