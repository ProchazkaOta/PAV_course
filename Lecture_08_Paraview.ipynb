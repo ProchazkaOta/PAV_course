{
 "cells": [
  {
   "cell_type": "markdown",
   "metadata": {},
   "source": [
    "Instalace:\n",
    "    [Paraview download](https://www.paraview.org/download/)\n"
   ]
  },
  {
   "cell_type": "markdown",
   "metadata": {},
   "source": [
    "Paraview má dvě části:\n",
    "    \n",
    "    Client (GUI, Python) - nemá vlastní data a filtry, ale jen jejich Proxy\n",
    "    Server - má data, může být distribuovaný na více strojích přes MPI\n",
    "    \n",
    "Skriptování na Clientu:\n",
    "    - lze zadávat vizualizační operace a filtry, ale ne přímo manipulovat s daty\n",
    "    - lze také zasahovat do GUI, přidávat funkce a pod.\n",
    "\n",
    "Skriptování na Serveru:\n",
    "    - PythonCalculator\n",
    "    - ProgrammableFilter\n",
    "    \n",
    "Paraview je postaveno na knihovne VTK, ktera take ma Python rozhrani.    "
   ]
  },
  {
   "cell_type": "markdown",
   "metadata": {},
   "source": [
    "Zdroje:\n",
    "    - [Python Client Scripting](https://www.paraview.org/Wiki/ParaView/Python_Scripting)\n",
    "    - [Python doc. module simple](https://www.paraview.org/ParaView/Doc/Nightly/www/py-doc/index.html)\n",
    "    - [VTK Python examples](https://www.vtk.org/Wiki/VTK/Examples/Python)    "
   ]
  },
  {
   "cell_type": "markdown",
   "metadata": {},
   "source": [
    "Simple interactive script\n",
    "===\n",
    "Script 'pv_sphere.py'\n",
    "```\n",
    "from paraview.simple import *\n",
    "import vtk\n",
    "\n",
    "# Create a view\n",
    "view = CreateRenderView()\n",
    "\n",
    "# Initialize a new interactive Window\n",
    "iren = vtk.vtkRenderWindowInteractor()\n",
    "iren.SetInteractorStyle(vtk.vtkInteractorStyleTrackball())\n",
    "iren.SetRenderWindow(view.GetRenderWindow())\n",
    "iren.Initialize()\n",
    "\n",
    "#################\n",
    "# Build pipeline\n",
    "\n",
    "# Create a new sphere proxy on the active connection and register it\n",
    "# in the sources group.\n",
    "sphere = Sphere(ThetaResolution=8, PhiResolution=32)\n",
    "\n",
    "# Apply a shrink filter\n",
    "shrink = Shrink(sphere)\n",
    "\n",
    "# Turn the visiblity of the shrink object on.\n",
    "Show(shrink)\n",
    "\n",
    "# Render the scene\n",
    "Render()\n",
    "\n",
    "# Start interaction\n",
    "iren.Start()\n",
    "```"
   ]
  },
  {
   "cell_type": "markdown",
   "metadata": {},
   "source": [
    "Python Calculator\n",
    "==\n",
    "Unlike  \"Calculator filter\" can operate on more inputs, usefull to compute difference between two \n",
    "solutions.\n",
    "\n",
    "[Python Calculator overview](https://www.paraview.org/Wiki/Python_calculator_and_programmable_filter)\n",
    "[Python Calculator new overview](https://www.paraview.org/Wiki/index.php?title=Python_Calculator&redirect=no\n",
    "                                )"
   ]
  },
  {
   "cell_type": "markdown",
   "metadata": {},
   "source": [
    "ProgrammableFilter\n",
    "== \n",
    "[ProgrammableFilter examples](https://www.paraview.org/Wiki/Python_Programmable_Filter)\n",
    "\n",
    "**Center Data using Numpy**\n",
    "\n",
    "```\n",
    "from paraview.vtk import dataset_adapter as DA\n",
    " \n",
    "pdi = self.GetInputDataObject(0,0)\n",
    "pdo = self.GetOutputDataObject(0)\n",
    "pdo.CopyAttributes(pdi)\n",
    " \n",
    "old_pts = inputs[0].Points\n",
    "new_pts = old_pts - mean(old_pts,axis=0)\n",
    "arr = DA.numpyTovtkDataArray(new_pts, 'newpts')\n",
    "pdo.GetPoints().SetData(arr)\n",
    "```"
   ]
  }
 ],
 "metadata": {
  "kernelspec": {
   "display_name": "Python 3",
   "language": "python",
   "name": "python3"
  },
  "language_info": {
   "codemirror_mode": {
    "name": "ipython",
    "version": 3
   },
   "file_extension": ".py",
   "mimetype": "text/x-python",
   "name": "python",
   "nbconvert_exporter": "python",
   "pygments_lexer": "ipython3",
   "version": "3.5.2"
  }
 },
 "nbformat": 4,
 "nbformat_minor": 2
}
