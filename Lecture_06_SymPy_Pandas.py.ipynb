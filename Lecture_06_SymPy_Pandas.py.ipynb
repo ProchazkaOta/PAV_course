{
 "cells": [
  {
   "cell_type": "markdown",
   "metadata": {},
   "source": [
    "# Pandas"
   ]
  },
  {
   "cell_type": "markdown",
   "metadata": {},
   "source": [
    "# Seaborn - high level statistical plotting"
   ]
  },
  {
   "cell_type": "code",
   "execution_count": null,
   "metadata": {},
   "outputs": [],
   "source": [
    "# libraries and data\n",
    "import seaborn as sns\n",
    "import pandas as pd\n",
    " \n",
    "# Dataset:\n",
    "a = pd.DataFrame({ 'group' : np.repeat('A',500), 'value': np.random.normal(10, 5, 500) })\n",
    "b = pd.DataFrame({ 'group' : np.repeat('B',500), 'value': np.random.normal(13, 1.2, 500) })\n",
    "c = pd.DataFrame({ 'group' : np.repeat('B',500), 'value': np.random.normal(18, 1.2, 500) })\n",
    "d = pd.DataFrame({ 'group' : np.repeat('C',20), 'value': np.random.normal(25, 4, 20) })\n",
    "e = pd.DataFrame({ 'group' : np.repeat('D',100), 'value': np.random.uniform(12, size=100) })\n",
    "df=a.append(b).append(c).append(d).append(e)\n",
    " \n",
    "# Usual boxplot\n",
    "fig = plt.figure(figsize=(10,5))\n",
    "# Axis = podgraf, zde jen jeden.\n",
    "ax1 = fig.add_subplot(111)\n",
    "sns.boxplot(x='group', y='value', data=df)\n",
    "plt.show()\n",
    "\n",
    "ax = sns.boxplot(x='group', y='value', data=df)\n",
    "ax = sns.stripplot(x='group', y='value', data=df, color=\"orange\", jitter=0.2, size=2.5)\n",
    "plt.title(\"Boxplot with jitter\", loc=\"left\")\n",
    "plt.show()\n",
    "\n",
    "sns.violinplot( x='group', y='value', data=df)\n",
    "plt.title(\"Violin plot\", loc=\"left\")\n"
   ]
  },
  {
   "cell_type": "markdown",
   "metadata": {},
   "source": [
    "\n",
    "\n",
    "\n",
    "\n",
    "\n",
    "\n",
    "\n",
    "\n",
    "## Resources\n",
    "\n",
    "[Taming Math and Physics with SymPy](https://minireference.com/static/tutorials/sympy_tutorial.pdf)\n",
    "\n",
    "[Sympy Examples](https://github.com/sympy/sympy/wiki/Quick-examples)"
   ]
  },
  {
   "cell_type": "markdown",
   "metadata": {},
   "source": [
    "## Basic objects"
   ]
  },
  {
   "cell_type": "code",
   "execution_count": null,
   "metadata": {},
   "outputs": [],
   "source": [
    "# Setup.\n",
    "# Sympy is usefull mainly for interactive work so simplify notation as much as possible\n",
    "# don't worry about cluttering the namespace.\n",
    "from sympy import *\n",
    "from IPython.display import display\n",
    "# pretty printing in IPython\n",
    "init_printing(use_latex='mathjax')\n"
   ]
  },
  {
   "cell_type": "code",
   "execution_count": 122,
   "metadata": {},
   "outputs": [
    {
     "data": {
      "image/png": "[encoded data removed]",
      "text/latex": [
       "$$\\frac{1}{3}$$"
      ],
      "text/plain": [
       "1/3"
      ]
     },
     "metadata": {},
     "output_type": "display_data"
    },
    {
     "name": "stdout",
     "output_type": "stream",
     "text": [
      "<class 'sympy.core.numbers.Rational'>\n"
     ]
    },
    {
     "data": {
      "image/png": "[encoded data removed]",
      "text/latex": [
       "$$1$$"
      ],
      "text/plain": [
       "1"
      ]
     },
     "execution_count": 122,
     "metadata": {},
     "output_type": "execute_result"
    }
   ],
   "source": [
    "# Simple expressions\n",
    "third = S(1)/3\n",
    "display(third)\n",
    "print(type(third))\n",
    "3 * third\n",
    "\n",
    "\n"
   ]
  },
  {
   "cell_type": "code",
   "execution_count": 63,
   "metadata": {},
   "outputs": [
    {
     "data": {
      "text/latex": [
       "$$1$$"
      ],
      "text/plain": [
       "1"
      ]
     },
     "execution_count": 63,
     "metadata": {},
     "output_type": "execute_result"
    }
   ],
   "source": [
    "# Evaluation of fractions\n",
    "\n",
    "S(1) / 3 + S(2) / 3"
   ]
  },
  {
   "cell_type": "code",
   "execution_count": 70,
   "metadata": {},
   "outputs": [
    {
     "data": {
      "text/latex": [
       "$$2$$"
      ],
      "text/plain": [
       "2"
      ]
     },
     "execution_count": 70,
     "metadata": {},
     "output_type": "execute_result"
    }
   ],
   "source": [
    "64**(S(1)/2 - S(1)/3)"
   ]
  },
  {
   "cell_type": "code",
   "execution_count": 76,
   "metadata": {},
   "outputs": [
    {
     "data": {
      "text/latex": [
       "$$2.0$$"
      ],
      "text/plain": [
       "2.0"
      ]
     },
     "execution_count": 76,
     "metadata": {},
     "output_type": "execute_result"
    }
   ],
   "source": [
    "64**(1.0/2 - 1.0/3)"
   ]
  },
  {
   "cell_type": "code",
   "execution_count": 31,
   "metadata": {},
   "outputs": [
    {
     "data": {
      "text/latex": [
       "$$3.1415926535897932384626433832795028841971693993751$$"
      ],
      "text/plain": [
       "3.1415926535897932384626433832795028841971693993751"
      ]
     },
     "execution_count": 31,
     "metadata": {},
     "output_type": "execute_result"
    }
   ],
   "source": [
    "# Arbitrary precision\n",
    "pi.evalf(50)"
   ]
  },
  {
   "cell_type": "code",
   "execution_count": 78,
   "metadata": {},
   "outputs": [
    {
     "data": {
      "text/latex": [
       "$$\\sqrt[4]{-1}$$"
      ],
      "text/plain": [
       "4 ____\n",
       "╲╱ -1 "
      ]
     },
     "execution_count": 78,
     "metadata": {},
     "output_type": "execute_result"
    }
   ],
   "source": [
    "sqrt(1*I)"
   ]
  },
  {
   "cell_type": "code",
   "execution_count": 83,
   "metadata": {},
   "outputs": [
    {
     "data": {
      "text/latex": [
       "$$\\left [ 1, \\quad - \\frac{1}{2} - \\frac{\\sqrt{3} i}{2}, \\quad - \\frac{1}{2} + \\frac{\\sqrt{3} i}{2}\\right ]$$"
      ],
      "text/plain": [
       "⎡     1   √3⋅ⅈ    1   √3⋅ⅈ⎤\n",
       "⎢1, - ─ - ────, - ─ + ────⎥\n",
       "⎣     2    2      2    2  ⎦"
      ]
     },
     "execution_count": 83,
     "metadata": {},
     "output_type": "execute_result"
    }
   ],
   "source": [
    "x=Symbol('x')\n",
    "solve(Eq(x**3,1))"
   ]
  },
  {
   "cell_type": "code",
   "execution_count": 91,
   "metadata": {},
   "outputs": [
    {
     "data": {
      "text/latex": [
       "$$\\left [ 1\\right ]$$"
      ],
      "text/plain": [
       "[1]"
      ]
     },
     "execution_count": 91,
     "metadata": {},
     "output_type": "execute_result"
    }
   ],
   "source": [
    "# Define symbol's domain\n",
    "x=Symbol('x', real=True)\n",
    "solve(Eq(x**3,1))"
   ]
  },
  {
   "cell_type": "code",
   "execution_count": 92,
   "metadata": {},
   "outputs": [
    {
     "data": {
      "text/latex": [
       "$$-2 < x \\wedge x < 2$$"
      ],
      "text/plain": [
       "-2 < x ∧ x < 2"
      ]
     },
     "execution_count": 92,
     "metadata": {},
     "output_type": "execute_result"
    }
   ],
   "source": [
    "# Not so good for integers\n",
    "x=Symbol('x', integer=True)\n",
    "solve(Abs(x) < 2)"
   ]
  },
  {
   "cell_type": "markdown",
   "metadata": {},
   "source": [
    "## Expressions"
   ]
  },
  {
   "cell_type": "code",
   "execution_count": 93,
   "metadata": {
    "scrolled": true
   },
   "outputs": [
    {
     "data": {
      "text/latex": [
       "$$- \\frac{x - 1}{x + 1} + \\frac{x + 1}{x - 1}$$"
      ],
      "text/plain": [
       "  x - 1   x + 1\n",
       "- ───── + ─────\n",
       "  x + 1   x - 1"
      ]
     },
     "execution_count": 93,
     "metadata": {},
     "output_type": "execute_result"
    }
   ],
   "source": [
    "expr = (x + 1)/(x-1) - (x-1)/(x+1)\n",
    "expr"
   ]
  },
  {
   "cell_type": "code",
   "execution_count": 94,
   "metadata": {},
   "outputs": [
    {
     "data": {
      "text/latex": [
       "$$\\left(- \\frac{x - 1}{x + 1} + \\frac{x + 1}{x - 1}\\right)^{2}$$"
      ],
      "text/plain": [
       "                 2\n",
       "⎛  x - 1   x + 1⎞ \n",
       "⎜- ───── + ─────⎟ \n",
       "⎝  x + 1   x - 1⎠ "
      ]
     },
     "execution_count": 94,
     "metadata": {},
     "output_type": "execute_result"
    }
   ],
   "source": [
    "expr**2"
   ]
  },
  {
   "cell_type": "markdown",
   "metadata": {},
   "source": [
    "## Simplification"
   ]
  },
  {
   "cell_type": "code",
   "execution_count": 35,
   "metadata": {},
   "outputs": [
    {
     "data": {
      "text/latex": [
       "$$\\frac{4 x}{x^{2} - 1}$$"
      ],
      "text/plain": [
       " 4⋅x  \n",
       "──────\n",
       " 2    \n",
       "x  - 1"
      ]
     },
     "execution_count": 35,
     "metadata": {},
     "output_type": "execute_result"
    }
   ],
   "source": [
    "simplify(expr)"
   ]
  },
  {
   "cell_type": "code",
   "execution_count": 36,
   "metadata": {},
   "outputs": [
    {
     "data": {
      "text/latex": [
       "$$\\frac{4 x}{x^{2} - 1}$$"
      ],
      "text/plain": [
       " 4⋅x  \n",
       "──────\n",
       " 2    \n",
       "x  - 1"
      ]
     },
     "execution_count": 36,
     "metadata": {},
     "output_type": "execute_result"
    }
   ],
   "source": [
    "\n",
    "simplify(expr)"
   ]
  },
  {
   "cell_type": "code",
   "execution_count": 127,
   "metadata": {},
   "outputs": [
    {
     "data": {
      "text/plain": [
       "True"
      ]
     },
     "execution_count": 127,
     "metadata": {},
     "output_type": "execute_result"
    }
   ],
   "source": [
    "a=Symbol('y')\n",
    "b=Symbol('y')\n",
    "a==b"
   ]
  },
  {
   "cell_type": "code",
   "execution_count": 130,
   "metadata": {},
   "outputs": [
    {
     "data": {
      "text/plain": [
       "False"
      ]
     },
     "execution_count": 130,
     "metadata": {},
     "output_type": "execute_result"
    }
   ],
   "source": [
    "c=Dummy('dummy_y')  # Try to remove 'y'\n",
    "c==a"
   ]
  },
  {
   "cell_type": "code",
   "execution_count": 131,
   "metadata": {},
   "outputs": [
    {
     "data": {
      "image/png": "[encoded data removed]",
      "text/latex": [
       "$$dummy_{y} + 2 y$$"
      ],
      "text/plain": [
       "dummy_y + 2⋅y"
      ]
     },
     "execution_count": 131,
     "metadata": {},
     "output_type": "execute_result"
    }
   ],
   "source": [
    "simplify(a+b+c)"
   ]
  },
  {
   "cell_type": "code",
   "execution_count": 40,
   "metadata": {},
   "outputs": [
    {
     "data": {
      "text/latex": [
       "$$\\sqrt[3]{7 + 5 \\sqrt{2}} - \\sqrt[3]{- 5 \\sqrt{2} + 7}$$"
      ],
      "text/plain": [
       "3 __________   3 ___________\n",
       "╲╱ 7 + 5⋅√2  - ╲╱ -5⋅√2 + 7 "
      ]
     },
     "execution_count": 40,
     "metadata": {},
     "output_type": "execute_result"
    }
   ],
   "source": [
    "# Complex (roots) are tricky\n",
    "third = Rational(1,3)\n",
    "expr = (7+sqrt(50))**third - (7-sqrt(50))**third\n",
    "expr"
   ]
  },
  {
   "cell_type": "code",
   "execution_count": 50,
   "metadata": {},
   "outputs": [
    {
     "data": {
      "text/latex": [
       "$$\\sqrt[3]{7 + 5 \\sqrt{2}} - \\sqrt[3]{- 5 \\sqrt{2} + 7} = x$$"
      ],
      "text/plain": [
       "3 __________   3 ___________    \n",
       "╲╱ 7 + 5⋅√2  - ╲╱ -5⋅√2 + 7  = x"
      ]
     },
     "execution_count": 50,
     "metadata": {},
     "output_type": "execute_result"
    }
   ],
   "source": [
    "x=Symbol('x', complex=True)\n",
    "eq=Eq(expr, x)\n",
    "eq"
   ]
  },
  {
   "cell_type": "code",
   "execution_count": 57,
   "metadata": {},
   "outputs": [
    {
     "data": {
      "text/latex": [
       "$$10 \\sqrt{2} - 3 \\left(7 + 5 \\sqrt{2}\\right)^{\\frac{2}{3}} \\sqrt[3]{- 5 \\sqrt{2} + 7} + 3 \\sqrt[3]{7 + 5 \\sqrt{2}} \\left(- 5 \\sqrt{2} + 7\\right)^{\\frac{2}{3}} = x^{3}$$"
      ],
      "text/plain": [
       "                    2/3 3 ___________     3 __________            2/3    3\n",
       "10⋅√2 - 3⋅(7 + 5⋅√2)   ⋅╲╱ -5⋅√2 + 7  + 3⋅╲╱ 7 + 5⋅√2 ⋅(-5⋅√2 + 7)    = x "
      ]
     },
     "execution_count": 57,
     "metadata": {},
     "output_type": "execute_result"
    }
   ],
   "source": [
    "Eq(expand(eq.lhs**3, basic=False), eq.rhs**3)"
   ]
  },
  {
   "cell_type": "markdown",
   "metadata": {},
   "source": [
    "# Expression manipulation\n",
    "\n",
    "- 'factor(expr)'\n",
    "- 'expand(expr)'\n",
    "- 'collect(expr)'\n",
    "- 'cancel(fraction)'\n",
    "- 'expr.subs({x: xexpr, y: yexpr})\n"
   ]
  },
  {
   "cell_type": "code",
   "execution_count": 142,
   "metadata": {},
   "outputs": [
    {
     "data": {
      "image/png": "[encoded data removed]",
      "text/latex": [
       "$$\\left [ -6, \\quad 1\\right ]$$"
      ],
      "text/plain": [
       "[-6, 1]"
      ]
     },
     "execution_count": 142,
     "metadata": {},
     "output_type": "execute_result"
    }
   ],
   "source": [
    "x=Symbol('x')\n",
    "solve(x**2+5*x-6)"
   ]
  },
  {
   "cell_type": "code",
   "execution_count": 144,
   "metadata": {},
   "outputs": [
    {
     "data": {
      "image/png": "[encoded data removed]",
      "text/latex": [
       "$$\\left(x - 1\\right) \\left(x + 6\\right)$$"
      ],
      "text/plain": [
       "(x - 1)⋅(x + 6)"
      ]
     },
     "execution_count": 144,
     "metadata": {},
     "output_type": "execute_result"
    }
   ],
   "source": [
    "factor(x**2+5*x-6)"
   ]
  },
  {
   "cell_type": "code",
   "execution_count": 148,
   "metadata": {},
   "outputs": [
    {
     "data": {
      "image/png": "[encoded data removed]",
      "text/latex": [
       "$$- 2 x^{2} + 5 x - 2$$"
      ],
      "text/plain": [
       "     2          \n",
       "- 2⋅x  + 5⋅x - 2"
      ]
     },
     "execution_count": 148,
     "metadata": {},
     "output_type": "execute_result"
    }
   ],
   "source": [
    "expand((x-2)*(1-2*x), evaluate=False)"
   ]
  },
  {
   "cell_type": "code",
   "execution_count": 150,
   "metadata": {},
   "outputs": [
    {
     "data": {
      "image/png": "[encoded data removed]",
      "text/latex": [
       "$$- 2 x^{2} y + x \\left(4 y + 1\\right) - 2$$"
      ],
      "text/plain": [
       "     2                    \n",
       "- 2⋅x ⋅y + x⋅(4⋅y + 1) - 2"
      ]
     },
     "execution_count": 150,
     "metadata": {},
     "output_type": "execute_result"
    }
   ],
   "source": [
    "y=Symbol('y')\n",
    "collect(expand((x-2)*(1-2*x*y)), x)"
   ]
  },
  {
   "cell_type": "code",
   "execution_count": 151,
   "metadata": {},
   "outputs": [
    {
     "data": {
      "image/png": "[encoded data removed]",
      "text/latex": [
       "$$\\left(- 2 x + 1\\right) \\left(x - y\\right)$$"
      ],
      "text/plain": [
       "(-2⋅x + 1)⋅(x - y)"
      ]
     },
     "execution_count": 151,
     "metadata": {},
     "output_type": "execute_result"
    }
   ],
   "source": [
    "((x-2)*(1-2*x)).subs((x-2), (x-a))"
   ]
  },
  {
   "cell_type": "code",
   "execution_count": 154,
   "metadata": {},
   "outputs": [
    {
     "data": {
      "image/png": "[encoded data removed]",
      "text/latex": [
       "$$2 y$$"
      ],
      "text/plain": [
       "2⋅y"
      ]
     },
     "execution_count": 154,
     "metadata": {},
     "output_type": "execute_result"
    }
   ],
   "source": [
    "a + y"
   ]
  },
  {
   "cell_type": "code",
   "execution_count": 155,
   "metadata": {},
   "outputs": [
    {
     "data": {
      "image/png": "[encoded data removed]",
      "text/latex": [
       "$$- \\frac{x - 1}{x + 1} + \\frac{x + 1}{x - 1}$$"
      ],
      "text/plain": [
       "  x - 1   x + 1\n",
       "- ───── + ─────\n",
       "  x + 1   x - 1"
      ]
     },
     "execution_count": 155,
     "metadata": {},
     "output_type": "execute_result"
    }
   ],
   "source": [
    "expr"
   ]
  },
  {
   "cell_type": "code",
   "execution_count": 157,
   "metadata": {},
   "outputs": [
    {
     "data": {
      "image/png": "[encoded data removed]",
      "text/latex": [
       "$$- \\frac{y + z - 1}{y + z + 1} + \\frac{y + z + 1}{y + z - 1}$$"
      ],
      "text/plain": [
       "  y + z - 1   y + z + 1\n",
       "- ───────── + ─────────\n",
       "  y + z + 1   y + z - 1"
      ]
     },
     "execution_count": 157,
     "metadata": {},
     "output_type": "execute_result"
    }
   ],
   "source": [
    "z = Symbol('z')\n",
    "x = Symbol('x')\n",
    "expr = (x + 1)/(x-1) - (x-1)/(x+1)\n",
    "\n",
    "\n",
    "yz_expr = expr.subs({x: a+z})\n",
    "yz_expr"
   ]
  },
  {
   "cell_type": "code",
   "execution_count": 159,
   "metadata": {},
   "outputs": [
    {
     "data": {
      "image/png": "[encoded data removed]",
      "text/latex": [
       "$$- \\frac{x}{x + 2} + \\frac{1}{x} \\left(x + 2\\right)$$"
      ],
      "text/plain": [
       "    x     x + 2\n",
       "- ───── + ─────\n",
       "  x + 2     x  "
      ]
     },
     "execution_count": 159,
     "metadata": {},
     "output_type": "execute_result"
    }
   ],
   "source": [
    "yz_expr.subs({'y': 1, 'z':x})"
   ]
  },
  {
   "cell_type": "markdown",
   "metadata": {},
   "source": [
    "## Solve ..."
   ]
  },
  {
   "cell_type": "code",
   "execution_count": 19,
   "metadata": {},
   "outputs": [
    {
     "data": {
      "text/latex": [
       "$$\\left [ 2 - i, \\quad 2 + i\\right ]$$"
      ],
      "text/plain": [
       "[2 - ⅈ, 2 + ⅈ]"
      ]
     },
     "execution_count": 19,
     "metadata": {},
     "output_type": "execute_result"
    }
   ],
   "source": [
    "sy.solve(x**2-4*x+5)"
   ]
  },
  {
   "cell_type": "code",
   "execution_count": 95,
   "metadata": {},
   "outputs": [
    {
     "data": {
      "text/latex": [
       "$$\\left(-\\infty < x \\wedge x < 1\\right) \\vee \\left(5 < x \\wedge x < \\infty\\right)$$"
      ],
      "text/plain": [
       "(-∞ < x ∧ x < 1) ∨ (5 < x ∧ x < ∞)"
      ]
     },
     "execution_count": 95,
     "metadata": {},
     "output_type": "execute_result"
    }
   ],
   "source": [
    "sy.solve(sy.Abs(x-3)> 2)"
   ]
  },
  {
   "cell_type": "markdown",
   "metadata": {},
   "source": [
    "## Double pendlum example"
   ]
  },
  {
   "cell_type": "code",
   "execution_count": 98,
   "metadata": {},
   "outputs": [],
   "source": [
    "from sympy.physics.mechanics import *\n",
    "# Angle of first and second pendlum as function of the time\n",
    "q1, q2 = dynamicsymbols('q1 q2')\n",
    "# Derivatives of the angles\n",
    "q1d, q2d = dynamicsymbols('q1 q2', 1)\n",
    "# Angular velocity.\n",
    "u1, u2 = dynamicsymbols('u1 u2')\n",
    "# Derivative of angular velocity.\n",
    "u1d, u2d = dynamicsymbols('u1 u2', 1)\n",
    "\n",
    "# Symbols for: pendlum length, weight, acceleration of gravity\n",
    "l, m, g = symbols('l m g')"
   ]
  },
  {
   "cell_type": "code",
   "execution_count": 100,
   "metadata": {},
   "outputs": [],
   "source": [
    "# Inertial reference frame\n",
    "N = ReferenceFrame('N')\n",
    "# Reference frame of the first pendlum.\n",
    "# Rotate original frame N by angle q1 around axis N.z\n",
    "A = N.orientnew('A', 'Axis', [q1, N.z])\n",
    "# Reference frame of the second pendlum\n",
    "B = N.orientnew('B', 'Axis', [q2, N.z])\n",
    "\n",
    "# Set angular velocity of the frame. That is vector perpendicular to \n",
    "# plane of rotation with size equal to the angular velocity.\n",
    "A.set_ang_vel(N, u1 * N.z)\n",
    "B.set_ang_vel(N, u2 * N.z)"
   ]
  },
  {
   "cell_type": "code",
   "execution_count": 101,
   "metadata": {},
   "outputs": [],
   "source": [
    "# Anchor point of the first pendlum.\n",
    "O = Point('O')\n",
    "# Tip of the first pendlum, length 'l'\n",
    "P = O.locatenew('P', l * A.x)\n",
    "# Tip of the second pendlum, length 'l'\n",
    "R = P.locatenew('R', l * B.x)"
   ]
  },
  {
   "cell_type": "code",
   "execution_count": 102,
   "metadata": {},
   "outputs": [
    {
     "data": {
      "text/latex": [
       "$$l u_{2}\\mathbf{\\hat{b}_y} + l u_{1}\\mathbf{\\hat{a}_y}$$"
      ],
      "text/plain": [
       "l⋅u₂(t) b_y + l⋅u₁(t) a_y"
      ]
     },
     "execution_count": 102,
     "metadata": {},
     "output_type": "execute_result"
    }
   ],
   "source": [
    "# No velocity for anchor.\n",
    "O.set_vel(N, 0)\n",
    "# Set velocity of point P in reference frame N, from constraint that\n",
    "# Points P and O have no relative motion in frame A.\n",
    "P.v2pt_theory(O, N, A)\n",
    "R.v2pt_theory(P, N, B)"
   ]
  },
  {
   "cell_type": "code",
   "execution_count": 110,
   "metadata": {},
   "outputs": [
    {
     "data": {
      "text/plain": [
       "ParP"
      ]
     },
     "metadata": {},
     "output_type": "display_data"
    }
   ],
   "source": [
    "# Mass point at tips, common mass 'm'.\n",
    "ParP = Particle('ParP', P, m)\n",
    "ParR = Particle('ParR', R, m)\n"
   ]
  },
  {
   "cell_type": "code",
   "execution_count": 162,
   "metadata": {},
   "outputs": [],
   "source": [
    "kd = [q1d - u1, q2d - u2]\n",
    "FL = [(P, m * g * N.x), (R, m * g * N.x)]\n",
    "BL = [ParP, ParR]\n",
    "\n",
    "KM = KanesMethod(N, q_ind=[q1, q2], u_ind=[u1, u2], kd_eqs=kd)\n",
    "\n",
    "(fr, frstar) = KM.kanes_equations(BL, FL)\n",
    "kdd = KM.kindiffdict()\n",
    "mm = KM.mass_matrix_full\n",
    "fo = KM.forcing_full\n",
    "qudots = mm.inv() * fo\n",
    "qudots = qudots.subs(kdd)"
   ]
  },
  {
   "cell_type": "code",
   "execution_count": 163,
   "metadata": {},
   "outputs": [
    {
     "data": {
      "image/png": "[encoded data removed]",
      "text/latex": [
       "$$\\left \\{ \\dot{q}_{1} : u_{1}, \\quad \\dot{q}_{2} : u_{2}\\right \\}$$"
      ],
      "text/plain": [
       "{q₁̇: u₁, q₂̇: u₂}"
      ]
     },
     "execution_count": 163,
     "metadata": {},
     "output_type": "execute_result"
    }
   ],
   "source": [
    "kdd"
   ]
  },
  {
   "cell_type": "code",
   "execution_count": 113,
   "metadata": {},
   "outputs": [
    {
     "data": {
      "image/png": "[encoded data removed]",
      "text/latex": [
       "$$\\left[\\begin{matrix}1 & 0 & 0 & 0\\\\0 & 1 & 0 & 0\\\\0 & 0 & 2 l^{2} m & l^{2} m \\left(\\operatorname{sin}\\left(q_{1}\\right) \\operatorname{sin}\\left(q_{2}\\right) + \\operatorname{cos}\\left(q_{1}\\right) \\operatorname{cos}\\left(q_{2}\\right)\\right)\\\\0 & 0 & l^{2} m \\left(\\operatorname{sin}\\left(q_{1}\\right) \\operatorname{sin}\\left(q_{2}\\right) + \\operatorname{cos}\\left(q_{1}\\right) \\operatorname{cos}\\left(q_{2}\\right)\\right) & l^{2} m\\end{matrix}\\right]$$"
      ],
      "text/plain": [
       "⎡1  0                     0                                         0         \n",
       "⎢                                                                             \n",
       "⎢0  1                     0                                         0         \n",
       "⎢                                                                             \n",
       "⎢                          2                      2                           \n",
       "⎢0  0                   2⋅l ⋅m                   l ⋅m⋅(sin(q₁)⋅sin(q₂) + cos(q\n",
       "⎢                                                                             \n",
       "⎢       2                                                           2         \n",
       "⎣0  0  l ⋅m⋅(sin(q₁)⋅sin(q₂) + cos(q₁)⋅cos(q₂))                    l ⋅m       \n",
       "\n",
       "           ⎤\n",
       "           ⎥\n",
       "           ⎥\n",
       "           ⎥\n",
       "           ⎥\n",
       "₁)⋅cos(q₂))⎥\n",
       "           ⎥\n",
       "           ⎥\n",
       "           ⎦"
      ]
     },
     "execution_count": 113,
     "metadata": {},
     "output_type": "execute_result"
    }
   ],
   "source": [
    "mm"
   ]
  },
  {
   "cell_type": "code",
   "execution_count": 160,
   "metadata": {},
   "outputs": [
    {
     "data": {
      "image/png": "[encoded data removed]",
      "text/latex": [
       "$$\\left[\\begin{matrix}u_{1}\\\\u_{2}\\\\- 2 g l m \\operatorname{sin}\\left(q_{1}\\right) + l^{2} m \\left(- \\operatorname{sin}\\left(q_{1}\\right) \\operatorname{cos}\\left(q_{2}\\right) + \\operatorname{sin}\\left(q_{2}\\right) \\operatorname{cos}\\left(q_{1}\\right)\\right) u^{2}_{2}\\\\- g l m \\operatorname{sin}\\left(q_{2}\\right) + l^{2} m \\left(\\operatorname{sin}\\left(q_{1}\\right) \\operatorname{cos}\\left(q_{2}\\right) - \\operatorname{sin}\\left(q_{2}\\right) \\operatorname{cos}\\left(q_{1}\\right)\\right) u^{2}_{1}\\end{matrix}\\right]$$"
      ],
      "text/plain": [
       "⎡                               u₁                               ⎤\n",
       "⎢                                                                ⎥\n",
       "⎢                               u₂                               ⎥\n",
       "⎢                                                                ⎥\n",
       "⎢                    2                                          2⎥\n",
       "⎢-2⋅g⋅l⋅m⋅sin(q₁) + l ⋅m⋅(-sin(q₁)⋅cos(q₂) + sin(q₂)⋅cos(q₁))⋅u₂ ⎥\n",
       "⎢                                                                ⎥\n",
       "⎢                   2                                         2  ⎥\n",
       "⎣ -g⋅l⋅m⋅sin(q₂) + l ⋅m⋅(sin(q₁)⋅cos(q₂) - sin(q₂)⋅cos(q₁))⋅u₁   ⎦"
      ]
     },
     "execution_count": 160,
     "metadata": {},
     "output_type": "execute_result"
    }
   ],
   "source": [
    "fo"
   ]
  },
  {
   "cell_type": "code",
   "execution_count": 164,
   "metadata": {},
   "outputs": [
    {
     "data": {
      "image/png": "[encoded data removed]",
      "text/latex": [
       "$$\\left[\\begin{matrix}u_{1}\\\\u_{2}\\\\- \\frac{l^{2} m \\left(\\operatorname{sin}\\left(q_{1}\\right) \\operatorname{sin}\\left(q_{2}\\right) + \\operatorname{cos}\\left(q_{1}\\right) \\operatorname{cos}\\left(q_{2}\\right)\\right) \\left(- g l m \\operatorname{sin}\\left(q_{2}\\right) + l^{2} m \\left(\\operatorname{sin}\\left(q_{1}\\right) \\operatorname{cos}\\left(q_{2}\\right) - \\operatorname{sin}\\left(q_{2}\\right) \\operatorname{cos}\\left(q_{1}\\right)\\right) u^{2}_{1}\\right)}{- l^{4} m^{2} \\left(\\operatorname{sin}\\left(q_{1}\\right) \\operatorname{sin}\\left(q_{2}\\right) + \\operatorname{cos}\\left(q_{1}\\right) \\operatorname{cos}\\left(q_{2}\\right)\\right)^{2} + 2 l^{4} m^{2}} + \\frac{l^{2} m \\left(- 2 g l m \\operatorname{sin}\\left(q_{1}\\right) + l^{2} m \\left(- \\operatorname{sin}\\left(q_{1}\\right) \\operatorname{cos}\\left(q_{2}\\right) + \\operatorname{sin}\\left(q_{2}\\right) \\operatorname{cos}\\left(q_{1}\\right)\\right) u^{2}_{2}\\right)}{- l^{4} m^{2} \\left(\\operatorname{sin}\\left(q_{1}\\right) \\operatorname{sin}\\left(q_{2}\\right) + \\operatorname{cos}\\left(q_{1}\\right) \\operatorname{cos}\\left(q_{2}\\right)\\right)^{2} + 2 l^{4} m^{2}}\\\\- \\frac{l^{2} m \\left(\\operatorname{sin}\\left(q_{1}\\right) \\operatorname{sin}\\left(q_{2}\\right) + \\operatorname{cos}\\left(q_{1}\\right) \\operatorname{cos}\\left(q_{2}\\right)\\right) \\left(- 2 g l m \\operatorname{sin}\\left(q_{1}\\right) + l^{2} m \\left(- \\operatorname{sin}\\left(q_{1}\\right) \\operatorname{cos}\\left(q_{2}\\right) + \\operatorname{sin}\\left(q_{2}\\right) \\operatorname{cos}\\left(q_{1}\\right)\\right) u^{2}_{2}\\right)}{- l^{4} m^{2} \\left(\\operatorname{sin}\\left(q_{1}\\right) \\operatorname{sin}\\left(q_{2}\\right) + \\operatorname{cos}\\left(q_{1}\\right) \\operatorname{cos}\\left(q_{2}\\right)\\right)^{2} + 2 l^{4} m^{2}} + \\frac{2 l^{2} m \\left(- g l m \\operatorname{sin}\\left(q_{2}\\right) + l^{2} m \\left(\\operatorname{sin}\\left(q_{1}\\right) \\operatorname{cos}\\left(q_{2}\\right) - \\operatorname{sin}\\left(q_{2}\\right) \\operatorname{cos}\\left(q_{1}\\right)\\right) u^{2}_{1}\\right)}{- l^{4} m^{2} \\left(\\operatorname{sin}\\left(q_{1}\\right) \\operatorname{sin}\\left(q_{2}\\right) + \\operatorname{cos}\\left(q_{1}\\right) \\operatorname{cos}\\left(q_{2}\\right)\\right)^{2} + 2 l^{4} m^{2}}\\end{matrix}\\right]$$"
      ],
      "text/plain": [
       "⎡                                                                             \n",
       "⎢                                                                             \n",
       "⎢                                                                             \n",
       "⎢                                                                             \n",
       "⎢    2                                       ⎛                  2             \n",
       "⎢   l ⋅m⋅(sin(q₁)⋅sin(q₂) + cos(q₁)⋅cos(q₂))⋅⎝-g⋅l⋅m⋅sin(q₂) + l ⋅m⋅(sin(q₁)⋅c\n",
       "⎢ - ──────────────────────────────────────────────────────────────────────────\n",
       "⎢                               4  2                                    2     \n",
       "⎢                            - l ⋅m ⋅(sin(q₁)⋅sin(q₂) + cos(q₁)⋅cos(q₂))  + 2⋅\n",
       "⎢                                                                             \n",
       "⎢   2                                       ⎛                    2            \n",
       "⎢  l ⋅m⋅(sin(q₁)⋅sin(q₂) + cos(q₁)⋅cos(q₂))⋅⎝-2⋅g⋅l⋅m⋅sin(q₁) + l ⋅m⋅(-sin(q₁)\n",
       "⎢- ───────────────────────────────────────────────────────────────────────────\n",
       "⎢                                4  2                                    2    \n",
       "⎣                             - l ⋅m ⋅(sin(q₁)⋅sin(q₂) + cos(q₁)⋅cos(q₂))  + 2\n",
       "\n",
       "             u₁                                                               \n",
       "                                                                              \n",
       "             u₂                                                               \n",
       "                                                                              \n",
       "                            2⎞    2   ⎛                    2                  \n",
       "os(q₂) - sin(q₂)⋅cos(q₁))⋅u₁ ⎠   l ⋅m⋅⎝-2⋅g⋅l⋅m⋅sin(q₁) + l ⋅m⋅(-sin(q₁)⋅cos(q\n",
       "────────────────────────────── + ─────────────────────────────────────────────\n",
       " 4  2                                        4  2                             \n",
       "l ⋅m                                      - l ⋅m ⋅(sin(q₁)⋅sin(q₂) + cos(q₁)⋅c\n",
       "                                                                              \n",
       "                              2⎞      2   ⎛                  2                \n",
       "⋅cos(q₂) + sin(q₂)⋅cos(q₁))⋅u₂ ⎠   2⋅l ⋅m⋅⎝-g⋅l⋅m⋅sin(q₂) + l ⋅m⋅(sin(q₁)⋅cos(\n",
       "──────────────────────────────── + ───────────────────────────────────────────\n",
       "  4  2                                        4  2                            \n",
       "⋅l ⋅m                                      - l ⋅m ⋅(sin(q₁)⋅sin(q₂) + cos(q₁)⋅\n",
       "\n",
       "                           ⎤\n",
       "                           ⎥\n",
       "                           ⎥\n",
       "                           ⎥\n",
       "                        2⎞ ⎥\n",
       "₂) + sin(q₂)⋅cos(q₁))⋅u₂ ⎠ ⎥\n",
       "────────────────────────── ⎥\n",
       "       2      4  2         ⎥\n",
       "os(q₂))  + 2⋅l ⋅m          ⎥\n",
       "                           ⎥\n",
       "                         2⎞⎥\n",
       "q₂) - sin(q₂)⋅cos(q₁))⋅u₁ ⎠⎥\n",
       "───────────────────────────⎥\n",
       "        2      4  2        ⎥\n",
       "cos(q₂))  + 2⋅l ⋅m         ⎦"
      ]
     },
     "execution_count": 164,
     "metadata": {},
     "output_type": "execute_result"
    }
   ],
   "source": [
    "qudots"
   ]
  },
  {
   "cell_type": "code",
   "execution_count": 165,
   "metadata": {},
   "outputs": [
    {
     "name": "stdout",
     "output_type": "stream",
     "text": [
      "Matrix([\n",
      "[                                                                                                             u1],\n",
      "[                                                                                                             u2],\n",
      "[(g*sin(q1 - 2*q2) + 3*g*sin(q1) + l*u1**2*sin(2*q1 - 2*q2) + 2*l*u2**2*sin(q1 - q2))/(l*(cos(2*q1 - 2*q2) - 3))],\n",
      "[(-g*sin(2*q1 - q2) + g*sin(q2) - 2*l*u1**2*sin(q1 - q2) - l*u2**2*sin(2*q1 - 2*q2)/2)/(l*(cos(q1 - q2)**2 - 2))]])\n"
     ]
    }
   ],
   "source": [
    "qudots.simplify()\n",
    "mechanics_printing()\n",
    "\n",
    "# Right hand side of the system of nonlinear kinematic equations of first order to solve.\n",
    "mprint(qudots)"
   ]
  },
  {
   "cell_type": "code",
   "execution_count": 166,
   "metadata": {},
   "outputs": [
    {
     "ename": "NameError",
     "evalue": "name 'code_output' is not defined",
     "output_type": "error",
     "traceback": [
      "\u001b[0;31m---------------------------------------------------------------------------\u001b[0m",
      "\u001b[0;31mNameError\u001b[0m                                 Traceback (most recent call last)",
      "\u001b[0;32m<ipython-input-166-af36c9bbfbc1>\u001b[0m in \u001b[0;36m<module>\u001b[0;34m()\u001b[0m\n\u001b[1;32m      1\u001b[0m \u001b[0;31m# append the following code to your script, or run it in the interpreter after you run your script\u001b[0m\u001b[0;34m\u001b[0m\u001b[0;34m\u001b[0m\u001b[0m\n\u001b[0;32m----> 2\u001b[0;31m \u001b[0mco\u001b[0m \u001b[0;34m=\u001b[0m \u001b[0mcode_output\u001b[0m\u001b[0;34m(\u001b[0m\u001b[0mKM\u001b[0m\u001b[0;34m,\u001b[0m \u001b[0;34m\"outfile\"\u001b[0m\u001b[0;34m)\u001b[0m\u001b[0;34m\u001b[0m\u001b[0m\n\u001b[0m\u001b[1;32m      3\u001b[0m \u001b[0mco\u001b[0m\u001b[0;34m.\u001b[0m\u001b[0mget_parameters\u001b[0m\u001b[0;34m(\u001b[0m\u001b[0;34m)\u001b[0m\u001b[0;34m\u001b[0m\u001b[0m\n\u001b[1;32m      4\u001b[0m \u001b[0;31m# output should be [m, g, l]\u001b[0m\u001b[0;34m\u001b[0m\u001b[0;34m\u001b[0m\u001b[0m\n\u001b[1;32m      5\u001b[0m \u001b[0mco\u001b[0m\u001b[0;34m.\u001b[0m\u001b[0mgive_parameters\u001b[0m\u001b[0;34m(\u001b[0m\u001b[0;34m[\u001b[0m\u001b[0;36m1\u001b[0m\u001b[0;34m,\u001b[0m \u001b[0;36m9.81\u001b[0m\u001b[0;34m,\u001b[0m \u001b[0;36m1\u001b[0m\u001b[0;34m]\u001b[0m\u001b[0;34m)\u001b[0m\u001b[0;34m\u001b[0m\u001b[0m\n",
      "\u001b[0;31mNameError\u001b[0m: name 'code_output' is not defined"
     ]
    }
   ],
   "source": [
    "# append the following code to your script, or run it in the interpreter after you run your script\n",
    "co = code_output(KM, \"outfile\")\n",
    "co.get_parameters()\n",
    "# output should be [m, g, l]\n",
    "co.give_parameters([1, 9.81, 1])\n",
    "co.get_initialconditions()\n",
    "# output should be [q1, q2, u1, u2]\n",
    "co.give_initialconditions([.1, .2, 0, 0])\n",
    "co.give_time_int([0,10,1000])\n",
    "\n",
    "co.write_settings_file()\n",
    "co.write_rhs_file('SciPy')\n",
    "\n",
    "run(outfile.py)"
   ]
  },
  {
   "cell_type": "markdown",
   "metadata": {},
   "source": [
    "## Expression evaluation"
   ]
  },
  {
   "cell_type": "code",
   "execution_count": 171,
   "metadata": {},
   "outputs": [],
   "source": [
    "\n",
    "x, y = symbols('x y')\n",
    "expr = 3*x**2 + log(x**2 + y**2 + 1)\n"
   ]
  },
  {
   "cell_type": "code",
   "execution_count": 177,
   "metadata": {},
   "outputs": [
    {
     "data": {
      "image/png": "[encoded data removed]",
      "text/latex": [
       "$$1.9475377310009208$$"
      ],
      "text/plain": [
       "1.9475377310009208"
      ]
     },
     "execution_count": 177,
     "metadata": {},
     "output_type": "execute_result"
    }
   ],
   "source": [
    "from timeit import timeit\n",
    "\n",
    "# Simplest method: using subs\n",
    "def eval1():\n",
    "    expr.subs({x: 17, y: 42}).evalf()\n",
    "    \n",
    "timeit(eval1, number=10000)"
   ]
  },
  {
   "cell_type": "code",
   "execution_count": 180,
   "metadata": {},
   "outputs": [
    {
     "data": {
      "image/png": "[encoded data removed]",
      "text/latex": [
       "$$0.01261906899890164$$"
      ],
      "text/plain": [
       "0.01261906899890164"
      ]
     },
     "execution_count": 180,
     "metadata": {},
     "output_type": "execute_result"
    }
   ],
   "source": [
    "import math \n",
    "\n",
    "# Using handmade function\n",
    "def my_expr(x, y):\n",
    "    return 3*x**2 + math.log(x**2 + y**2 + 1)\n",
    "\n",
    "def eval2():\n",
    "    my_expr(17, 42)\n",
    "    \n",
    "timeit(eval2, number=10000)"
   ]
  },
  {
   "cell_type": "code",
   "execution_count": 181,
   "metadata": {},
   "outputs": [
    {
     "data": {
      "image/png": "[encoded data removed]",
      "text/latex": [
       "$$0.010149432000616798$$"
      ],
      "text/plain": [
       "0.010149432000616798"
      ]
     },
     "execution_count": 181,
     "metadata": {},
     "output_type": "execute_result"
    }
   ],
   "source": [
    "# Let SymPy to make the function from expression\n",
    "g = lambdify([x, y], expr, modules=['math'])\n",
    "\n",
    "def eval3():\n",
    "    g(17, 42)\n",
    "    \n",
    "timeit(eval3, number=10000)    "
   ]
  },
  {
   "cell_type": "markdown",
   "metadata": {},
   "source": [
    "## Use Scipy to simulate double pendlum"
   ]
  },
  {
   "cell_type": "code",
   "execution_count": 188,
   "metadata": {},
   "outputs": [],
   "source": [
    "from scipy.integrate import odeint\n",
    "import numpy as np"
   ]
  },
  {
   "cell_type": "markdown",
   "metadata": {},
   "source": [
    "$q$ is angle, $u$ is angular velocity\n",
    "\n",
    "$\\dot{q}(t) = u$\n",
    "\n",
    "$\\dot{u}(t) = -mg sin(q)$"
   ]
  },
  {
   "cell_type": "code",
   "execution_count": 199,
   "metadata": {},
   "outputs": [],
   "source": [
    "# solve simple pendlum\n",
    "m = 2\n",
    "g = 10\n",
    "\n",
    "def force(x, t):\n",
    "    q,u = x\n",
    "    return [ u,\n",
    "             -m*g*math.sin(q)]\n",
    "\n",
    "dt = 0.05\n",
    "times = np.arange(0.0, 3, dt)\n",
    "init = [np.pi/4, 0.0]\n",
    "sol = scipy.integrate.odeint(force, init, times)\n"
   ]
  },
  {
   "cell_type": "code",
   "execution_count": 200,
   "metadata": {},
   "outputs": [
    {
     "data": {
      "image/png": "[encoded data removed]",
      "text/plain": [
       "<matplotlib.figure.Figure at 0x7f72ba767a20>"
      ]
     },
     "metadata": {},
     "output_type": "display_data"
    },
    {
     "data": {
      "image/png": "[encoded data removed]",
      "text/plain": [
       "<matplotlib.figure.Figure at 0x7f72dd57cf60>"
      ]
     },
     "metadata": {},
     "output_type": "display_data"
    },
    {
     "data": {
      "image/png": "[encoded data removed]",
      "text/plain": [
       "<matplotlib.figure.Figure at 0x7f72dccaea90>"
      ]
     },
     "metadata": {},
     "output_type": "display_data"
    }
   ],
   "source": [
    "import matplotlib.pyplot as plt\n",
    "plt.plot(times, sol[:, 0], 'b', label='q(t)')\n",
    "plt.plot(times, sol[:, 1], 'g', label='u(t)')\n",
    "plt.legend(loc='best')\n",
    "plt.xlabel('t')\n",
    "plt.grid()\n",
    "plt.show()"
   ]
  },
  {
   "cell_type": "code",
   "execution_count": 201,
   "metadata": {},
   "outputs": [
    {
     "data": {
      "text/html": [
       "<video width=\"432\" height=\"288\" controls autoplay loop>\n",
       "  <source type=\"video/mp4\" src=\"data:video/mp4;base64,AAAAHGZ0eXBNNFYgAAACAGlzb21pc28yYXZjMQAAAAhmcmVlAAA4em1kYXQAAAKuBgX//6rcRem9\n",
       "5tlIt5Ys2CDZI+7veDI2NCAtIGNvcmUgMTQ4IHIyNjQzIDVjNjU3MDQgLSBILjI2NC9NUEVHLTQg\n",
       "QVZDIGNvZGVjIC0gQ29weWxlZnQgMjAwMy0yMDE1IC0gaHR0cDovL3d3dy52aWRlb2xhbi5vcmcv\n",
       "eDI2NC5odG1sIC0gb3B0aW9uczogY2FiYWM9MSByZWY9MyBkZWJsb2NrPTE6MDowIGFuYWx5c2U9\n",
       "MHgzOjB4MTEzIG1lPWhleCBzdWJtZT03IHBzeT0xIHBzeV9yZD0xLjAwOjAuMDAgbWl4ZWRfcmVm\n",
       "PTEgbWVfcmFuZ2U9MTYgY2hyb21hX21lPTEgdHJlbGxpcz0xIDh4OGRjdD0xIGNxbT0wIGRlYWR6\n",
       "b25lPTIxLDExIGZhc3RfcHNraXA9MSBjaHJvbWFfcXBfb2Zmc2V0PS0yIHRocmVhZHM9OSBsb29r\n",
       "YWhlYWRfdGhyZWFkcz0xIHNsaWNlZF90aHJlYWRzPTAgbnI9MCBkZWNpbWF0ZT0xIGludGVybGFj\n",
       "ZWQ9MCBibHVyYXlfY29tcGF0PTAgY29uc3RyYWluZWRfaW50cmE9MCBiZnJhbWVzPTMgYl9weXJh\n",
       "bWlkPTIgYl9hZGFwdD0xIGJfYmlhcz0wIGRpcmVjdD0xIHdlaWdodGI9MSBvcGVuX2dvcD0wIHdl\n",
       "aWdodHA9MiBrZXlpbnQ9MjUwIGtleWludF9taW49MjUgc2NlbmVjdXQ9NDAgaW50cmFfcmVmcmVz\n",
       "aD0wIHJjX2xvb2thaGVhZD00MCByYz1jcmYgbWJ0cmVlPTEgY3JmPTIzLjAgcWNvbXA9MC42MCBx\n",
       "cG1pbj0wIHFwbWF4PTY5IHFwc3RlcD00IGlwX3JhdGlvPTEuNDAgYXE9MToxLjAwAIAAAA4cZYiE\n",
       "ADP//vbsvgU1/Z/QlxEsxdpKcD4qpICAdzTAAAADAAB4He8+UME3qAgRTiWJKRt6UnB+ffx/1NJf\n",
       "rfSIRIFrG5v/PJHcJQU+r+1pITjk+RjUSELAAACn53uvS1uT+aGawtGXr3m2O9Y0m2Mcpjzdj43z\n",
       "K/v+gkGKwQuTlrq5ZLkKXCyxrdFTJo5TeIwznW7W8A+gdsoqmdWo9lFrhArIiDCAauWNjvQL80BP\n",
       "6xV5lhZhQq3llR6XR6fh29EgeEk4ZYjQj+/deT+ScKK+nKFqMo2ewt1LHYN7kX7bU+YSmqIKW872\n",
       "mZstorsJlpwJd03lQsJqoIeUjRL8fS/CkCP+PVINx6PFalm5xqfrYbrDo5fqifl7SVBo1k0x0ZNr\n",
       "EhDNgZwERFeA2orCoD7xoapVNypRJp9A3Uvds7OMC/JHt/sBywF+yXgCSmV08m1mJR72QfhsNmB3\n",
       "8pdK6Nz1Bjy2evYqNxQHA5GoN1kqsYnTycjutLPW2nos7t0a5wUcRX75sDXn3b7qJoaryy8cPQJu\n",
       "gyWv18MJzG2wY/HPGnv8v3jI7q8kasNpLyBRGh69f1Ow4wnnpr5bjdGwGSeSd3/1UXg76/PzRgfx\n",
       "vsar3Ki6mlgtxKrej9sgvu65YIfvH+rFBwUTUi3dVqXZKp+Wj/RsYf1yb8r5lWUxDAuUkbf9BcsM\n",
       "2CEojIDTG+ivLwtJJKF/GMX3li/aAbP4lNj7x9v5zvfrKJYsrb+0naD00XYyoaX+JAhoFYSF7RaW\n",
       "SyBcl3exOS1s4JUukZwUi+xUyrizo8kHpX+/Jdqp0+jLISw5mVhb6V49jPtLll7tKk55fhzfvIZn\n",
       "q5c4fUNr81VWjWISAY/xWR0bwIbPaLBD5dOKE4VUiIJnsCjT6WP8SS4A2/5o84eh+NduuWYL+LgP\n",
       "u/Ol6DM+KSCEBO0J8Iu4MhmTtbg1V46FZ9s2O2sgAXEC6I6MS5qg75Dcl7MkAp5HocuQmBOIQPGN\n",
       "il92Rchf+7QqO95jQ9TwLbgBBX2+aFuQD0vA7hdCJFk/93hv8Kq2Q1QWqq9ddHS2cGhpm9nAEYQ9\n",
       "OborPVBdhf9mmNXCZD1Vgs8qFqMvZY9H7MvCj2vom6YIj34SCJwQF65v8UaZPaziww/QNO/bzndi\n",
       "TKXj7LL1CwYyOLylf9z9hg7adSnPywowlUepYVq3xRA3WyF61gyHQpZZr9QJHkLkjT8BH05T3u+O\n",
       "8wm4ILfMxll8OL2b6mePh5RL2EX8AjqVQkIwGeShb0hEi24knSPYhX1wVNWV/tyFAwZYyhcJE8xk\n",
       "Nt6xQCAVPmbPWW25Wki6ctPR7b/j7Ymshp94/8SKnLzn+WZVW0mstVUlV4YHd48BIJbY6eIV36M0\n",
       "bbSQvN/aURLU1oLSLdO5jKKpfDX8fj0rv3o+/e7RBrme/hvw0k9gwh17H7eJxT9B/NAaqMgwZvlH\n",
       "JLsiXXA7MHYF2cpVPg8Um2HwvD1epMrkMOXd7lYCcq3UVkxejC2U0hnC211w5fNNuMBQGaWiaIeD\n",
       "S/+TJOW+7cUs4+3NOPb7d6u6l7CggS9umSp+SLZcRzqmEwBM5sN8v3O8OBBKD9LVLHGt2e6pfa6C\n",
       "em82uMVGVuE2cwHpBXhAMmof70iIceUdgSnk5AIwwmQxdr9ce8/8MuZCM9bjcD/iO+UVQvSLvS0n\n",
       "WXH4Dfg/duqQ7oudhXdJo80TCAOHiWL/u3jHLGmd8XJ8PJixREw4HYyOY+wnM+XPlufPIfseAh6v\n",
       "pAqrkK6JgGQyyPydfM3osbb+kclx3IQ0KCCDNRxmySFS/KiJDEuHxVI5gj3hQCEoVDOLlUllH919\n",
       "McvgernxNSCsFN2+pee2GZdjLypjhicxoUbAj/6wowuNaO4O59PCYixwfZBzfaFycfleOl0BMx/Y\n",
       "70/w+lSFCKEQaS0/e7mRcmLA2H1CJPhr4sdtYkTRAWz7pvOaMb79Qt9SWifjTyoHtFOZa0z2u5Q7\n",
       "FLX+BZ5FHHsxK6UdRtwLM8XcK64ZucuEVa++KWrnpVHVCP18BGc/yxlbCM6XclCUapNEAi4eJE2C\n",
       "FeIxJ58amCnRu4qnds7DeoBuBOIAI9+FIQLLRDEEgnP6bstIbTDE98rdWN90fD63+eLZVG62bjPY\n",
       "FBGcnLYyJylnhl/2wnWXqEkVA0VOmsoNN+vi0eDVbBb7lzxXofS/iGB9EsoFXJF2IyrU2AEmtpVo\n",
       "zw2U/YpOv931FzDgVYCEW0hhbXoqkXFD0ibC3Ct3EJlPuMGeZ++C7qfCSRigXIemaws1UIylCztK\n",
       "mw3qZoTSFAMkruucl2IiZDXbvw5Syi0PCz4Z+KEeFIu+c77NpmxjPuCz4uxk1GGalK/BvrG1NWUv\n",
       "XAWCTYB/pv9H3XjlNIRH3ahmVh0o8KbMTrwMtrqAHUbixhO/XwAN/fMi/RpvVDJdj953ln+MoIbs\n",
       "fYd5a8Zx5lHNyHolo0Ujq7kV/lnmq1G26Z7B9kxkMe6VLjApb/IkOHUTjz+SACLgI5fwEfHA+LJR\n",
       "lbjHn54r0DjX/sLDkzd1ICiZUhLmKXVEtdCNEysaEmvayA+k8DtkEuGKzj/UlPjtKVRoi1bU5SUk\n",
       "ODxnlxQIyi5hJvMlNfd25+WNoyjDc+Wwqju3l0gWgd3S/UTWN/3WO7P4MoDzdVVlQdX61QNUVaW3\n",
       "/eRKrVEJMPeCMi5EV7KLDqMHxY1st1/sqcNDMbrFawMUKez7x6QwS4mf+9a+nPBd2cJyc9h0+f12\n",
       "e5AJRjBaojbRHDdcX4a8VanKyXf8xikssr1SWAmfAjrVC3bRHWpg9ngXzXo+W+H1SkQMLTq4LV/n\n",
       "gX+jIcgOGy9j4XO0R4PgoJdtqsNjXH7hbBoVVb8ulUL69uoqSRg4RuSv9tHTzzHLhs9auTIahTve\n",
       "kyv6wiLqXrUksUni/j/8WmkZSyTZXQD7vh6Gs/iH2MHl+E3cCy/9XcvioP9t1SL0cz1nyjGPNQjj\n",
       "1GQBMTvyD/AKXF/oaimiXr94DDPcFl2vrRe916E5r2nd8sHd43Rekz0UTLlIDCFXXX2KH3BVKOu1\n",
       "jUXclishh0qbVTVpno0GaBPujMESKFETdjdfCojzkL9NxO1XiSXM9HsFCfC3/ks7ufgMrihaPV6H\n",
       "U7icNgfeHkF9w1sQzMcasml3mZQs7wV3TwNnVpL4+MAclKBXrNF6MBtkmlWX2WoBVg6uSDYxKfr/\n",
       "xCPnXNBk/2lyGRazqGBPrjY1o1UKLTt4aFKn7RIf/uC5jXoYBZhDBELC0v4xpMZjzzQhwxVAOaQl\n",
       "HDQNy/cdf/oUhrgx3F8rKnAhGBCf0aE8AkU1c6OE8zhQMTsFMql/XMKO4/8es9z8e+IvWhtmuDkT\n",
       "T9sGVgjn8+1v/sN/gdQZS0EpkUnQYy2qKGjMT9dJjQzr+v3uXtDfi6/QidrkbZkQbNpWaH1lZSuv\n",
       "058zr+IcE2SwzKmha5N2ExGRtaucqYUrv46Fmbp1mx70MHDE1JU6RoUSkuav+gBoCpxXW+tGUYiT\n",
       "NI691hl0sC8mADXuweUPtpU7VY1aS/tU+cAbKsjZjcb+UIhQ+MlLccmBEcdwu6u+/Nw0CUPliGnM\n",
       "9d/k7LtgeNuHjxbUxB+LC1L+093E3El6fn8uoQPclY0Sfx2PnER0V/1HLW6YzH84eXkgtJRMHMNR\n",
       "RjiDYipxudW3tFRQfmsLmNS9phVBCJjmPDHXAwYwpZ8R3ws/bQSEzRUJksWopU3T4vSNTuDdt0tw\n",
       "d6vp35xzjeYP7aRzvTsVGPA5CHu7e8YEE0DvuwW+o2eD4TA2a421+DeYPQzPDUD8usUGb1qctBJF\n",
       "rhZw9pxJ5m7XhS4RGYSgIuPqfJ2hfFCKFzo9rnGfKdaIUVjZeYdl5kPdScqY1JHgMQ9YGWAXd9ay\n",
       "BAesFa2YfPdp9O/URr69B0rLNxxTn+OapiEHQihL0P7qtk5OvWaBgB0/QVdyUtJAOVXF/Tsjv/y6\n",
       "kdNoCZQWC0nmbBubJJLqY11Vw3mryP01FbjsKtZqfxtp1Upk3K9YVgUffCeBjDYR6vRTnMYR0Rq1\n",
       "Oy/PAeYtmd9XtUf9rm1C6CU/rqAegCWhn1schOwoW8KD0aZxuf7Xd13EGHejX2xiqRCMAcIATcs4\n",
       "11M4MM5HOL71vRM8bg13ptzn1cE/cBrWvzySnOh2KZsQBaEV7psG9xUzbXk3xnhOW7awca7zNBA8\n",
       "WDklzdjOC9NUwBieSE4e0Fh6NL0BwitFs+9a+7ewR0NB0fM1FNVSqQEDyHn6LewmRL1sY0Ze6JmI\n",
       "9WiDleZF5ZKYJvW3gxR5N1Vp7P3wt+vvvp43sEW+R2rngH15Eyh1d2H3UEf4IKkL8DzlOe54nizN\n",
       "rm6KomQazL0GQBf8TW46HydUDirsH3W/9yW9iXVTMiGjcZLwBBT43GmioTgee5L56mNEJsI4NFlo\n",
       "xChsOGg24hVyM0VKA2cuq6ajXpNx1zujj7sao/uOAITFtTX5OK4WMZhJhDPY1dpB63PaOub1AMei\n",
       "lPHBCoga0KOccIkwSUO8Nu4i/MBb8zT1hDEe8KxxqwBsRKC+8m/YewxFHU8VLxkcYcGghE9lzv36\n",
       "5EIii8Vl5Prk4JlfmcQoVC1ZOWp56h/+PHRy4ia/cW1gofV1Fv1ZhtwuV/kskglR1EUKIaXzS4vv\n",
       "lIJu7WRtrB/yfJY+RGBQlHwOvRbPcYpOtIukCdcBabK00cZp1+S6N/1VfUzQsZrfLiwPCBxSd+FG\n",
       "UPtWPaIRVt2yVI59RWAd8t6EHu1JvgIk/m/1A1nmAafUntl/670IJkPAl5C0a28cYEINT344aUIg\n",
       "r8gbIIEAAAMAb4mbeAGVioPTAAAC9kGaJGxDP/6eEAPc21kAM7Bb4wzuD6ogX0/Eb+2xoaqdLroi\n",
       "NQz2mBhZT3DWnjmddbeE6/wdlzINb7+aEdNS0+K7VaTVeoY7Zb6aWtvfGNEh0g6z2u1YLbxox8uM\n",
       "rCnPyjjv5ezfurhzfd6ju4+ljXtWsHnWOOsxoN5O1rz6syQKQIFceJsg6/h8s5NfBgPgmEaaHuAx\n",
       "qPqObdSrsSqYHW6u9sgAAaEd2IQeU1Nuy9qMk2ZngC3ZbLSLBtj5OCsS56T7IWfYcqUK6j5Aorh6\n",
       "+nfrVmhQWl3pZ3zmraxZfwuXF/U9LyP9bgkjl961qqe8bQO9Imb32+yfu38pprucY7An/QKwiZ+t\n",
       "IvNBajytL+kKliXyv7gj+2EcaioxXNfbW9M0mxTRmrg95MzRpJgOaVJbZKc4I1VoeJuCqNT4JGFO\n",
       "JKBcBqrwthcSYxGU+ybLfKMDI1RkZfN/Yrol8V7Rdy4LenrBvSl3ASTPCEMzNYNAdRKG6K+eefwW\n",
       "JGywq/PIsaSUGXDs/GXelZhK0lcdLTp9TrsigFvcj32EfyhhsVr49vRFfQyVHE1OzJcWSaEkyLcK\n",
       "bkE3/4tbFle7q8ZO4Gf9TZZgAsJTiP7DpD2/3g98iA9CMB5XIZW1pRRJCFTLCKeEsytiUzQ3/W6t\n",
       "jPkRthqBRlgIH9net/pbBxE+IjgP834pu8g4zouhC4hIgEuh77t9gqxkYXPpKU8w48Ae2zDS5kCY\n",
       "opV4i/Z0unXKrsJusB3FlI0OEDa9O5+a6llErbIwXMH9WCLouGmngqnwhPjHfvH26EG6aEeWpvE6\n",
       "/zNkSmqbY65v3ZQaH3/IoSzSs8C8XKhTbbKTH+nu6iBNFZKgt7nWmXolOIMdSTjXl8xOaJakjFCp\n",
       "eNbP06Ka0/MChEkzci1Pa85+ibtgXPgFevh8zAJ/2I2S+fgIZkEV9JOgNj0FV/2w1OaohvUeGq/7\n",
       "fccYx12KcBYYe423p/HJ/YC6Ht6/66LxGzW64HEbx4iajZ8Q2EDAAAABDEGeQniE/wDig0h9kwAL\n",
       "PC4rocslbkvmSfiOl/tq+tgoPmhulXnvO9TK2/tsyoaLtPUylkZ3x0PNf+VC55xkJ3qm7qyyXHCA\n",
       "85lxVtMJyrhQydCveJXBmzVXY2x9AjQzCq5hJRgoq8Lf8PsZV84paQQAntjN39UsNrXj82pZhJeU\n",
       "sJ/1f1hLnuKVzm45/DJgmq9Qj/RWMLf8CIySoJBVVXc4zwQe3ON6mOR33iQefubGhmwAwQNaV3Sx\n",
       "wYRN33ry1unD9LwlTWRqV9yRC9BVsNxtT7bWllcBZ5Q92O/SR6LoGfhEcSJtLT/xbtFuu0ViC+fG\n",
       "896JVaDsnvVvLRj7kYoXoInXo0PIuksA/YEAAACGAZ5hdEI/AQ1ejXWw+AATt3I5FwYJH5OUD6fl\n",
       "orawIXF2nF9lZeD9ZKEZ4TTDhCiKSt89EivVmsEQvpHQXbO+w1JXhAzEDiIDOekiQW5f/sRlV13N\n",
       "OnTsr9LPrbsJU45g1eN2GypiGZAAc1OProht8/cUzNHSxwbNGNLV+m5+u/Jmao7eD0gAAACEAZ5j\n",
       "akI/AP5EhPdN/3xAd7ABLVkEhljyJ3D7nJUoaQHu7Izr6VUcPbQ3iMWPbHODkRWsqKnBbAZjECnT\n",
       "8DSWDdZNfDFjkx03xeY7yY7H8e/iftFkIOi5poO+DtimICuTvZRQ86gR7Sbkyn9AhhoKoNk9R9eb\n",
       "CT9JaXz3F0GwZeYcM4vJAAAAz0GaZUmoQWiZTAhn//6eEAMfSibj4AEwW7np81pS0JYJhPMUeS+C\n",
       "li8mjreWQOlvIIrpae73pSmhQE49jWVKEvSCB5TTsEopCGhb0O5WgTD9pRQ2mCNnahp0Ocm2rTQA\n",
       "8KqJX1vhSB+A9rr2HWsKJWUd1gHPcLdvPh+FDO/yLWg5+0UjelFXDqGsVyinb9LFLW2LmT2HV7uh\n",
       "ZFWeV04le/WfdF+VBUKVST5IsjYTT0sMWgWNEfdX9pyQmRfOiqobaB+IlCZ4Y7nfiM2xVJa18wAA\n",
       "ARFBmolJ4QpSZTAhn/6eEAMLClsABsY2rZXFsxafbPF1uNiUfczy0z92XWsV6bUlzVDBZoyNP80q\n",
       "j17TrOazGNugJhZhi331qWrjdH6h+L1OOeC608RVAcPjNGk35cJPTXV+0l1hW0KB0IxY7sfpuTDh\n",
       "f57NUsgMW8HMG3Za0dl7c70hhROauJuZhRu47QGiPIPXQaph2u8gAZGXQvoE6Fq+rh4AbPpTFCPX\n",
       "Wb5ZVoqxVFvNjEs7YFYGNmIHzgxNks4JSFPeY0pImgAFu0X3uWloIIAOMjGh/YkekdA9WS+7ZX7j\n",
       "WKTIT+kEYYhOwJiWZJ7/qmpKzfo62jpxdZ08NQ5a+Bb206sU7mky5UGlMYejfMEAAADZQZ6nRTRM\n",
       "J/8A00LuoAJODSMdN34Rl22hRPl85T2YeNuw7aIf1+vPs3L0vptcps1swffdo82FT6FsX/kgWLRb\n",
       "iEAiYBikueITBywAhyGEpoQCms0GmWFJfC2jVsVnaQlzAxjNHRqmjqKRTFAMC0C6Lx1j+83FuTX/\n",
       "ltDPXusfwRktHxF1Yg7N8Cwf7HgpOCLSGNXWwvA134j/LJaoY5Ie9DCOFCsWBTmYqAoC94cOAXaY\n",
       "d5EsmqdcMJpdDBTV7Wz2TBejv0M2vRCgHBbdlJhOg9JpBD6Ku3TjgQAAAHwBnsZ0Qj8A+GWPkVXQ\n",
       "A2wcGcDHGd1UlnWD/XWL0FK5scwz9UKyWPjGuEkPbhPaW8CKf9q0D5TAt0nX32ldelcFthoQCTed\n",
       "Hzh4/QC63hKQzjdcCKR6pG7mGmUhHQd/7MJhaQ4t136j1ABIfYxa3ySFAj6mTEY5TB5AZKtYAAAA\n",
       "iQGeyGpCPwD4f0qBTxPXFzuN+2+A37VAB3lKeTNYGMcGRh36ezIMxoEuvNILsQMCcX7wOyd92y3X\n",
       "XDxxslofp3qzR68fjKOgzECHWev5POxNdaRpn695Ov/aRiilQNeDC/52p7lZC1Oc4Kf611x+XGLa\n",
       "YKhGPQS7G60UtStWC7YZAOW7lRWukeiVAAABSEGazUmoQWiZTAhn//6eEAMLcsiwAHSnme7XEfBF\n",
       "WM8ZKf7Nd9mpO1LVLyymf/bBLrTUlTN94Ee7IZoSjUPJFkqOsTVTY/VnbvEhh2XUq1jb63jlc5Dw\n",
       "lmJWQrJGQ3wQjH4QmZNU7+9VlS7BNlonQNYDLlmkk4SKsiWSC2/BvXINbbYJPQpX3ifx86xeDwAa\n",
       "TWXdg2SfUlbG5PPIRH/8bm8CyU1AuyBTqbFgReew4lDNkXy5J10DvCmFO0IYnB4arjGZCOeAYx8D\n",
       "5brLCzEEffmdTopmXiGihrVBKEbaq15fMyETvdQ7Y8UKjUI0CQMS0/dPNb7o+cZvhY73+9nEuBeZ\n",
       "cevp/k3tpszmRXwgWioSGtJV0jrQSVktdcViSnAi/wSo8BloPr2RqsGY86ZbZMQrIoSq4xMPLKFZ\n",
       "OYOI4MayqF1gZD/zdSsAAACmQZ7rRREsJ/8A0c4uQAAFxeAGTjbzd9QyyBICzWyWmghIjynS0kuO\n",
       "+HTkWIZe7xZEBn2bx9HYXAgZpy9rrjWCfN1tXcpLqS9zTc2FSMCG3AcKSmj/Cxw6CF3Ayneh4hjk\n",
       "bRiONqgiB3YmuN6jCLKGF0zCF1LNhV/6BcWMPJ8joggOByEdIP0LepFtnyyveUn8vyWO+BilqRCB\n",
       "EiPC7Pc6Obvo33GChgAAAHsBnwp0Qj8A+GWRGsMAEZGxllh4tx5ZxdNRQCr61HmTCJL/sI2ywmIv\n",
       "3p5aF4gf6yrhI+fWm6qsnmnr4Ahz4CKtv+v8WHTRiObLoHbiUqokY+5x0E4u2SAYjbi0LmCbi2XK\n",
       "kX1iEFPeeFG5ltevv9xTZcV1aAmnYscURdwAAAA0AZ8MakI/APiBD5etSV19+dZh+WgA8kRqpznk\n",
       "U65nsujkQTD/4034ROJEHEqBNiK/SGbqgQAAAMRBmxFJqEFsmUwIZ//+nhADDSkvFgAQ3vD87eXX\n",
       "ZaD9BDjiCmG4UP/suMl54IZ1gFl6ZoFyMhS/CWW2fPB7flA9zIJqvII61qHm4vMDrsddAyy6xVZX\n",
       "b8FCi9D9uWmIifftEjKoErZMGQFy4JuxuaUxvxWyCXKDo6PFkmoeyxlvDsIljHxSzCdug2Xo6h6J\n",
       "rLswoSPJcU5vyzi7oc9d1z2lQp0FVMBHCN1vFyM6fCQi4WRNyayFBY5fQenb4ccZQYI5MkjZAAAA\n",
       "WkGfL0UVLCf/ANHi7c6gAfO1T7fGgO2/qai60yLHyD2B0YPp891zPTocbA6npjiWButlIWt/zbIv\n",
       "pI8QIGn9rtx/Lq38eD3Wev9W0hXn/zEgyA4OodBD/bzOOQAAABgBn050Qj8A+GWIh36PMbnKxl5I\n",
       "a/zONJAAAABGAZ9QakI/APiBHxiN47LDTczm2ACcbm6wKT7tHaP4BSRnluDshrSdifnUZkdLXeNY\n",
       "Ym9cmNLv4KPG7/L6oDKbsZskviRWwAAAAOpBm1VJqEFsmUwIZ//+nhADHvveAC81NODBiWAgaSXH\n",
       "qiYhg8AiFzK0Y043/AHaQRmoW0F1STjioOJSchrQhcdzy7254mwfjIQhCQmqTQzWZqwpaFsaLd6s\n",
       "ix5JaYMU6HKpPX9Ef2sZqDQ5VqU7U/W/C2By7W4+8eQA4ff077DeiDOgPP0lNLffWrn15VJmznRt\n",
       "Ov+pa1at4pcsvq11xrPkxUmSB/huY7hdjjdWZj0K8qOvzIC5se2jVyjis+b55HaDfJy+P3cLBSWm\n",
       "Kx/OoqKjtc4s0DyJ0GcVjySUiNd73VLL3Ebck/zglTEAAADzQZ9zRRUsJ/8A2AcwMEgAuLy+hLr8\n",
       "ia8t+rbMOhmGhOmxjRzatzy6PXKvStECu/+6DOgwQrfR381PNozci9ft1LWMdyj/fj0N7g+jrEY3\n",
       "gzTS34QTC62YZmckce9ejtpNjR2ndhBQljwFQ7a1HuSlqoqCzO5u27QVhCqEo1TN6LtPLcc4ilNk\n",
       "dhxD9coaAYTLWOd98merB2tfbBKGh7PQ/RSodI89Rgda7tJvMC+Kd8qgR8sgxa6R2EeMEiTzTvh8\n",
       "xWs2ed+9kYkizgTwtHST4zE11P5gT5L2NVO0wS/qfkNjvhMQW/ookpJz8NxFROvLOnDeAAAAgQGf\n",
       "knRCPwD95GYLfm9NKACWrBIOjUi/N/5EdwF/bsjOvpVQs1F+vgim6NKPNXkYDpISRsOU2Ypzkehp\n",
       "o86QSl7aoB8pJScZvF7hOBhmAvvxuOs3rStFd7Pga/QLYKBpf9duBXq7968lPTEL7XoHoRzTemMj\n",
       "r/AF5+V1CrC82HbqgAAAALQBn5RqQj8A+H9KgMtwrDEdRMAC6jT/W/UDbNptD5b0dxsvMUWEzMUO\n",
       "DCx6LcIlam5/5QGRNQ6sbwbaPUyx3YhlH9nYAv1mW7QVPtD6HGRzsvh+XYAXvaQCLYsRcSyHERlw\n",
       "iG99D7bbjdQub4ms7SWboo/vt+tZoQZkiudX/pUxtRAaVnR4116NwsucRxZrR/I9F2y8fb9ysNng\n",
       "az+dSer1f9aY5IdsefZ3OoEe6SHRHnu7ZcEAAAFFQZuZSahBbJlMCF///oywAxR6PMACbJVpqmuS\n",
       "qDZpCFWr2UAgqk8j0WAgLwbzAKqOSWJewZ6m+qe3mNNvmgn9SccKDMWxo+G6tH47jUzkXpz7cThg\n",
       "KsYlZxNB4V/YZF8cLSZh22Mnxyc4xJgk/NlXL1SgffysvSy0mJuCtApHnCIMcax23JqoFsPggLBn\n",
       "4D3Ul37WO+ByzggwFPiDE/FhLjAi4ebXRK0ot7a1jn/DeDaPaF1rf5Snt9vIK7S4ulhokMushEsn\n",
       "HENlqbf7TgxP9vRWEcuJUNDtwONrZ94kJBXwuhwClxqkdmWPxjEsyoicsn5dMAQNMx5wohsUCXGO\n",
       "Cw57aacGaWrjyewLuh7OajEEW/QRSNutrNHRXjqRg2YXlQ+/3exoVhQyJ7C3uDx5J9HKrgVu0oX4\n",
       "JsB/EfylN8wIH9pOmAAAAN5Bn7dFFSwn/wDTQu6gAshCaEhunudH2pT/j8f/AIC96O91MpIVrxYq\n",
       "5R2Rlt/AlTY7u/dDqeIz9XmcYhvhaVak1Q6K5sILwo+UoMTfGn9ITD70+m1wGN+IxWZndRXjBT6L\n",
       "Abz4ZDA5t79q/oxdyx+14g1JEdW/iryk/F4mfA+w42MuCeBhVH40k7D0arFC/AlpkRmn0fKuy0ww\n",
       "JUNaewB1HYR9s3Y444lRSC/rd5Tq6DFzU0wiB6sMnJT8mj2SYdZXZkpp+XQVHxG0ECRhNlZGO+tf\n",
       "+Gm0cNKBZY1KIvEAAACIAZ/WdEI/APhlj4PcORXK1qQAfszwOOsWTToGz5G8s8EnsfmGl9vDvclQ\n",
       "mjRl2sp84iZ2MQDLguBhqQ09cnljk8CysH7WKy5R62Av03RBrvgPHlsjj1rPaVefjraq7i69D5ev\n",
       "C4chM9skuAdTMtxy1BiRfp+OGGxI3AAeDXgFiXgeJJcOdnF6QQAAAIABn9hqQj8A+MPkjzkMjFAA\n",
       "ugc1+v2wUJKh4rNIpHDJDdQUr0yTgGzX8pblsbgzN+mtYWEh87eRXJw9IPF1K0Vw7KpiaYPJ3ekd\n",
       "8m8fStJXpEvTGx96aw0BmTXSHaUTQ6xeNb/cI7hi9eJ86GN/iMth6m9/IRw5HEombzvbgo/h4AAA\n",
       "AMZBm9pJqEFsmUwIZ//+nhADC1hCwAJsuDYO/wphriYNwSY1gzGezlM+3IIdtFGy7utFEXLF6XYx\n",
       "TRCfdiLrLOZcxx48IIjy1kRRUxV43f+V3v+pTWxfakHoaKIi5TbIz282/cxDJh3ibqMNww5yt892\n",
       "LT8plhCOplIRYF66rPMVzcAqhAJ20p8tEDnKid+Dg6V1l+ZaCqKB3zObmLdPzedOPpYqW2jIApy/\n",
       "OGcEa9Gc3pLfbAO3zc9imzo3iS4LvD5PMiqAlO0AAABkQZv+SeEKUmUwIX/+jLADFnOhzAAnGNP9\n",
       "eHL197NyeRPq91NUN17C3NoxsZHWCktmj31Uxr1Jggl1lgXDoQd6iZ09gTQYGE2r79rpKx+fECht\n",
       "BtehVmzl8xC2vf5DYxj846hW1AAAAHtBnhxFNEwn/wDS33S6gAlOZaSYfLLeLMKBCLz0j6Dz4y0y\n",
       "Rwbjj/8w439cMVO7e46rvVZG4dPxyDYCvDa0YcfF059i2/ApL2ZLFA7m+dimR1BDUXSg35pozyWD\n",
       "r8DL96OX4SOQ140iruv4Da7v1DoN/Nkn2e+yiu/MQSMAAAAvAZ47dEI/APjXljxjcJajtIoYUjbr\n",
       "daoX2A6d3yAC6A7Q7uvB/M0w6qGKenuUsoEAAAAbAZ49akI/APjEev7jdQ23spsrFqPBsIncw9Mw\n",
       "AAAAX0GaP0moQWiZTAhf//6MsABOUotCDVffkEAGUAx8yPpTSmmsE6Q3BbDKpyFu04qV3PdT5Rly\n",
       "9eVQPJEcwAAKxZclCx6VAA+MsDf2xuYuMQLnD/kS8PU5zbQOk6ZkLEdMAAAAw0GaQEnhClJlMCGf\n",
       "/p4QAwtyyLAAnHmtgXBL25AfLgVsVkTIhEn7ac/aEdpq/Xs5BILGtuy+3S5X8TXqBXu16McVR2SB\n",
       "VAx76eyaSV+9ozk5YZIzh/qpGSjruFZUb7JeEu2m3BR5rVQrDl1xKlopGZcw/+G7OBvjekgM+uNG\n",
       "fRIMTaeAIDGsGdOBQ56Y7hmf4uN8qJkxqczRFuMjd8bHdKnib3KkPdXRcVouo9c+5sj8tLa4Fjvh\n",
       "SGNwtX3TY4aac+j0fQAAAPpBmmRJ4Q6JlMCGf/6eEAMM6bAlgATYG6Rl8HjGf8qiCsMW9KyrUgqT\n",
       "aTaPUbQ1T01BOd9USzI5tLteqbmhLLobiCpxGIPXZfCElPCSNZuQvXOjQIZSrzMnDECeBmAuRJQW\n",
       "HkfoH31agavagV+xYot0DR/KJyaEDZgckA1QYIYe/VXCEskE4FqTk3zT+b6+Lle07ybVt1ZkgzI8\n",
       "lMppTBx4fKekfQZxw8sUEh9uo3eOAD1i9yDIWcZwhPs80Tj1LeAml64caMLAaAvwcK5fCpkDkzs6\n",
       "+ydh7nCNMRDjljzHRNFQrJSYsKjDc1unJzAKomKu/S53snr6XmNWAAAAyEGegkURPCf/ANNYvtQA\n",
       "ScRwM3F+dFEnvGf8aczCUmLi+cH5y3Dx/ZuZkBmhKiDcQxxhhu1axCQ/WTMFrfj0N7g9UnhnTjOd\n",
       "muax7yuJ07sZ5cmElxszEfXapvPbXEOgFklDR3Lqy9Fvpqx0IAHe9BPHN669I+4YjakJK/ySvZrW\n",
       "mLtcTMeh8HhwmOKqbpIA5o0Cp4QU3YWWhRyHGbluRGuGYbVKeIdyKh4Sk81eNOpG+ihWObHx+yOn\n",
       "7ogk6+fMuXVYMOBXGsqvAAAArQGeoXRCPwD42E6hBaxAzGkgBa1hqbdGY2uOiw9f0C8x+jWnwxXq\n",
       "RB1a+U8E0LY1T6pSsd+ItiL8KzcKPEj7UH//4+Aaz8wZoErKkil1KMFqv4KsshntgqK3bkVCouDA\n",
       "34mj2JT/ppESvvNCzINqmRseW3aJaA2tiHwerS4wtJCPo5O8mpH1Z+uyhMhKJ1Y5xPeb3lZnFccM\n",
       "SBDux34AI231eUqJsDN7M4zopulbAAAAjQGeo2pCPwD4xIFXWFA5J0qwATI8xZAKQ68/HVigSJ9R\n",
       "st6J/YWhDKU1dHqEfzfkXMyOO12qQ+K9EX1ifoFPwlbZC6dWy14vCfHCiD2wWxm2IG2QiBxEa9/H\n",
       "vcHidGFCFaqMUR3xiSJA15W9W/i2tRwLtqOas7DDVIhq1J4uKbK7wEMTrkHhNLoo1mF6QQAAAXBB\n",
       "mqhJqEFomUwIX//+jLAFN986Av3WyRVQGFRjv8K1zY5WT82XGjWCYwFop51lVhJJMIgglBgPFoAj\n",
       "AKfqqwGKu80/fo2sOP9VrJ3cx61sMeEfB42Aa6Z+PvwFbzMmbozwhGBtlvnrwWWnf8C/eTW4ydod\n",
       "ih/UlgZD0gqkdzfPfst20nudqBK7yZ6HECbrdjWJ+IHl3I4PkLWWa8NJg2Z/mnFuPe4ejSI/FSLT\n",
       "tcZHAJb8mHkbGiwK8GrdGkunyBiQ9mh30JM9+4RhAqq9h7swu3p+YDHrqTJ4T7TeaBEo/XpyAaZz\n",
       "bkFoJTOOcZys+oZyeRvW+H/9dJuDuRLvW7kZyaS2Y+li4V/K+yl8ISSb5tKlzdeLPnygzUTHZP1m\n",
       "jKejF5zEonfjML4jcnEbXewqZxiLrzOY8rMl1tE8ccw4ljiWOJu7cyd/E+LR612pbNYLiZfCyQrF\n",
       "D4gMJhC8bWcBtyrh5+Bg0AL93rc9f41pIQAAAQJBnsZFESwn/wDYCGT6szIAVc6yfms83Rtn4Rsy\n",
       "0DPsFgF0/qEUxUlyLv9gvHP/493mwAGbRZLB9piMmT254PIyAYNWK01bI0VUl8Vg6iHK0AlcjQpQ\n",
       "z0MW8m3aQ9m0YNp2Idr5wf0+PFc1XXrE8lLUQuqVqd87XWPvFFJPo8/yj5d7sZqvhU+wKL7pCT7b\n",
       "PnZpncVSOrftu0jbbk+oCAK4BLx8y06m/gBQC5yuj1RXfW157y2PeRhpOwR9voMq/IMV/7lXkQII\n",
       "WgXbDo5a3pDvVL2OlSoApBNDTO7Rb4n0I4hGUllW8IHpiXR9lRKs+tX8x1adLryClwqNjn/HaSqe\n",
       "lI0AAACDAZ7ldEI/AP5XlkB6D6YQgepkAJOkcrKQVKcHs6Uwj7OK9L7RwQ9VBB9z1QRhvzMPDxxj\n",
       "BUDrVCoincZBLNzQw0CQqAz1/lPkLjcB92swglREhCAWki8mi3K0WgIsdiI0EHm1GLg4wzxrgza1\n",
       "LQTS7TLsPbXKP+NCyk8jcA7czRLo8TEAAABhAZ7nakI/APjEgfEOSADiyi+GzlWC0mWVHBaHdyKD\n",
       "Uh+ZO3Q0E8ZWm8vYMx6TSbLL4gFTiJFOGgIBd8ptJ7+mh7syaEJOG+2vsYPDgyEq256cqjMBOlPt\n",
       "CG7kcI2m/fjVJwAAAJVBmulJqEFsmUwIZ//+nhAAWtRJ4Z6y2moAQlQhCQrEtHKnWacuirUReqjK\n",
       "CLl/0G2bdq9c7hfqW27qls1Txrhz5HWrVELkeW3iouclcK0PQEAHbWEHwyhY1w3yBR/V2hrQn4zp\n",
       "8xdwGNVQUFVjGh0QL6vBGMVG5CUBdU3g69uQ2DibgJ3fqr+gUr4eS8O9VHijlkSNgAAAAF1Bmw1J\n",
       "4QpSZTAhf/6MsAMYOS5gAQoxDsU9qIGQjWfy4HoAm5SA6QfajbZK8zpUFZ57idW0vcdxsTNOCxo8\n",
       "kUsAAYW/r3hAr3ixhKikwNL9CtkS8XIEmaxUcIbioIEAAACMQZ8rRTRMJ/8A0/fqACWrPQZLg9ww\n",
       "2VM3nNMnlLwV9LYRWGlQd4J390CEYcS/APA5sbxSSkzUmZ173E//dBXRvgxt2SlKb0yIJsmxBumy\n",
       "qTMDpjQmgs+hV5phTK/fnn979NpX5wSm0QBDC5uZNCYjiatj6ypgI3acuwJT6mu+RCdSzurgfDhP\n",
       "Gxz2ZiwAAAAqAZ9KdEI/APjYSIg+cdjOmzbla6H7P8bL3fUAH7Vt/kJQMFKb/vMr+lJwAAAALgGf\n",
       "TGpCPwD4w+SNQ+C+X0vjrAJIHtYCjmYNDEWb2YAD6y1cDpzKpol+1VWYrYEAAACmQZtOSahBaJlM\n",
       "CGf//p4QAwtYQsACbCn/M63Qq0qtVNB29aglsHOTkPLPJIy1foEgY5oq0hcAJHQdzjH6DWKcGFi9\n",
       "tSP16R9BaJssM/yHkfTZ1XGGN/csJLx17Fo4fYoQ4zKS2Y8K/LFjdnaAfPC0UNhWR098LMlkXtKe\n",
       "2XsNvBDdo0nJb548gTZO/nImtexlvnQ5WLAkKdlIjmj/0aDuhAxsPTXagQAAAMBBm3JJ4QpSZTAh\n",
       "f/6MsAMWerlsAJUKmRJ+pM0bSTMLgRaautyNJKy+ZaRz5vlhHWeBJOG0G2EDfTo5TfboQfmwhye7\n",
       "OOpMzeo+kINFm/WgFIPuf3L00+YFcLxajZq6hlBQ2IajhXruu22ENgu/1EX9oOFPZnOstAx29JIx\n",
       "2rzbxanLf6tt9jTwj5kIq9rsdAHon3Z1I+y2fJNVW4LpGqvLLp24ZI1rC98zelOG6cyXy8mkXRXM\n",
       "Tj6OwXfTKs48z4EAAADiQZ+QRTRMJ/8A0pPHiAALi+Ni3BaWNSNWKvHDotiTy9X3BU0FRnKNH8ny\n",
       "Gd49ct0yCyYffsXNEuYy/IZKVY8niMVz/7kzWkVD2mk74qNaHsjAO0i+j/LaaiRexzw8y3NkEJNz\n",
       "s2RR/C8MeZDQTXRuqApeKgwkL0AnkrOpmPDb4SFyK51CXYzpxBXzRwk/5oUaTe0YQZZcb34c1o8A\n",
       "C1faOellLsJNLvZ534PotcDiXBweYiSl47yA6P4iHrfdDZxCNwBhpL/x4EIyqD6M+M0KtR1cbXOP\n",
       "Wjba58FHvNuACOZFTAAAAJ8Bn690Qj8A+NeWQKbEzABdASTUaJf+oLe0ByY/i4M9GEIFjauF6uiD\n",
       "Aw0SVxdXbVp1+C82QTV0DMSF0JhnJZOwd52qBsb9a4oCJYhtx+TLfk4sYS5eBTZg7uKNx5pMmT9I\n",
       "UM3SyEQhn5IgpHWYyDU00GaAHK4OEubCkOFSQHyRK8C7hwPMytahxSh5dOBUCFjm/ptLrXzvAZve\n",
       "1MHvbSQAAACvAZ+xakI/APjEge/UwVi6TJakAJq7oYdH2amdvFjeLuUFLAOzW3ebdc90im8T7HIU\n",
       "pv3t7ut8TYMFnIkXFO3A7De5EWtkBJGFAy8MCzEVWAGbIyGzD1GKwn+2f3Gt0RqpDMfcUF41JcsW\n",
       "5lhYvPWCAMxhJhxLl5HQ5HSq2h+Gd+XrWCFU/emygGgnX/9X6UANEXrEDjqHVVuq8XwHIC1CZFjh\n",
       "OF/R98mvsS5RB3zO6QAAARpBm7ZJqEFomUwIV//+OEAL3iHwAD8SE3tpZhmbSXiBRoLUPpOzb7cV\n",
       "RybkB590NSYLcAtrPAGN01++XhMzcW6SQR+X1nwJYwrez09xGOkHhabW5hJF1OcbgA9hb6k78JlE\n",
       "C5Xf0zzsVMvzJzMv+oAUyrsbyoV3UI8f1kCWgfwVqOuwanchWQZKFEf7R7hNQ8vV2I7Nds05rrKE\n",
       "Ge+sSj5vr+DJ6ZVlOJVG7jX7F1tCYwNFwbx+bF+JKUAzRHQwmld0PVxwiSfTIgq7TeqJPvlTJjuA\n",
       "d01nqA0YlJd0Adws/KdKLDASa6RvWbgHtbX/96y4FhQEX2HovIs8kbZDxK/pKxcd63wjsF4k3s8D\n",
       "X9qKqY3+l4ImoCcgKtgAAADdQZ/URREsJ/8A0lKU51ABKkhVLOeuctVVA7EKhMNB+VTnF2F/4Sgo\n",
       "KsqETDRJCsgpQujM4n2p6OszI0Sb1+yBUpZE4jcXMXeb6j4MroUn+LQddR2XHGgP+cUSysW5y9SQ\n",
       "Kd2vKkWQSon67vhlCGup7MLZ32sS3wL/TSNzx44UZFJpAhyJa+ZV0jhYskLPZ+KLO3rhIlVhW50z\n",
       "wWT4kTE/uasqT1u3c8BeRpV1SeD4kPIlUIGZaBEmQzfjYYD0luQSiFOxUQ4ChN+FevO4EpFSbVzn\n",
       "JCMAIRn7hzSgkmAAAACZAZ/zdEI/APjYT4koj+Ta0UY0JAAnWSCGLdelGZC/DE0veuIPNTjUOPbC\n",
       "eilLnnRHjxU3fLpGihJ6f5RDsYBF4X1vDvwEyPg4A2poJ0HsZqvCtLVwGxo/eoJBcDlTBKsNTtSw\n",
       "1chxn62xzy/T5e31MmJoPH6Z4LzfyE5o7dpp9bQxAHg/+F7ruBlQr2iTu/MGkwimH4NPLDGxAAAA\n",
       "mAGf9WpCPwD4w+SPOW+4AiYuMiDdLMZpZVE8XrpcThWuggLOnxwfnzQ9cr/Rw5hnMp5suds+NZDn\n",
       "c3uZU2ay8mVOnlKNG5ctoKh+sXH/uSJ0U7n44jK2TugYMuGlFmvZ7Z0esoFMY0aj8457fLi0fPCY\n",
       "aqbHNSiXo9N3K16u8vZOTLOLB34+ZV7v6egc14d8++n8YJt1RU3AAAAAiUGb90moQWyZTAhX//44\n",
       "QAJaonrxKkZHGJtv25CMFQuoAJaKCQJHrhnEhoYmNwiMiz2aThEqsl6dBqbFzOHf+cCX/NW2YRGP\n",
       "IEvB7OAC1DqN4LgcSS44iEM93WsLrmwgYeqEXtTJF2D5+6J3ERn7Y1sKMYRbbrLRB5D8BiMRHenm\n",
       "hTfUraS1vnEfAAAApEGaGknhClJlMCEf/eEAL2B+O5FACZbF07K4EUPPRd/SHvbLpzEkoCgYBJub\n",
       "olTZlXeEuTXfTg5R6+JQczCAK5fzzvQM9XQBSElxEAXqnCyDf1/XaJ/l96syXNMEaYanKyAxEa4c\n",
       "kKKjm+XpT8VNzskopk6Mxi3Xo0A3R4GTPwEqPafw6fSroq3SjGj9pOx/MOvxwcTjbG8O1CkHxxKD\n",
       "D+/cAHLBAAAAOUGeOUIR/wD+Q+7KYAPkRPjtd66CBPcIFr482f7XMlOKT/QSxmSFfmz0ED7c2UOt\n",
       "J2heOeR6A9mo6AAAADsBnlhpEI8A+GRmB++IX6u9DC0HCXsyBZgnICRmQsZUAIuNLgsmWM8flk6E\n",
       "NLDqFYyuI3NLL/SFqlN/gQAABeptb292AAAAbG12aGQAAAAAAAAAAAAAAAAAAAPoAAAFwwABAAAB\n",
       "AAAAAAAAAAAAAAAAAQAAAAAAAAAAAAAAAAAAAAEAAAAAAAAAAAAAAAAAAEAAAAAAAAAAAAAAAAAA\n",
       "AAAAAAAAAAAAAAAAAAAAAAACAAAFFHRyYWsAAABcdGtoZAAAAAMAAAAAAAAAAAAAAAEAAAAAAAAF\n",
       "wwAAAAAAAAAAAAAAAAAAAAAAAQAAAAAAAAAAAAAAAAAAAAEAAAAAAAAAAAAAAAAAAEAAAAABsAAA\n",
       "ASAAAAAAACRlZHRzAAAAHGVsc3QAAAAAAAAAAQAABcMAAAIAAAEAAAAABIxtZGlhAAAAIG1kaGQA\n",
       "AAAAAAAAAAAAAAAAACgAAAA7AFXEAAAAAAAtaGRscgAAAAAAAAAAdmlkZQAAAAAAAAAAAAAAAFZp\n",
       "ZGVvSGFuZGxlcgAAAAQ3bWluZgAAABR2bWhkAAAAAQAAAAAAAAAAAAAAJGRpbmYAAAAcZHJlZgAA\n",
       "AAAAAAABAAAADHVybCAAAAABAAAD93N0YmwAAACzc3RzZAAAAAAAAAABAAAAo2F2YzEAAAAAAAAA\n",
       "AQAAAAAAAAAAAAAAAAAAAAABsAEgAEgAAABIAAAAAAAAAAEAAAAAAAAAAAAAAAAAAAAAAAAAAAAA\n",
       "AAAAAAAAAAAAAAAY//8AAAAxYXZjQwFkABX/4QAYZ2QAFazZQbCWhAAAAwAEAAADAUA8WLZYAQAG\n",
       "aOvjyyLAAAAAHHV1aWRraEDyXyRPxbo5pRvPAyPzAAAAAAAAABhzdHRzAAAAAAAAAAEAAAA7AAAB\n",
       "AAAAABRzdHNzAAAAAAAAAAEAAAABAAAB4GN0dHMAAAAAAAAAOgAAAAEAAAIAAAAAAQAABQAAAAAB\n",
       "AAACAAAAAAEAAAAAAAAAAQAAAQAAAAABAAACAAAAAAEAAAUAAAAAAQAAAgAAAAABAAAAAAAAAAEA\n",
       "AAEAAAAAAQAABQAAAAABAAACAAAAAAEAAAAAAAAAAQAAAQAAAAABAAAFAAAAAAEAAAIAAAAAAQAA\n",
       "AAAAAAABAAABAAAAAAEAAAUAAAAAAQAAAgAAAAABAAAAAAAAAAEAAAEAAAAAAQAABQAAAAABAAAC\n",
       "AAAAAAEAAAAAAAAAAQAAAQAAAAABAAACAAAAAAEAAAUAAAAAAQAAAgAAAAABAAAAAAAAAAEAAAEA\n",
       "AAAAAgAAAgAAAAABAAAFAAAAAAEAAAIAAAAAAQAAAAAAAAABAAABAAAAAAEAAAUAAAAAAQAAAgAA\n",
       "AAABAAAAAAAAAAEAAAEAAAAAAQAAAgAAAAABAAAFAAAAAAEAAAIAAAAAAQAAAAAAAAABAAABAAAA\n",
       "AAEAAAIAAAAAAQAABQAAAAABAAACAAAAAAEAAAAAAAAAAQAAAQAAAAABAAAFAAAAAAEAAAIAAAAA\n",
       "AQAAAAAAAAABAAABAAAAAAEAAAIAAAAAAQAABAAAAAABAAACAAAAAAEAAAAAAAAAHHN0c2MAAAAA\n",
       "AAAAAQAAAAEAAAA7AAAAAQAAAQBzdHN6AAAAAAAAAAAAAAA7AAAQ0gAAAvoAAAEQAAAAigAAAIgA\n",
       "AADTAAABFQAAAN0AAACAAAAAjQAAAUwAAACqAAAAfwAAADgAAADIAAAAXgAAABwAAABKAAAA7gAA\n",
       "APcAAACFAAAAuAAAAUkAAADiAAAAjAAAAIQAAADKAAAAaAAAAH8AAAAzAAAAHwAAAGMAAADHAAAA\n",
       "/gAAAMwAAACxAAAAkQAAAXQAAAEGAAAAhwAAAGUAAACZAAAAYQAAAJAAAAAuAAAAMgAAAKoAAADE\n",
       "AAAA5gAAAKMAAACzAAABHgAAAOEAAACdAAAAnAAAAI0AAACoAAAAPQAAAD8AAAAUc3RjbwAAAAAA\n",
       "AAABAAAALAAAAGJ1ZHRhAAAAWm1ldGEAAAAAAAAAIWhkbHIAAAAAAAAAAG1kaXJhcHBsAAAAAAAA\n",
       "AAAAAAAALWlsc3QAAAAlqXRvbwAAAB1kYXRhAAAAAQAAAABMYXZmNTYuNDAuMTAx\n",
       "\">\n",
       "  Your browser does not support the video tag.\n",
       "</video>"
      ],
      "text/plain": [
       "<IPython.core.display.HTML object>"
      ]
     },
     "execution_count": 201,
     "metadata": {},
     "output_type": "execute_result"
    }
   ],
   "source": [
    "import matplotlib.animation as animation\n",
    "from IPython.display import HTML\n",
    "\n",
    "fig = plt.figure()\n",
    "ax = fig.add_subplot(111, autoscale_on=False, xlim=(-2, 2), ylim=(-2, 2))\n",
    "ax.grid()\n",
    "\n",
    "line, = ax.plot([], [], 'o-', lw=2)\n",
    "time_template = 'time = %.1fs'\n",
    "time_text = ax.text(0.05, 0.9, '', transform=ax.transAxes)\n",
    "\n",
    "def init():\n",
    "    line.set_data([], [])\n",
    "    time_text.set_text('')\n",
    "    return line, time_text\n",
    "\n",
    "\n",
    "def animate(i):\n",
    "    thisx = [0, math.sin(sol[i,0])]\n",
    "    thisy = [0, math.cos(sol[i,0])]\n",
    "\n",
    "    line.set_data(thisx, thisy)\n",
    "    time_text.set_text(time_template % (i*dt))\n",
    "    return line, time_text\n",
    "\n",
    "ani = animation.FuncAnimation(fig, animate, np.arange(1, len(sol)),\n",
    "                              interval=25, blit=True, init_func=init)\n",
    "\n",
    "\n",
    "\n",
    "anim = animation.FuncAnimation(fig, animate, blit=False, interval=10,\n",
    "                               init_func=init)\n",
    "\n",
    "# For embedding into Jupiter notebook.\n",
    "HTML(ani.to_html5_video())\n"
   ]
  }
 ],
 "metadata": {
  "kernelspec": {
   "display_name": "Python 3",
   "language": "python",
   "name": "python3"
  },
  "language_info": {
   "codemirror_mode": {
    "name": "ipython",
    "version": 3
   },
   "file_extension": ".py",
   "mimetype": "text/x-python",
   "name": "python",
   "nbconvert_exporter": "python",
   "pygments_lexer": "ipython3",
   "version": "3.5.2"
  }
 },
 "nbformat": 4,
 "nbformat_minor": 2
}
