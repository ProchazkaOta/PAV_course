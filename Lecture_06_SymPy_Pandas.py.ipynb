{
 "cells": [
  {
   "cell_type": "markdown",
   "metadata": {},
   "source": [
    "# Pandas\n",
    "\n",
    "Knihovna pro práci se statistickými daty, např. daty z měření.\n",
    "Výhody:\n",
    "- efektivní nástroje pro čtení a zápis dat v různých formátech (databáze, textové soubory, Excel, ...)\n",
    "- data jsou uložena spou se svým významem\n",
    "- snadná aplikace základních statistických operací\n",
    "- snadná vizualizace (založeno na matplotlib)"
   ]
  },
  {
   "cell_type": "code",
   "execution_count": 4,
   "metadata": {},
   "outputs": [],
   "source": [
    "# POZOR: Nutno instalovat moduly:'xlwt', 'xlrd'\n",
    "# Pro Excel export, import.\n",
    "\n",
    "import matplotlib.pyplot as plt\n",
    "import pandas as pd \n",
    "#import matplotlib"
   ]
  },
  {
   "cell_type": "markdown",
   "metadata": {},
   "source": [
    "## DataFrame\n",
    "\n",
    "Základní datová struktura v Pandas, je `DataFrame`. Je to tabulka, která má pojmenované sloupce podle jednotlivých \"veličin\" a v řádcích jsou jednotlivá \"pozorování\". Vytvořme si tabulku jmen dětí s četností jejich používání (asi v Americe)."
   ]
  },
  {
   "cell_type": "code",
   "execution_count": 7,
   "metadata": {},
   "outputs": [
    {
     "data": {
      "text/plain": [
       "[('Bob', 968), ('Jessica', 155), ('Mary', 77), ('John', 578), ('Mel', 973)]"
      ]
     },
     "execution_count": 7,
     "metadata": {},
     "output_type": "execute_result"
    }
   ],
   "source": [
    "# The inital set of baby names and bith rates\n",
    "names = ['Bob','Jessica','Mary','John','Mel']\n",
    "births = [968, 155, 77, 578, 973]\n",
    "\n",
    "# We need lines of the table as tuples:\n",
    "table = list(zip(names, births))\n",
    "table"
   ]
  },
  {
   "cell_type": "code",
   "execution_count": 8,
   "metadata": {},
   "outputs": [
    {
     "data": {
      "text/html": [
       "<div>\n",
       "<style scoped>\n",
       "    .dataframe tbody tr th:only-of-type {\n",
       "        vertical-align: middle;\n",
       "    }\n",
       "\n",
       "    .dataframe tbody tr th {\n",
       "        vertical-align: top;\n",
       "    }\n",
       "\n",
       "    .dataframe thead th {\n",
       "        text-align: right;\n",
       "    }\n",
       "</style>\n",
       "<table border=\"1\" class=\"dataframe\">\n",
       "  <thead>\n",
       "    <tr style=\"text-align: right;\">\n",
       "      <th></th>\n",
       "      <th>Names</th>\n",
       "      <th>Births</th>\n",
       "    </tr>\n",
       "  </thead>\n",
       "  <tbody>\n",
       "    <tr>\n",
       "      <th>0</th>\n",
       "      <td>Bob</td>\n",
       "      <td>968</td>\n",
       "    </tr>\n",
       "    <tr>\n",
       "      <th>1</th>\n",
       "      <td>Jessica</td>\n",
       "      <td>155</td>\n",
       "    </tr>\n",
       "    <tr>\n",
       "      <th>2</th>\n",
       "      <td>Mary</td>\n",
       "      <td>77</td>\n",
       "    </tr>\n",
       "    <tr>\n",
       "      <th>3</th>\n",
       "      <td>John</td>\n",
       "      <td>578</td>\n",
       "    </tr>\n",
       "    <tr>\n",
       "      <th>4</th>\n",
       "      <td>Mel</td>\n",
       "      <td>973</td>\n",
       "    </tr>\n",
       "  </tbody>\n",
       "</table>\n",
       "</div>"
      ],
      "text/plain": [
       "     Names  Births\n",
       "0      Bob     968\n",
       "1  Jessica     155\n",
       "2     Mary      77\n",
       "3     John     578\n",
       "4      Mel     973"
      ]
     },
     "execution_count": 8,
     "metadata": {},
     "output_type": "execute_result"
    }
   ],
   "source": [
    "# Create the data frame\n",
    "df = pd.DataFrame(data = table, columns=['Names', 'Births'])\n",
    "df"
   ]
  },
  {
   "cell_type": "markdown",
   "metadata": {},
   "source": [
    "## IO operace\n",
    "Klíčové pro práci s daty je jejich načtení a zápis z růsných formátů. Vytvořená data zapíšeme a poté načteme."
   ]
  },
  {
   "cell_type": "code",
   "execution_count": 21,
   "metadata": {},
   "outputs": [],
   "source": [
    "# Write the dataframe into CSV file.\n",
    "# Add column with line index.\n",
    "# Write column header at the first row.\n",
    "df.to_csv('births1880.csv', index=True, header=True)\n",
    "\n",
    "# Other instance without index and header.\n",
    "df.to_csv('births_raw.csv', index=False, header=False)"
   ]
  },
  {
   "cell_type": "code",
   "execution_count": 17,
   "metadata": {},
   "outputs": [
    {
     "name": "stdout",
     "output_type": "stream",
     "text": [
      "/home/jb/workspace/ipython_notebooks/PAV_course\n"
     ]
    },
    {
     "data": {
      "text/html": [
       "<div>\n",
       "<style scoped>\n",
       "    .dataframe tbody tr th:only-of-type {\n",
       "        vertical-align: middle;\n",
       "    }\n",
       "\n",
       "    .dataframe tbody tr th {\n",
       "        vertical-align: top;\n",
       "    }\n",
       "\n",
       "    .dataframe thead th {\n",
       "        text-align: right;\n",
       "    }\n",
       "</style>\n",
       "<table border=\"1\" class=\"dataframe\">\n",
       "  <thead>\n",
       "    <tr style=\"text-align: right;\">\n",
       "      <th></th>\n",
       "      <th>Unnamed: 0</th>\n",
       "      <th>Names</th>\n",
       "      <th>Births</th>\n",
       "    </tr>\n",
       "  </thead>\n",
       "  <tbody>\n",
       "    <tr>\n",
       "      <th>0</th>\n",
       "      <td>0</td>\n",
       "      <td>Bob</td>\n",
       "      <td>968</td>\n",
       "    </tr>\n",
       "    <tr>\n",
       "      <th>1</th>\n",
       "      <td>1</td>\n",
       "      <td>Jessica</td>\n",
       "      <td>155</td>\n",
       "    </tr>\n",
       "    <tr>\n",
       "      <th>2</th>\n",
       "      <td>2</td>\n",
       "      <td>Mary</td>\n",
       "      <td>77</td>\n",
       "    </tr>\n",
       "    <tr>\n",
       "      <th>3</th>\n",
       "      <td>3</td>\n",
       "      <td>John</td>\n",
       "      <td>578</td>\n",
       "    </tr>\n",
       "    <tr>\n",
       "      <th>4</th>\n",
       "      <td>4</td>\n",
       "      <td>Mel</td>\n",
       "      <td>973</td>\n",
       "    </tr>\n",
       "  </tbody>\n",
       "</table>\n",
       "</div>"
      ],
      "text/plain": [
       "   Unnamed: 0    Names  Births\n",
       "0           0      Bob     968\n",
       "1           1  Jessica     155\n",
       "2           2     Mary      77\n",
       "3           3     John     578\n",
       "4           4      Mel     973"
      ]
     },
     "execution_count": 17,
     "metadata": {},
     "output_type": "execute_result"
    }
   ],
   "source": [
    "import os\n",
    "current_dir = os.getcwd()\n",
    "print(current_dir)\n",
    "\n",
    "# Reading with full path, should not be necessary.\n",
    "#path =  os.path.join(current_dir, 'births1880.csv')\n",
    "#new_df = pd.read_csv(path)\n",
    "\n",
    "\n",
    "new_df = pd.read_csv('births1880.csv')\n",
    "new_df"
   ]
  },
  {
   "cell_type": "code",
   "execution_count": 35,
   "metadata": {},
   "outputs": [
    {
     "name": "stdout",
     "output_type": "stream",
     "text": [
      "   idx     name    freq\n",
      "0  NaN    Names  Births\n",
      "1  0.0      Bob     968\n",
      "2  1.0  Jessica     155\n",
      "3  2.0     Mary      77\n",
      "4  3.0     John     578\n",
      "5  4.0      Mel     973\n"
     ]
    },
    {
     "data": {
      "text/html": [
       "<div>\n",
       "<style scoped>\n",
       "    .dataframe tbody tr th:only-of-type {\n",
       "        vertical-align: middle;\n",
       "    }\n",
       "\n",
       "    .dataframe tbody tr th {\n",
       "        vertical-align: top;\n",
       "    }\n",
       "\n",
       "    .dataframe thead th {\n",
       "        text-align: right;\n",
       "    }\n",
       "</style>\n",
       "<table border=\"1\" class=\"dataframe\">\n",
       "  <thead>\n",
       "    <tr style=\"text-align: right;\">\n",
       "      <th></th>\n",
       "      <th>name</th>\n",
       "      <th>freq</th>\n",
       "    </tr>\n",
       "  </thead>\n",
       "  <tbody>\n",
       "    <tr>\n",
       "      <th>0</th>\n",
       "      <td>Bob</td>\n",
       "      <td>968</td>\n",
       "    </tr>\n",
       "    <tr>\n",
       "      <th>1</th>\n",
       "      <td>Jessica</td>\n",
       "      <td>155</td>\n",
       "    </tr>\n",
       "    <tr>\n",
       "      <th>2</th>\n",
       "      <td>Mary</td>\n",
       "      <td>77</td>\n",
       "    </tr>\n",
       "    <tr>\n",
       "      <th>3</th>\n",
       "      <td>John</td>\n",
       "      <td>578</td>\n",
       "    </tr>\n",
       "    <tr>\n",
       "      <th>4</th>\n",
       "      <td>Mel</td>\n",
       "      <td>973</td>\n",
       "    </tr>\n",
       "  </tbody>\n",
       "</table>\n",
       "</div>"
      ],
      "text/plain": [
       "      name  freq\n",
       "0      Bob   968\n",
       "1  Jessica   155\n",
       "2     Mary    77\n",
       "3     John   578\n",
       "4      Mel   973"
      ]
     },
     "metadata": {},
     "output_type": "display_data"
    }
   ],
   "source": [
    "# Enable explicit display call\n",
    "\n",
    "\n",
    "# Set own column names\n",
    "new_df = pd.read_csv('births1880.csv', names=['idx', 'name', 'freq'])\n",
    "# Just text print, not so nice.\n",
    "print(new_df)\n",
    "\n",
    "# When no header, we have to tell it. Try both version.\n",
    "#new_df = pd.read_csv('births_raw.csv')\n",
    "new_df = pd.read_csv('births_raw.csv', header=None, names= ['name', 'freq'])\n",
    "\n",
    "# Get nice table display.\n",
    "from IPython.display import display\n",
    "display(new_df)\n"
   ]
  },
  {
   "cell_type": "markdown",
   "metadata": {},
   "source": [
    "## Other IO functions\n",
    "\n",
    "[Přehled](https://pandas.pydata.org/pandas-docs/stable/io.html) s oficiální dokumentace. \n",
    "Zejména formáty: \n",
    "- CSV - comma separate values, ale možné i jiné separátory, textový formát tabulky\n",
    "- JSON - hierarchický formát, řeší escapování řeťezců, stále textový formát\n",
    "- MS Excel - binární proprietární, velmi nevhodný pro práci s velkými daty, velmi vhodný pro interaktivní práci s malými daty, podpora pro různé verze Excel formátů\n",
    "- HDF5 - otevřený binární formát navržený pro velká data\n",
    "- SAS - nativní formát velmi používaného statistického balíku\n",
    "- SQL - databáze\n",
    "\n",
    "\n",
    " "
   ]
  },
  {
   "cell_type": "code",
   "execution_count": 40,
   "metadata": {},
   "outputs": [
    {
     "data": {
      "text/html": [
       "<div>\n",
       "<style scoped>\n",
       "    .dataframe tbody tr th:only-of-type {\n",
       "        vertical-align: middle;\n",
       "    }\n",
       "\n",
       "    .dataframe tbody tr th {\n",
       "        vertical-align: top;\n",
       "    }\n",
       "\n",
       "    .dataframe thead th {\n",
       "        text-align: right;\n",
       "    }\n",
       "</style>\n",
       "<table border=\"1\" class=\"dataframe\">\n",
       "  <thead>\n",
       "    <tr style=\"text-align: right;\">\n",
       "      <th></th>\n",
       "      <th>name</th>\n",
       "      <th>freq</th>\n",
       "    </tr>\n",
       "  </thead>\n",
       "  <tbody>\n",
       "    <tr>\n",
       "      <th>4</th>\n",
       "      <td>Mel</td>\n",
       "      <td>973</td>\n",
       "    </tr>\n",
       "    <tr>\n",
       "      <th>0</th>\n",
       "      <td>Bob</td>\n",
       "      <td>968</td>\n",
       "    </tr>\n",
       "  </tbody>\n",
       "</table>\n",
       "</div>"
      ],
      "text/plain": [
       "  name  freq\n",
       "4  Mel   973\n",
       "0  Bob   968"
      ]
     },
     "metadata": {},
     "output_type": "display_data"
    },
    {
     "data": {
      "text/html": [
       "<div>\n",
       "<style scoped>\n",
       "    .dataframe tbody tr th:only-of-type {\n",
       "        vertical-align: middle;\n",
       "    }\n",
       "\n",
       "    .dataframe tbody tr th {\n",
       "        vertical-align: top;\n",
       "    }\n",
       "\n",
       "    .dataframe thead th {\n",
       "        text-align: right;\n",
       "    }\n",
       "</style>\n",
       "<table border=\"1\" class=\"dataframe\">\n",
       "  <thead>\n",
       "    <tr style=\"text-align: right;\">\n",
       "      <th></th>\n",
       "      <th>name</th>\n",
       "      <th>freq</th>\n",
       "    </tr>\n",
       "  </thead>\n",
       "  <tbody>\n",
       "    <tr>\n",
       "      <th>4</th>\n",
       "      <td>Mel</td>\n",
       "      <td>973</td>\n",
       "    </tr>\n",
       "    <tr>\n",
       "      <th>0</th>\n",
       "      <td>Bob</td>\n",
       "      <td>968</td>\n",
       "    </tr>\n",
       "  </tbody>\n",
       "</table>\n",
       "</div>"
      ],
      "text/plain": [
       "  name  freq\n",
       "4  Mel   973\n",
       "0  Bob   968"
      ]
     },
     "metadata": {},
     "output_type": "display_data"
    }
   ],
   "source": [
    "## Sorting\n",
    "\n",
    "# Get first two names with highest frequency.\n",
    "sorted_df = new_df.sort_values('freq', ascending=False)\n",
    "\n",
    "# head() and tail() methods\n",
    "display(sorted_df.head(2))\n",
    "\n",
    "# Slices works as well.\n",
    "display(sorted_df[:2])"
   ]
  },
  {
   "cell_type": "code",
   "execution_count": 44,
   "metadata": {},
   "outputs": [
    {
     "data": {
      "image/png": "[encoded data removed]",
      "text/plain": [
       "<matplotlib.figure.Figure at 0x7f66b72c0710>"
      ]
     },
     "metadata": {},
     "output_type": "display_data"
    }
   ],
   "source": [
    "## Simple plotting\n",
    "\n",
    "# See that we can index columns and rows by their names.\n",
    "new_df['freq'].plot.bar()\n",
    "plt.show()"
   ]
  },
  {
   "cell_type": "code",
   "execution_count": 53,
   "metadata": {},
   "outputs": [
    {
     "data": {
      "text/html": [
       "<div>\n",
       "<style scoped>\n",
       "    .dataframe tbody tr th:only-of-type {\n",
       "        vertical-align: middle;\n",
       "    }\n",
       "\n",
       "    .dataframe tbody tr th {\n",
       "        vertical-align: top;\n",
       "    }\n",
       "\n",
       "    .dataframe thead th {\n",
       "        text-align: right;\n",
       "    }\n",
       "</style>\n",
       "<table border=\"1\" class=\"dataframe\">\n",
       "  <thead>\n",
       "    <tr style=\"text-align: right;\">\n",
       "      <th></th>\n",
       "      <th>freq</th>\n",
       "    </tr>\n",
       "    <tr>\n",
       "      <th>name</th>\n",
       "      <th></th>\n",
       "    </tr>\n",
       "  </thead>\n",
       "  <tbody>\n",
       "    <tr>\n",
       "      <th>Bob</th>\n",
       "      <td>968</td>\n",
       "    </tr>\n",
       "    <tr>\n",
       "      <th>Jessica</th>\n",
       "      <td>155</td>\n",
       "    </tr>\n",
       "    <tr>\n",
       "      <th>Mary</th>\n",
       "      <td>77</td>\n",
       "    </tr>\n",
       "    <tr>\n",
       "      <th>John</th>\n",
       "      <td>578</td>\n",
       "    </tr>\n",
       "    <tr>\n",
       "      <th>Mel</th>\n",
       "      <td>973</td>\n",
       "    </tr>\n",
       "  </tbody>\n",
       "</table>\n",
       "</div>"
      ],
      "text/plain": [
       "         freq\n",
       "name         \n",
       "Bob       968\n",
       "Jessica   155\n",
       "Mary       77\n",
       "John      578\n",
       "Mel       973"
      ]
     },
     "metadata": {},
     "output_type": "display_data"
    },
    {
     "data": {
      "image/png": "[encoded data removed]",
      "text/plain": [
       "<matplotlib.figure.Figure at 0x7f66b73592b0>"
      ]
     },
     "metadata": {},
     "output_type": "display_data"
    }
   ],
   "source": [
    "## Works better when we set names to rows\n",
    "\n",
    "name_df = new_df.set_index('name')\n",
    "display(name_df)\n",
    "name_df['freq'].plot.bar()\n",
    "plt.show()"
   ]
  },
  {
   "cell_type": "markdown",
   "metadata": {},
   "source": [
    "## More complex data processing example\n",
    "First prepare a data frame with random data."
   ]
  },
  {
   "cell_type": "code",
   "execution_count": 59,
   "metadata": {},
   "outputs": [],
   "source": [
    "import numpy as np\n",
    "\n",
    "# set seed\n",
    "np.random.seed(111)\n",
    "\n",
    "# Function to generate test data\n",
    "def CreateDataSet(Number=1):\n",
    "    \n",
    "    Output = []\n",
    "    \n",
    "    for i in range(Number):\n",
    "        \n",
    "        # Create a weekly (mondays) date range\n",
    "        rng = pd.date_range(start='1/1/2009', end='12/31/2012', freq='W-MON')\n",
    "        \n",
    "        # Create random data\n",
    "        count = np.random.randint(low=25,high=1000,size=len(rng))\n",
    "        \n",
    "        # Status pool\n",
    "        status = [1,2,3]\n",
    "        \n",
    "        # Make a random list of statuses\n",
    "        random_status = np.random.choice(np.array(status), size = len(rng))\n",
    "                        #[status[np.random.randint(low=0,high=len(status))] for i in range(len(rng))]\n",
    "        \n",
    "        # State pool\n",
    "        states = ['GA','FL','fl','NY','NJ','TX']\n",
    "        \n",
    "        # Make a random list of states \n",
    "        random_states = np.random.choice(np.array(states), size = len(rng))\n",
    "                        #[states[np.randint(low=0,high=len(states))] for i in range(len(rng))]\n",
    "    \n",
    "        Output.extend(zip(random_states, random_status, count, rng))\n",
    "        \n",
    "    return Output\n",
    "\n"
   ]
  },
  {
   "cell_type": "code",
   "execution_count": 78,
   "metadata": {},
   "outputs": [
    {
     "name": "stdout",
     "output_type": "stream",
     "text": [
      "<class 'pandas.core.frame.DataFrame'>\n",
      "RangeIndex: 836 entries, 0 to 835\n",
      "Data columns (total 4 columns):\n",
      "State            836 non-null object\n",
      "Status           836 non-null int64\n",
      "CustomerCount    836 non-null int64\n",
      "StatusDate       836 non-null datetime64[ns]\n",
      "dtypes: datetime64[ns](1), int64(2), object(1)\n",
      "memory usage: 26.2+ KB\n"
     ]
    },
    {
     "data": {
      "text/html": [
       "<div>\n",
       "<style scoped>\n",
       "    .dataframe tbody tr th:only-of-type {\n",
       "        vertical-align: middle;\n",
       "    }\n",
       "\n",
       "    .dataframe tbody tr th {\n",
       "        vertical-align: top;\n",
       "    }\n",
       "\n",
       "    .dataframe thead th {\n",
       "        text-align: right;\n",
       "    }\n",
       "</style>\n",
       "<table border=\"1\" class=\"dataframe\">\n",
       "  <thead>\n",
       "    <tr style=\"text-align: right;\">\n",
       "      <th></th>\n",
       "      <th>State</th>\n",
       "      <th>Status</th>\n",
       "      <th>CustomerCount</th>\n",
       "      <th>StatusDate</th>\n",
       "    </tr>\n",
       "  </thead>\n",
       "  <tbody>\n",
       "    <tr>\n",
       "      <th>0</th>\n",
       "      <td>NY</td>\n",
       "      <td>1</td>\n",
       "      <td>973</td>\n",
       "      <td>2009-01-05</td>\n",
       "    </tr>\n",
       "    <tr>\n",
       "      <th>1</th>\n",
       "      <td>NJ</td>\n",
       "      <td>1</td>\n",
       "      <td>412</td>\n",
       "      <td>2009-01-12</td>\n",
       "    </tr>\n",
       "    <tr>\n",
       "      <th>2</th>\n",
       "      <td>GA</td>\n",
       "      <td>2</td>\n",
       "      <td>252</td>\n",
       "      <td>2009-01-19</td>\n",
       "    </tr>\n",
       "    <tr>\n",
       "      <th>3</th>\n",
       "      <td>fl</td>\n",
       "      <td>2</td>\n",
       "      <td>443</td>\n",
       "      <td>2009-01-26</td>\n",
       "    </tr>\n",
       "    <tr>\n",
       "      <th>4</th>\n",
       "      <td>fl</td>\n",
       "      <td>1</td>\n",
       "      <td>849</td>\n",
       "      <td>2009-02-02</td>\n",
       "    </tr>\n",
       "  </tbody>\n",
       "</table>\n",
       "</div>"
      ],
      "text/plain": [
       "  State  Status  CustomerCount StatusDate\n",
       "0    NY       1            973 2009-01-05\n",
       "1    NJ       1            412 2009-01-12\n",
       "2    GA       2            252 2009-01-19\n",
       "3    fl       2            443 2009-01-26\n",
       "4    fl       1            849 2009-02-02"
      ]
     },
     "execution_count": 78,
     "metadata": {},
     "output_type": "execute_result"
    }
   ],
   "source": [
    "dataset = CreateDataSet(4)\n",
    "r_df = pd.DataFrame(data=dataset, columns=['State','Status','CustomerCount','StatusDate'])\n",
    "r_df.info()\n",
    "\n",
    "r_df.head()"
   ]
  },
  {
   "cell_type": "markdown",
   "metadata": {},
   "source": [
    "## Excel IO"
   ]
  },
  {
   "cell_type": "code",
   "execution_count": 102,
   "metadata": {},
   "outputs": [
    {
     "name": "stdout",
     "output_type": "stream",
     "text": [
      "Data exported.\n",
      "Colum types:\n",
      "State            object\n",
      "Status            int64\n",
      "CustomerCount     int64\n",
      "dtype: object\n"
     ]
    },
    {
     "data": {
      "text/html": [
       "<div>\n",
       "<style scoped>\n",
       "    .dataframe tbody tr th:only-of-type {\n",
       "        vertical-align: middle;\n",
       "    }\n",
       "\n",
       "    .dataframe tbody tr th {\n",
       "        vertical-align: top;\n",
       "    }\n",
       "\n",
       "    .dataframe thead th {\n",
       "        text-align: right;\n",
       "    }\n",
       "</style>\n",
       "<table border=\"1\" class=\"dataframe\">\n",
       "  <thead>\n",
       "    <tr style=\"text-align: right;\">\n",
       "      <th></th>\n",
       "      <th>State</th>\n",
       "      <th>Status</th>\n",
       "      <th>CustomerCount</th>\n",
       "    </tr>\n",
       "    <tr>\n",
       "      <th>StatusDate</th>\n",
       "      <th></th>\n",
       "      <th></th>\n",
       "      <th></th>\n",
       "    </tr>\n",
       "  </thead>\n",
       "  <tbody>\n",
       "    <tr>\n",
       "      <th>2009-01-05</th>\n",
       "      <td>NY</td>\n",
       "      <td>1</td>\n",
       "      <td>973</td>\n",
       "    </tr>\n",
       "    <tr>\n",
       "      <th>2009-01-12</th>\n",
       "      <td>NJ</td>\n",
       "      <td>1</td>\n",
       "      <td>412</td>\n",
       "    </tr>\n",
       "    <tr>\n",
       "      <th>2009-01-19</th>\n",
       "      <td>GA</td>\n",
       "      <td>2</td>\n",
       "      <td>252</td>\n",
       "    </tr>\n",
       "    <tr>\n",
       "      <th>2009-01-26</th>\n",
       "      <td>fl</td>\n",
       "      <td>2</td>\n",
       "      <td>443</td>\n",
       "    </tr>\n",
       "    <tr>\n",
       "      <th>2009-02-02</th>\n",
       "      <td>fl</td>\n",
       "      <td>1</td>\n",
       "      <td>849</td>\n",
       "    </tr>\n",
       "  </tbody>\n",
       "</table>\n",
       "</div>"
      ],
      "text/plain": [
       "           State  Status  CustomerCount\n",
       "StatusDate                             \n",
       "2009-01-05    NY       1            973\n",
       "2009-01-12    NJ       1            412\n",
       "2009-01-19    GA       2            252\n",
       "2009-01-26    fl       2            443\n",
       "2009-02-02    fl       1            849"
      ]
     },
     "execution_count": 102,
     "metadata": {},
     "output_type": "execute_result"
    }
   ],
   "source": [
    "# POZOR: Nutno instalovat moduly:'xlwt', 'xlrd'\n",
    "\n",
    "file_name = 'customer_reports.xls'\n",
    "r_df.to_excel(file_name, index=False)\n",
    "print('Data exported.')\n",
    "\n",
    "# Parse a specific sheet 0\n",
    "df = pd.read_excel(file_name, sheet=0, index_col='StatusDate')\n",
    "\n",
    "print(\"Colum types:\")\n",
    "print(df.dtypes)\n",
    "\n",
    "df.head()\n"
   ]
  },
  {
   "cell_type": "markdown",
   "metadata": {},
   "source": [
    "## Prepare data\n",
    "This section attempts to clean up the data for analysis.\n",
    "\n",
    "1. Make sure the state column is all in upper case\n",
    "2. Only select records where the account status is equal to \"1\"\n",
    "3. Merge (NJ and NY) to NY in the state column\n",
    "4. Remove any outliers (any odd results in the data set)\n"
   ]
  },
  {
   "cell_type": "code",
   "execution_count": 103,
   "metadata": {},
   "outputs": [
    {
     "data": {
      "text/plain": [
       "array(['NY', 'NJ', 'GA', 'fl', 'FL', 'TX'], dtype=object)"
      ]
     },
     "execution_count": 103,
     "metadata": {},
     "output_type": "execute_result"
    }
   ],
   "source": [
    "# Swee what states we have. Of course 'fl' insted of 'FL'.\n",
    "df['State'].unique()"
   ]
  },
  {
   "cell_type": "code",
   "execution_count": 104,
   "metadata": {},
   "outputs": [
    {
     "data": {
      "text/plain": [
       "array(['NY', 'NJ', 'GA', 'FL', 'TX'], dtype=object)"
      ]
     },
     "execution_count": 104,
     "metadata": {},
     "output_type": "execute_result"
    }
   ],
   "source": [
    "# Clean State Column, convert to upper case\n",
    "df['State'] = df.State.apply(lambda x: x.upper())\n",
    "df['State'].unique()"
   ]
  },
  {
   "cell_type": "code",
   "execution_count": 111,
   "metadata": {},
   "outputs": [
    {
     "data": {
      "text/html": [
       "<div>\n",
       "<style scoped>\n",
       "    .dataframe tbody tr th:only-of-type {\n",
       "        vertical-align: middle;\n",
       "    }\n",
       "\n",
       "    .dataframe tbody tr th {\n",
       "        vertical-align: top;\n",
       "    }\n",
       "\n",
       "    .dataframe thead th {\n",
       "        text-align: right;\n",
       "    }\n",
       "</style>\n",
       "<table border=\"1\" class=\"dataframe\">\n",
       "  <thead>\n",
       "    <tr style=\"text-align: right;\">\n",
       "      <th></th>\n",
       "      <th>State</th>\n",
       "      <th>Status</th>\n",
       "      <th>CustomerCount</th>\n",
       "    </tr>\n",
       "    <tr>\n",
       "      <th>StatusDate</th>\n",
       "      <th></th>\n",
       "      <th></th>\n",
       "      <th></th>\n",
       "    </tr>\n",
       "  </thead>\n",
       "  <tbody>\n",
       "    <tr>\n",
       "      <th>2009-01-05</th>\n",
       "      <td>NY</td>\n",
       "      <td>1</td>\n",
       "      <td>973</td>\n",
       "    </tr>\n",
       "    <tr>\n",
       "      <th>2009-01-12</th>\n",
       "      <td>NJ</td>\n",
       "      <td>1</td>\n",
       "      <td>412</td>\n",
       "    </tr>\n",
       "    <tr>\n",
       "      <th>2009-02-02</th>\n",
       "      <td>FL</td>\n",
       "      <td>1</td>\n",
       "      <td>849</td>\n",
       "    </tr>\n",
       "    <tr>\n",
       "      <th>2009-03-02</th>\n",
       "      <td>GA</td>\n",
       "      <td>1</td>\n",
       "      <td>406</td>\n",
       "    </tr>\n",
       "    <tr>\n",
       "      <th>2009-03-09</th>\n",
       "      <td>GA</td>\n",
       "      <td>1</td>\n",
       "      <td>290</td>\n",
       "    </tr>\n",
       "  </tbody>\n",
       "</table>\n",
       "</div>"
      ],
      "text/plain": [
       "           State  Status  CustomerCount\n",
       "StatusDate                             \n",
       "2009-01-05    NY       1            973\n",
       "2009-01-12    NJ       1            412\n",
       "2009-02-02    FL       1            849\n",
       "2009-03-02    GA       1            406\n",
       "2009-03-09    GA       1            290"
      ]
     },
     "execution_count": 111,
     "metadata": {},
     "output_type": "execute_result"
    }
   ],
   "source": [
    "# Only grab where Status == 1\n",
    "mask = df['Status'] == 1\n",
    "df1 = df[mask]\n",
    "df1.head()"
   ]
  },
  {
   "cell_type": "code",
   "execution_count": 114,
   "metadata": {},
   "outputs": [
    {
     "name": "stderr",
     "output_type": "stream",
     "text": [
      "/usr/local/lib/python3.5/dist-packages/pandas/core/indexing.py:537: SettingWithCopyWarning: \n",
      "A value is trying to be set on a copy of a slice from a DataFrame.\n",
      "Try using .loc[row_indexer,col_indexer] = value instead\n",
      "\n",
      "See the caveats in the documentation: http://pandas.pydata.org/pandas-docs/stable/indexing.html#indexing-view-versus-copy\n",
      "  self.obj[item] = s\n"
     ]
    },
    {
     "data": {
      "text/plain": [
       "array(['NY', 'FL', 'GA', 'TX'], dtype=object)"
      ]
     },
     "execution_count": 114,
     "metadata": {},
     "output_type": "execute_result"
    }
   ],
   "source": [
    "# Convert NJ to NY\n",
    "mask = df1.State == 'NJ'\n",
    "\n",
    "# This produce a warnning as there is chained indexing.\n",
    "# df1['State'][mask] = 'NY'\n",
    "\n",
    "# This should be correct equivalent. But complain either.\n",
    "df1.loc[mask, 'State'] = 'NY'\n",
    "\n",
    "\n",
    "df1['State'].unique()"
   ]
  },
  {
   "cell_type": "code",
   "execution_count": 116,
   "metadata": {},
   "outputs": [
    {
     "data": {
      "image/png": "[encoded data removed]",
      "text/plain": [
       "<matplotlib.figure.Figure at 0x7f66b6b092e8>"
      ]
     },
     "metadata": {},
     "output_type": "display_data"
    }
   ],
   "source": [
    "df['CustomerCount'].plot(figsize=(15,5));\n",
    "plt.show()"
   ]
  },
  {
   "cell_type": "code",
   "execution_count": 128,
   "metadata": {},
   "outputs": [
    {
     "data": {
      "text/html": [
       "<div>\n",
       "<style scoped>\n",
       "    .dataframe tbody tr th:only-of-type {\n",
       "        vertical-align: middle;\n",
       "    }\n",
       "\n",
       "    .dataframe tbody tr th {\n",
       "        vertical-align: top;\n",
       "    }\n",
       "\n",
       "    .dataframe thead th {\n",
       "        text-align: right;\n",
       "    }\n",
       "</style>\n",
       "<table border=\"1\" class=\"dataframe\">\n",
       "  <thead>\n",
       "    <tr style=\"text-align: right;\">\n",
       "      <th></th>\n",
       "      <th>StatusDate</th>\n",
       "      <th>State</th>\n",
       "      <th>Status</th>\n",
       "      <th>CustomerCount</th>\n",
       "    </tr>\n",
       "  </thead>\n",
       "  <tbody>\n",
       "    <tr>\n",
       "      <th>0</th>\n",
       "      <td>2009-01-05</td>\n",
       "      <td>NY</td>\n",
       "      <td>1</td>\n",
       "      <td>973</td>\n",
       "    </tr>\n",
       "    <tr>\n",
       "      <th>1</th>\n",
       "      <td>2009-01-12</td>\n",
       "      <td>NJ</td>\n",
       "      <td>1</td>\n",
       "      <td>412</td>\n",
       "    </tr>\n",
       "    <tr>\n",
       "      <th>2</th>\n",
       "      <td>2009-01-19</td>\n",
       "      <td>GA</td>\n",
       "      <td>2</td>\n",
       "      <td>252</td>\n",
       "    </tr>\n",
       "    <tr>\n",
       "      <th>3</th>\n",
       "      <td>2009-01-26</td>\n",
       "      <td>FL</td>\n",
       "      <td>2</td>\n",
       "      <td>443</td>\n",
       "    </tr>\n",
       "    <tr>\n",
       "      <th>4</th>\n",
       "      <td>2009-02-02</td>\n",
       "      <td>FL</td>\n",
       "      <td>1</td>\n",
       "      <td>849</td>\n",
       "    </tr>\n",
       "  </tbody>\n",
       "</table>\n",
       "</div>"
      ],
      "text/plain": [
       "  StatusDate State  Status  CustomerCount\n",
       "0 2009-01-05    NY       1            973\n",
       "1 2009-01-12    NJ       1            412\n",
       "2 2009-01-19    GA       2            252\n",
       "3 2009-01-26    FL       2            443\n",
       "4 2009-02-02    FL       1            849"
      ]
     },
     "metadata": {},
     "output_type": "display_data"
    },
    {
     "data": {
      "text/html": [
       "<div>\n",
       "<style scoped>\n",
       "    .dataframe tbody tr th:only-of-type {\n",
       "        vertical-align: middle;\n",
       "    }\n",
       "\n",
       "    .dataframe tbody tr th {\n",
       "        vertical-align: top;\n",
       "    }\n",
       "\n",
       "    .dataframe thead th {\n",
       "        text-align: right;\n",
       "    }\n",
       "</style>\n",
       "<table border=\"1\" class=\"dataframe\">\n",
       "  <thead>\n",
       "    <tr style=\"text-align: right;\">\n",
       "      <th></th>\n",
       "      <th></th>\n",
       "      <th>Status</th>\n",
       "      <th>CustomerCount</th>\n",
       "    </tr>\n",
       "    <tr>\n",
       "      <th>State</th>\n",
       "      <th>StatusDate</th>\n",
       "      <th></th>\n",
       "      <th></th>\n",
       "    </tr>\n",
       "  </thead>\n",
       "  <tbody>\n",
       "    <tr>\n",
       "      <th rowspan=\"5\" valign=\"top\">FL</th>\n",
       "      <th>2009-01-05</th>\n",
       "      <td>5</td>\n",
       "      <td>727</td>\n",
       "    </tr>\n",
       "    <tr>\n",
       "      <th>2009-01-12</th>\n",
       "      <td>2</td>\n",
       "      <td>90</td>\n",
       "    </tr>\n",
       "    <tr>\n",
       "      <th>2009-01-26</th>\n",
       "      <td>2</td>\n",
       "      <td>443</td>\n",
       "    </tr>\n",
       "    <tr>\n",
       "      <th>2009-02-02</th>\n",
       "      <td>1</td>\n",
       "      <td>849</td>\n",
       "    </tr>\n",
       "    <tr>\n",
       "      <th>2009-02-09</th>\n",
       "      <td>3</td>\n",
       "      <td>101</td>\n",
       "    </tr>\n",
       "  </tbody>\n",
       "</table>\n",
       "</div>"
      ],
      "text/plain": [
       "                  Status  CustomerCount\n",
       "State StatusDate                       \n",
       "FL    2009-01-05       5            727\n",
       "      2009-01-12       2             90\n",
       "      2009-01-26       2            443\n",
       "      2009-02-02       1            849\n",
       "      2009-02-09       3            101"
      ]
     },
     "metadata": {},
     "output_type": "display_data"
    },
    {
     "data": {
      "text/html": [
       "<div>\n",
       "<style scoped>\n",
       "    .dataframe tbody tr th:only-of-type {\n",
       "        vertical-align: middle;\n",
       "    }\n",
       "\n",
       "    .dataframe tbody tr th {\n",
       "        vertical-align: top;\n",
       "    }\n",
       "\n",
       "    .dataframe thead tr th {\n",
       "        text-align: left;\n",
       "    }\n",
       "\n",
       "    .dataframe thead tr:last-of-type th {\n",
       "        text-align: right;\n",
       "    }\n",
       "</style>\n",
       "<table border=\"1\" class=\"dataframe\">\n",
       "  <thead>\n",
       "    <tr>\n",
       "      <th></th>\n",
       "      <th></th>\n",
       "      <th colspan=\"2\" halign=\"left\">Status</th>\n",
       "      <th colspan=\"2\" halign=\"left\">CustomerCount</th>\n",
       "    </tr>\n",
       "    <tr>\n",
       "      <th></th>\n",
       "      <th></th>\n",
       "      <th>sum</th>\n",
       "      <th>amax</th>\n",
       "      <th>sum</th>\n",
       "      <th>amax</th>\n",
       "    </tr>\n",
       "    <tr>\n",
       "      <th>State</th>\n",
       "      <th>StatusDate</th>\n",
       "      <th></th>\n",
       "      <th></th>\n",
       "      <th></th>\n",
       "      <th></th>\n",
       "    </tr>\n",
       "  </thead>\n",
       "  <tbody>\n",
       "    <tr>\n",
       "      <th rowspan=\"5\" valign=\"top\">FL</th>\n",
       "      <th>2009-01-05</th>\n",
       "      <td>5</td>\n",
       "      <td>3</td>\n",
       "      <td>727</td>\n",
       "      <td>458</td>\n",
       "    </tr>\n",
       "    <tr>\n",
       "      <th>2009-01-12</th>\n",
       "      <td>2</td>\n",
       "      <td>2</td>\n",
       "      <td>90</td>\n",
       "      <td>90</td>\n",
       "    </tr>\n",
       "    <tr>\n",
       "      <th>2009-01-26</th>\n",
       "      <td>2</td>\n",
       "      <td>2</td>\n",
       "      <td>443</td>\n",
       "      <td>443</td>\n",
       "    </tr>\n",
       "    <tr>\n",
       "      <th>2009-02-02</th>\n",
       "      <td>1</td>\n",
       "      <td>1</td>\n",
       "      <td>849</td>\n",
       "      <td>849</td>\n",
       "    </tr>\n",
       "    <tr>\n",
       "      <th>2009-02-09</th>\n",
       "      <td>3</td>\n",
       "      <td>3</td>\n",
       "      <td>101</td>\n",
       "      <td>101</td>\n",
       "    </tr>\n",
       "  </tbody>\n",
       "</table>\n",
       "</div>"
      ],
      "text/plain": [
       "                 Status      CustomerCount     \n",
       "                    sum amax           sum amax\n",
       "State StatusDate                               \n",
       "FL    2009-01-05      5    3           727  458\n",
       "      2009-01-12      2    2            90   90\n",
       "      2009-01-26      2    2           443  443\n",
       "      2009-02-02      1    1           849  849\n",
       "      2009-02-09      3    3           101  101"
      ]
     },
     "metadata": {},
     "output_type": "display_data"
    },
    {
     "data": {
      "text/html": [
       "<div>\n",
       "<style scoped>\n",
       "    .dataframe tbody tr th:only-of-type {\n",
       "        vertical-align: middle;\n",
       "    }\n",
       "\n",
       "    .dataframe tbody tr th {\n",
       "        vertical-align: top;\n",
       "    }\n",
       "\n",
       "    .dataframe thead th {\n",
       "        text-align: right;\n",
       "    }\n",
       "</style>\n",
       "<table border=\"1\" class=\"dataframe\">\n",
       "  <thead>\n",
       "    <tr style=\"text-align: right;\">\n",
       "      <th></th>\n",
       "      <th></th>\n",
       "      <th>Status</th>\n",
       "      <th>CustomerCount</th>\n",
       "    </tr>\n",
       "    <tr>\n",
       "      <th>State</th>\n",
       "      <th>StatusDate</th>\n",
       "      <th></th>\n",
       "      <th></th>\n",
       "    </tr>\n",
       "  </thead>\n",
       "  <tbody>\n",
       "    <tr>\n",
       "      <th rowspan=\"5\" valign=\"top\">FL</th>\n",
       "      <th>2009-01-05</th>\n",
       "      <td>3</td>\n",
       "      <td>727</td>\n",
       "    </tr>\n",
       "    <tr>\n",
       "      <th>2009-01-12</th>\n",
       "      <td>2</td>\n",
       "      <td>90</td>\n",
       "    </tr>\n",
       "    <tr>\n",
       "      <th>2009-01-26</th>\n",
       "      <td>2</td>\n",
       "      <td>443</td>\n",
       "    </tr>\n",
       "    <tr>\n",
       "      <th>2009-02-02</th>\n",
       "      <td>1</td>\n",
       "      <td>849</td>\n",
       "    </tr>\n",
       "    <tr>\n",
       "      <th>2009-02-09</th>\n",
       "      <td>3</td>\n",
       "      <td>101</td>\n",
       "    </tr>\n",
       "  </tbody>\n",
       "</table>\n",
       "</div>"
      ],
      "text/plain": [
       "                  Status  CustomerCount\n",
       "State StatusDate                       \n",
       "FL    2009-01-05       3            727\n",
       "      2009-01-12       2             90\n",
       "      2009-01-26       2            443\n",
       "      2009-02-02       1            849\n",
       "      2009-02-09       3            101"
      ]
     },
     "metadata": {},
     "output_type": "display_data"
    }
   ],
   "source": [
    "# Reset index, to have StatusDate as regular column.\n",
    "df_a = df.reset_index()\n",
    "display(df_a.head())\n",
    "\n",
    "# Group by State and StatusDate, sum rows with same index.\n",
    "Daily = df_a.groupby(['State','StatusDate']).sum()\n",
    "display(Daily.head())\n",
    "\n",
    "# Group by State and StatusDat, use both max ans um aggregation\n",
    "Daily = df_a.groupby(['State','StatusDate']).agg([np.sum, np.max])\n",
    "display(Daily.head())\n",
    "\n",
    "# Group by State and StatusDat, use max for Status, sum for Count\n",
    "Daily = df_a.groupby(['State','StatusDate']) \\\n",
    "        .agg({'Status':np.max, 'CustomerCount':np.sum})\n",
    "display(Daily.head())\n"
   ]
  },
  {
   "cell_type": "code",
   "execution_count": 130,
   "metadata": {},
   "outputs": [
    {
     "data": {
      "image/png": "[encoded data removed]",
      "text/plain": [
       "<matplotlib.figure.Figure at 0x7f66b658d1d0>"
      ]
     },
     "metadata": {},
     "output_type": "display_data"
    },
    {
     "data": {
      "image/png": "[encoded data removed]",
      "text/plain": [
       "<matplotlib.figure.Figure at 0x7f66b65436a0>"
      ]
     },
     "metadata": {},
     "output_type": "display_data"
    },
    {
     "data": {
      "image/png": "[encoded data removed]",
      "text/plain": [
       "<matplotlib.figure.Figure at 0x7f66b667add8>"
      ]
     },
     "metadata": {},
     "output_type": "display_data"
    },
    {
     "data": {
      "image/png": "[encoded data removed]",
      "text/plain": [
       "<matplotlib.figure.Figure at 0x7f66b665fc50>"
      ]
     },
     "metadata": {},
     "output_type": "display_data"
    },
    {
     "data": {
      "image/png": "[encoded data removed]",
      "text/plain": [
       "<matplotlib.figure.Figure at 0x7f66b68d3198>"
      ]
     },
     "metadata": {},
     "output_type": "display_data"
    },
    {
     "data": {
      "image/png": "[encoded data removed]",
      "text/plain": [
       "<matplotlib.figure.Figure at 0x7f66b689bd30>"
      ]
     },
     "metadata": {},
     "output_type": "display_data"
    },
    {
     "data": {
      "image/png": "[encoded data removed]",
      "text/plain": [
       "<matplotlib.figure.Figure at 0x7f66b662f128>"
      ]
     },
     "metadata": {},
     "output_type": "display_data"
    },
    {
     "data": {
      "image/png": "[encoded data removed]",
      "text/plain": [
       "<matplotlib.figure.Figure at 0x7f66b6764128>"
      ]
     },
     "metadata": {},
     "output_type": "display_data"
    }
   ],
   "source": [
    "Daily.loc['FL'].plot()\n",
    "Daily.loc['GA'].plot()\n",
    "Daily.loc['NY'].plot()\n",
    "Daily.loc['TX'].plot();\n",
    "plt.show()\n"
   ]
  },
  {
   "cell_type": "markdown",
   "metadata": {},
   "source": [
    "# Seaborn - high level statistical plotting"
   ]
  },
  {
   "cell_type": "code",
   "execution_count": 134,
   "metadata": {},
   "outputs": [
    {
     "data": {
      "image/png": "[encoded data removed]",
      "text/plain": [
       "<matplotlib.figure.Figure at 0x7f66b4cedd30>"
      ]
     },
     "metadata": {},
     "output_type": "display_data"
    },
    {
     "data": {
      "image/png": "[encoded data removed]",
      "text/plain": [
       "<matplotlib.figure.Figure at 0x7f66b679ff98>"
      ]
     },
     "metadata": {},
     "output_type": "display_data"
    },
    {
     "data": {
      "image/png": "[encoded data removed]",
      "text/plain": [
       "<matplotlib.figure.Figure at 0x7f66a48adcc0>"
      ]
     },
     "metadata": {},
     "output_type": "display_data"
    }
   ],
   "source": [
    "# libraries and data\n",
    "import seaborn as sns\n",
    "import pandas as pd\n",
    " \n",
    "# Dataset:\n",
    "a = pd.DataFrame({ 'group' : np.repeat('A',500), 'value': np.random.normal(10, 5, 500) })\n",
    "b = pd.DataFrame({ 'group' : np.repeat('B',500), 'value': np.random.normal(13, 1.2, 500) })\n",
    "c = pd.DataFrame({ 'group' : np.repeat('B',500), 'value': np.random.normal(18, 1.2, 500) })\n",
    "d = pd.DataFrame({ 'group' : np.repeat('C',20), 'value': np.random.normal(25, 4, 20) })\n",
    "e = pd.DataFrame({ 'group' : np.repeat('D',100), 'value': np.random.uniform(12, size=100) })\n",
    "df=a.append(b).append(c).append(d).append(e)\n",
    " \n",
    "# Usual boxplot\n",
    "fig = plt.figure(figsize=(10,5))\n",
    "ax1 = fig.add_subplot(111)\n",
    "sns.boxplot(x='group', y='value', data=df)\n",
    "plt.show()\n",
    "\n",
    "# Box plot with jitter.\n",
    "ax = sns.boxplot(x='group', y='value', data=df)\n",
    "ax = sns.stripplot(x='group', y='value', data=df, color=\"orange\", jitter=0.2, size=2.5)\n",
    "plt.title(\"Boxplot with jitter\", loc=\"left\")\n",
    "plt.show()\n",
    "\n",
    "# Violin plot.\n",
    "sns.violinplot( x='group', y='value', data=df)\n",
    "plt.title(\"Violin plot\", loc=\"left\")\n",
    "plt.show()"
   ]
  },
  {
   "cell_type": "markdown",
   "metadata": {},
   "source": [
    "# SymPY"
   ]
  },
  {
   "cell_type": "code",
   "execution_count": null,
   "metadata": {},
   "outputs": [],
   "source": []
  },
  {
   "cell_type": "markdown",
   "metadata": {},
   "source": [
    "\n",
    "\n",
    "\n",
    "\n",
    "\n",
    "\n",
    "\n",
    "\n",
    "## Resources\n",
    "\n",
    "[Taming Math and Physics with SymPy](https://minireference.com/static/tutorials/sympy_tutorial.pdf)\n",
    "\n",
    "[Sympy Examples](https://github.com/sympy/sympy/wiki/Quick-examples)"
   ]
  },
  {
   "cell_type": "markdown",
   "metadata": {},
   "source": [
    "## Basic objects"
   ]
  },
  {
   "cell_type": "code",
   "execution_count": 139,
   "metadata": {},
   "outputs": [],
   "source": [
    "# Setup.\n",
    "# Sympy is usefull mainly for interactive work so simplify notation as much as possible\n",
    "# don't worry about cluttering the namespace.\n",
    "from sympy import *\n",
    "from IPython.display import display\n",
    "# pretty printing in IPython\n",
    "init_printing(use_latex='mathjax')\n"
   ]
  },
  {
   "cell_type": "code",
   "execution_count": 122,
   "metadata": {},
   "outputs": [
    {
     "data": {
      "image/png": "[encoded data removed]",
      "text/latex": [
       "$$\\frac{1}{3}$$"
      ],
      "text/plain": [
       "1/3"
      ]
     },
     "metadata": {},
     "output_type": "display_data"
    },
    {
     "name": "stdout",
     "output_type": "stream",
     "text": [
      "<class 'sympy.core.numbers.Rational'>\n"
     ]
    },
    {
     "data": {
      "image/png": "[encoded data removed]",
      "text/latex": [
       "$$1$$"
      ],
      "text/plain": [
       "1"
      ]
     },
     "execution_count": 122,
     "metadata": {},
     "output_type": "execute_result"
    }
   ],
   "source": [
    "# Simple expressions\n",
    "third = S(1)/3\n",
    "display(third)\n",
    "print(type(third))\n",
    "3 * third\n",
    "\n",
    "\n"
   ]
  },
  {
   "cell_type": "code",
   "execution_count": 63,
   "metadata": {},
   "outputs": [
    {
     "data": {
      "text/latex": [
       "$$1$$"
      ],
      "text/plain": [
       "1"
      ]
     },
     "execution_count": 63,
     "metadata": {},
     "output_type": "execute_result"
    }
   ],
   "source": [
    "# Evaluation of fractions\n",
    "\n",
    "S(1) / 3 + S(2) / 3"
   ]
  },
  {
   "cell_type": "code",
   "execution_count": 70,
   "metadata": {},
   "outputs": [
    {
     "data": {
      "text/latex": [
       "$$2$$"
      ],
      "text/plain": [
       "2"
      ]
     },
     "execution_count": 70,
     "metadata": {},
     "output_type": "execute_result"
    }
   ],
   "source": [
    "64**(S(1)/2 - S(1)/3)"
   ]
  },
  {
   "cell_type": "code",
   "execution_count": 76,
   "metadata": {},
   "outputs": [
    {
     "data": {
      "text/latex": [
       "$$2.0$$"
      ],
      "text/plain": [
       "2.0"
      ]
     },
     "execution_count": 76,
     "metadata": {},
     "output_type": "execute_result"
    }
   ],
   "source": [
    "64**(1.0/2 - 1.0/3)"
   ]
  },
  {
   "cell_type": "code",
   "execution_count": 31,
   "metadata": {},
   "outputs": [
    {
     "data": {
      "text/latex": [
       "$$3.1415926535897932384626433832795028841971693993751$$"
      ],
      "text/plain": [
       "3.1415926535897932384626433832795028841971693993751"
      ]
     },
     "execution_count": 31,
     "metadata": {},
     "output_type": "execute_result"
    }
   ],
   "source": [
    "# Arbitrary precision\n",
    "pi.evalf(50)"
   ]
  },
  {
   "cell_type": "code",
   "execution_count": 78,
   "metadata": {},
   "outputs": [
    {
     "data": {
      "text/latex": [
       "$$\\sqrt[4]{-1}$$"
      ],
      "text/plain": [
       "4 ____\n",
       "╲╱ -1 "
      ]
     },
     "execution_count": 78,
     "metadata": {},
     "output_type": "execute_result"
    }
   ],
   "source": [
    "# complex numbers works, but square root do no evaluate.\n",
    "sqrt(1*I)"
   ]
  },
  {
   "cell_type": "code",
   "execution_count": 83,
   "metadata": {},
   "outputs": [
    {
     "data": {
      "text/latex": [
       "$$\\left [ 1, \\quad - \\frac{1}{2} - \\frac{\\sqrt{3} i}{2}, \\quad - \\frac{1}{2} + \\frac{\\sqrt{3} i}{2}\\right ]$$"
      ],
      "text/plain": [
       "⎡     1   √3⋅ⅈ    1   √3⋅ⅈ⎤\n",
       "⎢1, - ─ - ────, - ─ + ────⎥\n",
       "⎣     2    2      2    2  ⎦"
      ]
     },
     "execution_count": 83,
     "metadata": {},
     "output_type": "execute_result"
    }
   ],
   "source": [
    "# Can go through equation solving.\n",
    "x=Symbol('x')\n",
    "solve(Eq(x**3,1))"
   ]
  },
  {
   "cell_type": "code",
   "execution_count": 91,
   "metadata": {},
   "outputs": [
    {
     "data": {
      "text/latex": [
       "$$\\left [ 1\\right ]$$"
      ],
      "text/plain": [
       "[1]"
      ]
     },
     "execution_count": 91,
     "metadata": {},
     "output_type": "execute_result"
    }
   ],
   "source": [
    "# Define symbol's domain\n",
    "x=Symbol('x', real=True)\n",
    "solve(Eq(x**3,1))"
   ]
  },
  {
   "cell_type": "code",
   "execution_count": 92,
   "metadata": {},
   "outputs": [
    {
     "data": {
      "text/latex": [
       "$$-2 < x \\wedge x < 2$$"
      ],
      "text/plain": [
       "-2 < x ∧ x < 2"
      ]
     },
     "execution_count": 92,
     "metadata": {},
     "output_type": "execute_result"
    }
   ],
   "source": [
    "# Not so good for integers\n",
    "x=Symbol('x', integer=True)\n",
    "solve(Abs(x) < 2)"
   ]
  },
  {
   "cell_type": "markdown",
   "metadata": {},
   "source": [
    "## Expressions"
   ]
  },
  {
   "cell_type": "code",
   "execution_count": 93,
   "metadata": {
    "scrolled": true
   },
   "outputs": [
    {
     "data": {
      "text/latex": [
       "$$- \\frac{x - 1}{x + 1} + \\frac{x + 1}{x - 1}$$"
      ],
      "text/plain": [
       "  x - 1   x + 1\n",
       "- ───── + ─────\n",
       "  x + 1   x - 1"
      ]
     },
     "execution_count": 93,
     "metadata": {},
     "output_type": "execute_result"
    }
   ],
   "source": [
    "expr = (x + 1)/(x-1) - (x-1)/(x+1)\n",
    "expr"
   ]
  },
  {
   "cell_type": "code",
   "execution_count": 94,
   "metadata": {},
   "outputs": [
    {
     "data": {
      "text/latex": [
       "$$\\left(- \\frac{x - 1}{x + 1} + \\frac{x + 1}{x - 1}\\right)^{2}$$"
      ],
      "text/plain": [
       "                 2\n",
       "⎛  x - 1   x + 1⎞ \n",
       "⎜- ───── + ─────⎟ \n",
       "⎝  x + 1   x - 1⎠ "
      ]
     },
     "execution_count": 94,
     "metadata": {},
     "output_type": "execute_result"
    }
   ],
   "source": [
    "expr**2"
   ]
  },
  {
   "cell_type": "markdown",
   "metadata": {},
   "source": [
    "## Simplification"
   ]
  },
  {
   "cell_type": "code",
   "execution_count": 35,
   "metadata": {},
   "outputs": [
    {
     "data": {
      "text/latex": [
       "$$\\frac{4 x}{x^{2} - 1}$$"
      ],
      "text/plain": [
       " 4⋅x  \n",
       "──────\n",
       " 2    \n",
       "x  - 1"
      ]
     },
     "execution_count": 35,
     "metadata": {},
     "output_type": "execute_result"
    }
   ],
   "source": [
    "simplify(expr)"
   ]
  },
  {
   "cell_type": "code",
   "execution_count": 36,
   "metadata": {},
   "outputs": [
    {
     "data": {
      "text/latex": [
       "$$\\frac{4 x}{x^{2} - 1}$$"
      ],
      "text/plain": [
       " 4⋅x  \n",
       "──────\n",
       " 2    \n",
       "x  - 1"
      ]
     },
     "execution_count": 36,
     "metadata": {},
     "output_type": "execute_result"
    }
   ],
   "source": [
    "\n",
    "simplify(expr)"
   ]
  },
  {
   "cell_type": "code",
   "execution_count": 127,
   "metadata": {},
   "outputs": [
    {
     "data": {
      "text/plain": [
       "True"
      ]
     },
     "execution_count": 127,
     "metadata": {},
     "output_type": "execute_result"
    }
   ],
   "source": [
    "a=Symbol('y')\n",
    "b=Symbol('y')\n",
    "a==b"
   ]
  },
  {
   "cell_type": "code",
   "execution_count": 130,
   "metadata": {},
   "outputs": [
    {
     "data": {
      "text/plain": [
       "False"
      ]
     },
     "execution_count": 130,
     "metadata": {},
     "output_type": "execute_result"
    }
   ],
   "source": [
    "c=Dummy('dummy_y')  # Try to remove 'y'\n",
    "c==a"
   ]
  },
  {
   "cell_type": "code",
   "execution_count": 131,
   "metadata": {},
   "outputs": [
    {
     "data": {
      "image/png": "[encoded data removed]",
      "text/latex": [
       "$$dummy_{y} + 2 y$$"
      ],
      "text/plain": [
       "dummy_y + 2⋅y"
      ]
     },
     "execution_count": 131,
     "metadata": {},
     "output_type": "execute_result"
    }
   ],
   "source": [
    "simplify(a+b+c)"
   ]
  },
  {
   "cell_type": "code",
   "execution_count": 140,
   "metadata": {},
   "outputs": [
    {
     "data": {
      "text/latex": [
       "$$\\sqrt[3]{7 + 5 \\sqrt{2}} - \\sqrt[3]{- 5 \\sqrt{2} + 7}$$"
      ],
      "text/plain": [
       "3 __________   3 ___________\n",
       "╲╱ 7 + 5⋅√2  - ╲╱ -5⋅√2 + 7 "
      ]
     },
     "execution_count": 140,
     "metadata": {},
     "output_type": "execute_result"
    }
   ],
   "source": [
    "# Complex (roots) are tricky\n",
    "third = Rational(1,3)\n",
    "expr = (7+sqrt(50))**third - (7-sqrt(50))**third\n",
    "expr"
   ]
  },
  {
   "cell_type": "code",
   "execution_count": 50,
   "metadata": {},
   "outputs": [
    {
     "data": {
      "text/latex": [
       "$$\\sqrt[3]{7 + 5 \\sqrt{2}} - \\sqrt[3]{- 5 \\sqrt{2} + 7} = x$$"
      ],
      "text/plain": [
       "3 __________   3 ___________    \n",
       "╲╱ 7 + 5⋅√2  - ╲╱ -5⋅√2 + 7  = x"
      ]
     },
     "execution_count": 50,
     "metadata": {},
     "output_type": "execute_result"
    }
   ],
   "source": [
    "x=Symbol('x', complex=True)\n",
    "eq=Eq(expr, x)\n",
    "eq"
   ]
  },
  {
   "cell_type": "code",
   "execution_count": 141,
   "metadata": {},
   "outputs": [
    {
     "ename": "NameError",
     "evalue": "name 'eq' is not defined",
     "output_type": "error",
     "traceback": [
      "\u001b[0;31m---------------------------------------------------------------------------\u001b[0m",
      "\u001b[0;31mNameError\u001b[0m                                 Traceback (most recent call last)",
      "\u001b[0;32m<ipython-input-141-c351324ca3bc>\u001b[0m in \u001b[0;36m<module>\u001b[0;34m()\u001b[0m\n\u001b[0;32m----> 1\u001b[0;31m \u001b[0mEq\u001b[0m\u001b[0;34m(\u001b[0m\u001b[0mexpand\u001b[0m\u001b[0;34m(\u001b[0m\u001b[0meq\u001b[0m\u001b[0;34m.\u001b[0m\u001b[0mlhs\u001b[0m\u001b[0;34m**\u001b[0m\u001b[0;36m3\u001b[0m\u001b[0;34m,\u001b[0m \u001b[0mbasic\u001b[0m\u001b[0;34m=\u001b[0m\u001b[0;32mFalse\u001b[0m\u001b[0;34m)\u001b[0m\u001b[0;34m,\u001b[0m \u001b[0meq\u001b[0m\u001b[0;34m.\u001b[0m\u001b[0mrhs\u001b[0m\u001b[0;34m**\u001b[0m\u001b[0;36m3\u001b[0m\u001b[0;34m)\u001b[0m\u001b[0;34m\u001b[0m\u001b[0m\n\u001b[0m",
      "\u001b[0;31mNameError\u001b[0m: name 'eq' is not defined"
     ]
    }
   ],
   "source": [
    "Eq(expand(eq.lhs**3, basic=False), eq.rhs**3)"
   ]
  },
  {
   "cell_type": "code",
   "execution_count": 143,
   "metadata": {},
   "outputs": [
    {
     "data": {
      "text/latex": [
       "$$10 \\sqrt{2} - 3 \\left(7 + 5 \\sqrt{2}\\right)^{\\frac{2}{3}} \\sqrt[3]{- 5 \\sqrt{2} + 7} + 3 \\sqrt[3]{7 + 5 \\sqrt{2}} \\left(- 5 \\sqrt{2} + 7\\right)^{\\frac{2}{3}}$$"
      ],
      "text/plain": [
       "                    2/3 3 ___________     3 __________            2/3\n",
       "10⋅√2 - 3⋅(7 + 5⋅√2)   ⋅╲╱ -5⋅√2 + 7  + 3⋅╲╱ 7 + 5⋅√2 ⋅(-5⋅√2 + 7)   "
      ]
     },
     "execution_count": 143,
     "metadata": {},
     "output_type": "execute_result"
    }
   ],
   "source": [
    "expand(expr**3)"
   ]
  },
  {
   "cell_type": "markdown",
   "metadata": {},
   "source": [
    "# Expression manipulation\n",
    "\n",
    "- 'factor(expr)'\n",
    "- 'expand(expr)'\n",
    "- 'collect(expr)'\n",
    "- 'cancel(fraction)'\n",
    "- 'expr.subs({x: xexpr, y: yexpr})\n"
   ]
  },
  {
   "cell_type": "code",
   "execution_count": 142,
   "metadata": {},
   "outputs": [
    {
     "data": {
      "image/png": "[encoded data removed]",
      "text/latex": [
       "$$\\left [ -6, \\quad 1\\right ]$$"
      ],
      "text/plain": [
       "[-6, 1]"
      ]
     },
     "execution_count": 142,
     "metadata": {},
     "output_type": "execute_result"
    }
   ],
   "source": [
    "x=Symbol('x')\n",
    "solve(x**2+5*x-6)"
   ]
  },
  {
   "cell_type": "code",
   "execution_count": 144,
   "metadata": {},
   "outputs": [
    {
     "data": {
      "image/png": "[encoded data removed]",
      "text/latex": [
       "$$\\left(x - 1\\right) \\left(x + 6\\right)$$"
      ],
      "text/plain": [
       "(x - 1)⋅(x + 6)"
      ]
     },
     "execution_count": 144,
     "metadata": {},
     "output_type": "execute_result"
    }
   ],
   "source": [
    "factor(x**2+5*x-6)"
   ]
  },
  {
   "cell_type": "code",
   "execution_count": 148,
   "metadata": {},
   "outputs": [
    {
     "data": {
      "image/png": "[encoded data removed]",
      "text/latex": [
       "$$- 2 x^{2} + 5 x - 2$$"
      ],
      "text/plain": [
       "     2          \n",
       "- 2⋅x  + 5⋅x - 2"
      ]
     },
     "execution_count": 148,
     "metadata": {},
     "output_type": "execute_result"
    }
   ],
   "source": [
    "expand((x-2)*(1-2*x), evaluate=False)"
   ]
  },
  {
   "cell_type": "code",
   "execution_count": 150,
   "metadata": {},
   "outputs": [
    {
     "data": {
      "image/png": "[encoded data removed]",
      "text/latex": [
       "$$- 2 x^{2} y + x \\left(4 y + 1\\right) - 2$$"
      ],
      "text/plain": [
       "     2                    \n",
       "- 2⋅x ⋅y + x⋅(4⋅y + 1) - 2"
      ]
     },
     "execution_count": 150,
     "metadata": {},
     "output_type": "execute_result"
    }
   ],
   "source": [
    "y=Symbol('y')\n",
    "collect(expand((x-2)*(1-2*x*y)), x)"
   ]
  },
  {
   "cell_type": "code",
   "execution_count": 151,
   "metadata": {},
   "outputs": [
    {
     "data": {
      "image/png": "[encoded data removed]",
      "text/latex": [
       "$$\\left(- 2 x + 1\\right) \\left(x - y\\right)$$"
      ],
      "text/plain": [
       "(-2⋅x + 1)⋅(x - y)"
      ]
     },
     "execution_count": 151,
     "metadata": {},
     "output_type": "execute_result"
    }
   ],
   "source": [
    "((x-2)*(1-2*x)).subs((x-2), (x-a))"
   ]
  },
  {
   "cell_type": "code",
   "execution_count": 154,
   "metadata": {},
   "outputs": [
    {
     "data": {
      "image/png": "[encoded data removed]",
      "text/latex": [
       "$$2 y$$"
      ],
      "text/plain": [
       "2⋅y"
      ]
     },
     "execution_count": 154,
     "metadata": {},
     "output_type": "execute_result"
    }
   ],
   "source": [
    "a + y"
   ]
  },
  {
   "cell_type": "code",
   "execution_count": 155,
   "metadata": {},
   "outputs": [
    {
     "data": {
      "image/png": "[encoded data removed]",
      "text/latex": [
       "$$- \\frac{x - 1}{x + 1} + \\frac{x + 1}{x - 1}$$"
      ],
      "text/plain": [
       "  x - 1   x + 1\n",
       "- ───── + ─────\n",
       "  x + 1   x - 1"
      ]
     },
     "execution_count": 155,
     "metadata": {},
     "output_type": "execute_result"
    }
   ],
   "source": [
    "expr"
   ]
  },
  {
   "cell_type": "code",
   "execution_count": 157,
   "metadata": {},
   "outputs": [
    {
     "data": {
      "image/png": "[encoded data removed]",
      "text/latex": [
       "$$- \\frac{y + z - 1}{y + z + 1} + \\frac{y + z + 1}{y + z - 1}$$"
      ],
      "text/plain": [
       "  y + z - 1   y + z + 1\n",
       "- ───────── + ─────────\n",
       "  y + z + 1   y + z - 1"
      ]
     },
     "execution_count": 157,
     "metadata": {},
     "output_type": "execute_result"
    }
   ],
   "source": [
    "z = Symbol('z')\n",
    "x = Symbol('x')\n",
    "expr = (x + 1)/(x-1) - (x-1)/(x+1)\n",
    "\n",
    "\n",
    "yz_expr = expr.subs({x: a+z})\n",
    "yz_expr"
   ]
  },
  {
   "cell_type": "code",
   "execution_count": 159,
   "metadata": {},
   "outputs": [
    {
     "data": {
      "image/png": "[encoded data removed]",
      "text/latex": [
       "$$- \\frac{x}{x + 2} + \\frac{1}{x} \\left(x + 2\\right)$$"
      ],
      "text/plain": [
       "    x     x + 2\n",
       "- ───── + ─────\n",
       "  x + 2     x  "
      ]
     },
     "execution_count": 159,
     "metadata": {},
     "output_type": "execute_result"
    }
   ],
   "source": [
    "yz_expr.subs({'y': 1, 'z':x})"
   ]
  },
  {
   "cell_type": "markdown",
   "metadata": {},
   "source": [
    "## Solve ..."
   ]
  },
  {
   "cell_type": "code",
   "execution_count": 19,
   "metadata": {},
   "outputs": [
    {
     "data": {
      "text/latex": [
       "$$\\left [ 2 - i, \\quad 2 + i\\right ]$$"
      ],
      "text/plain": [
       "[2 - ⅈ, 2 + ⅈ]"
      ]
     },
     "execution_count": 19,
     "metadata": {},
     "output_type": "execute_result"
    }
   ],
   "source": [
    "sy.solve(x**2-4*x+5)"
   ]
  },
  {
   "cell_type": "code",
   "execution_count": 144,
   "metadata": {},
   "outputs": [
    {
     "ename": "NameError",
     "evalue": "name 'sy' is not defined",
     "output_type": "error",
     "traceback": [
      "\u001b[0;31m---------------------------------------------------------------------------\u001b[0m",
      "\u001b[0;31mNameError\u001b[0m                                 Traceback (most recent call last)",
      "\u001b[0;32m<ipython-input-144-690454f0c134>\u001b[0m in \u001b[0;36m<module>\u001b[0;34m()\u001b[0m\n\u001b[0;32m----> 1\u001b[0;31m \u001b[0msy\u001b[0m\u001b[0;34m.\u001b[0m\u001b[0msolve\u001b[0m\u001b[0;34m(\u001b[0m\u001b[0msy\u001b[0m\u001b[0;34m.\u001b[0m\u001b[0mAbs\u001b[0m\u001b[0;34m(\u001b[0m\u001b[0mx\u001b[0m\u001b[0;34m-\u001b[0m\u001b[0;36m3\u001b[0m\u001b[0;34m)\u001b[0m\u001b[0;34m>\u001b[0m \u001b[0;36m2\u001b[0m\u001b[0;34m)\u001b[0m\u001b[0;34m\u001b[0m\u001b[0m\n\u001b[0m",
      "\u001b[0;31mNameError\u001b[0m: name 'sy' is not defined"
     ]
    }
   ],
   "source": [
    "sy.solve(sy.Abs(x-3)> 2)"
   ]
  },
  {
   "cell_type": "code",
   "execution_count": 148,
   "metadata": {},
   "outputs": [
    {
     "data": {
      "text/latex": [
       "$$1$$"
      ],
      "text/plain": [
       "1"
      ]
     },
     "metadata": {},
     "output_type": "display_data"
    },
    {
     "data": {
      "text/latex": [
       "$$0$$"
      ],
      "text/plain": [
       "0"
      ]
     },
     "metadata": {},
     "output_type": "display_data"
    }
   ],
   "source": [
    "## Limits\n",
    "\n",
    "x=Symbol(\"x\")\n",
    "display(limit(sin(x)/x, x, 0))\n",
    "\n",
    "display(limit(sin(x)/x, x, oo))\n"
   ]
  },
  {
   "cell_type": "code",
   "execution_count": 151,
   "metadata": {},
   "outputs": [
    {
     "data": {
      "text/latex": [
       "$$\\cos{\\left (x \\right )}$$"
      ],
      "text/plain": [
       "cos(x)"
      ]
     },
     "execution_count": 151,
     "metadata": {},
     "output_type": "execute_result"
    }
   ],
   "source": [
    "# Differentiation\n",
    "\n",
    "x=Symbol(\"x\")\n",
    "diff(sin(x), x )"
   ]
  },
  {
   "cell_type": "code",
   "execution_count": 170,
   "metadata": {},
   "outputs": [
    {
     "data": {
      "text/latex": [
       "$$\\left ( (\\cos{\\left (\\phi \\right )})\\mathbf{\\hat{i}_{S}} + (\\sin{\\left (\\phi \\right )})\\mathbf{\\hat{j}_{S}}, \\quad (- r \\sin{\\left (\\phi \\right )})\\mathbf{\\hat{i}_{S}} + (r \\cos{\\left (\\phi \\right )})\\mathbf{\\hat{j}_{S}}\\right )$$"
      ],
      "text/plain": [
       "((cos(φ)) S_i + (sin(φ)) S_j, (-r⋅sin(φ)) S_i + (r⋅cos(φ)) S_j)"
      ]
     },
     "execution_count": 170,
     "metadata": {},
     "output_type": "execute_result"
    }
   ],
   "source": [
    "# Derivatives of vectors\n",
    "import sympy.vector as vec\n",
    "\n",
    "S = vec.CoordSys3D('S')\n",
    "\n",
    "r=Symbol(\"r\")\n",
    "phi=Symbol(\"phi\")\n",
    "\n",
    "xy = r*cos(phi)*S.i + r*sin(phi)*S.j\n",
    "\n",
    "\n",
    "dr = diff(xy, r)\n",
    "dphi = diff(xy, phi)\n",
    "\n",
    "dr, dphi\n"
   ]
  },
  {
   "cell_type": "code",
   "execution_count": 182,
   "metadata": {},
   "outputs": [
    {
     "data": {
      "text/latex": [
       "$$-1 - \\frac{1}{2} \\left(x - 1\\right)^{2} + \\frac{1}{3} \\left(x - 1\\right)^{3} - \\frac{1}{4} \\left(x - 1\\right)^{4} + \\frac{1}{5} \\left(x - 1\\right)^{5} + x + \\mathcal{O}\\left(\\left(x - 1\\right)^{6}; x\\rightarrow 1\\right)$$"
      ],
      "text/plain": [
       "            2          3          4          5                         \n",
       "     (x - 1)    (x - 1)    (x - 1)    (x - 1)         ⎛       6       ⎞\n",
       "-1 - ──────── + ──────── - ──────── + ──────── + x + O⎝(x - 1) ; x → 1⎠\n",
       "        2          3          4          5                             "
      ]
     },
     "execution_count": 182,
     "metadata": {},
     "output_type": "execute_result"
    }
   ],
   "source": [
    "# Series expansion\n",
    "x=Symbol(\"x\")\n",
    "ln(x).series(x, 1, 6)"
   ]
  },
  {
   "cell_type": "code",
   "execution_count": 218,
   "metadata": {},
   "outputs": [
    {
     "data": {
      "text/latex": [
       "$$\\begin{cases} \\frac{1}{2} & \\text{for}\\: k = - \\frac{i}{\\pi n} \\vee k = \\frac{i}{\\pi n} \\\\\\frac{\\left(-1\\right)^{n} k \\sinh{\\left (\\frac{1}{k} \\right )}}{\\pi^{2} k^{2} n^{2} + 1} & \\text{otherwise} \\end{cases}$$"
      ],
      "text/plain": [
       "⎧                         -ⅈ         ⅈ \n",
       "⎪      1/2        for k = ─── ∨ k = ───\n",
       "⎪                         π⋅n       π⋅n\n",
       "⎪                                      \n",
       "⎪    n       ⎛1⎞                       \n",
       "⎨(-1) ⋅k⋅sinh⎜─⎟                       \n",
       "⎪            ⎝k⎠                       \n",
       "⎪───────────────        otherwise      \n",
       "⎪   2  2  2                            \n",
       "⎪  π ⋅k ⋅n  + 1                        \n",
       "⎩                                      "
      ]
     },
     "metadata": {},
     "output_type": "display_data"
    }
   ],
   "source": [
    "# Integrate\n",
    "x=Symbol(\"x\")\n",
    "k=Symbol(\"k\")\n",
    "n=Symbol(\"n\", integer=True)\n",
    "expr = integrate(cosh(x/k)*cos(x*pi*n), (x, 0,1))\n",
    "\n",
    "# Result is Piecewise function:\n",
    "display(expr)\n",
    "\n",
    "# Get just second branch expression\n",
    "formula = expr.args[1][0]"
   ]
  },
  {
   "cell_type": "code",
   "execution_count": 221,
   "metadata": {},
   "outputs": [
    {
     "ename": "SyntaxError",
     "evalue": "invalid syntax (<ipython-input-221-ebb2378d2474>, line 1)",
     "output_type": "error",
     "traceback": [
      "\u001b[0;36m  File \u001b[0;32m\"<ipython-input-221-ebb2378d2474>\"\u001b[0;36m, line \u001b[0;32m1\u001b[0m\n\u001b[0;31m    python code(formula)\u001b[0m\n\u001b[0m              ^\u001b[0m\n\u001b[0;31mSyntaxError\u001b[0m\u001b[0;31m:\u001b[0m invalid syntax\n"
     ]
    }
   ],
   "source": [
    "python code(formula)"
   ]
  },
  {
   "cell_type": "code",
   "execution_count": 199,
   "metadata": {},
   "outputs": [
    {
     "data": {
      "text/latex": [
       "$$i e^{a} \\sin{\\left (b \\right )} + e^{a} \\cos{\\left (b \\right )}$$"
      ],
      "text/plain": [
       "   a           a       \n",
       "ⅈ⋅ℯ ⋅sin(b) + ℯ ⋅cos(b)"
      ]
     },
     "execution_count": 199,
     "metadata": {},
     "output_type": "execute_result"
    }
   ],
   "source": [
    "# Complex numbers\n",
    "a=Symbol(\"a\", real=True)\n",
    "b=Symbol(\"b\", real =True)\n",
    "exp(a + b*I).expand(complex=True)\n"
   ]
  },
  {
   "cell_type": "code",
   "execution_count": 215,
   "metadata": {},
   "outputs": [
    {
     "data": {
      "text/latex": [
       "$$C_{1} \\sin{\\left (x \\right )} + C_{2} \\cos{\\left (x \\right )} - \\frac{\\cos{\\left (\\pi n x \\right )}}{\\pi^{2} n^{2} - 1}$$"
      ],
      "text/plain": [
       "                        cos(π⋅n⋅x)\n",
       "C₁⋅sin(x) + C₂⋅cos(x) - ──────────\n",
       "                         2  2     \n",
       "                        π ⋅n  - 1 "
      ]
     },
     "metadata": {},
     "output_type": "display_data"
    },
    {
     "data": {
      "text/latex": [
       "$$\\left [ \\left \\{ C_{1} : 0, \\quad C_{2} : \\frac{\\left(-1\\right)^{n} + \\pi^{2} P_{2} n^{2} - P_{2}}{\\left(\\pi^{2} n^{2} - 1\\right) \\cos{\\left (1 \\right )}}\\right \\}\\right ]$$"
      ],
      "text/plain": [
       "⎡⎧               n    2     2     ⎫⎤\n",
       "⎢⎪           (-1)  + π ⋅P₂⋅n  - P₂⎪⎥\n",
       "⎢⎨C₁: 0, C₂: ─────────────────────⎬⎥\n",
       "⎢⎪             ⎛ 2  2    ⎞        ⎪⎥\n",
       "⎣⎩             ⎝π ⋅n  - 1⎠⋅cos(1) ⎭⎦"
      ]
     },
     "metadata": {},
     "output_type": "display_data"
    },
    {
     "data": {
      "text/latex": [
       "$$\\frac{\\left(\\left(-1\\right)^{n} + \\pi^{2} P_{2} n^{2} - P_{2}\\right) \\cos{\\left (x \\right )}}{\\left(\\pi^{2} n^{2} - 1\\right) \\cos{\\left (1 \\right )}} - \\frac{\\cos{\\left (\\pi n x \\right )}}{\\pi^{2} n^{2} - 1}$$"
      ],
      "text/plain": [
       "⎛    n    2     2     ⎞                    \n",
       "⎝(-1)  + π ⋅P₂⋅n  - P₂⎠⋅cos(x)   cos(π⋅n⋅x)\n",
       "────────────────────────────── - ──────────\n",
       "      ⎛ 2  2    ⎞                 2  2     \n",
       "      ⎝π ⋅n  - 1⎠⋅cos(1)         π ⋅n  - 1 "
      ]
     },
     "execution_count": 215,
     "metadata": {},
     "output_type": "execute_result"
    }
   ],
   "source": [
    "# Differential equations\n",
    "k=Symbol(\"k\")\n",
    "P2=Symbol(\"P2\")\n",
    "n=Symbol(\"n\", integer=True)\n",
    "f=Function('f')\n",
    "deq = Eq(f(x).diff(x,x) + f(x), cos(n*pi*x))\n",
    "\n",
    "# Get general solution\n",
    "sol = dsolve(deq).rhs\n",
    "display(sol)\n",
    "\n",
    "# Solv boundary conditions\n",
    "constants = solve([sol.diff(x).subs(x,0), sol.subs(x,1) - P2])\n",
    "display(constants)\n",
    "\n",
    "# substitute\n",
    "sol.subs(constants[0])"
   ]
  },
  {
   "cell_type": "markdown",
   "metadata": {},
   "source": [
    "## Expression evaluation"
   ]
  },
  {
   "cell_type": "code",
   "execution_count": 163,
   "metadata": {},
   "outputs": [],
   "source": [
    "\n",
    "x, y = symbols('x y')\n",
    "expr = 3*x**2 + log(x**2 + y**2 + 1)\n"
   ]
  },
  {
   "cell_type": "code",
   "execution_count": 164,
   "metadata": {},
   "outputs": [
    {
     "data": {
      "text/latex": [
       "$$2.0710132859967416$$"
      ],
      "text/plain": [
       "2.0710132859967416"
      ]
     },
     "execution_count": 164,
     "metadata": {},
     "output_type": "execute_result"
    }
   ],
   "source": [
    "from timeit import timeit\n",
    "\n",
    "# Simplest method: using subs\n",
    "def eval1():\n",
    "    expr.subs({x: 17, y: 42}).evalf()\n",
    "    \n",
    "timeit(eval1, number=10000)"
   ]
  },
  {
   "cell_type": "code",
   "execution_count": 165,
   "metadata": {},
   "outputs": [
    {
     "data": {
      "text/latex": [
       "$$0.011852617011754774$$"
      ],
      "text/plain": [
       "0.011852617011754774"
      ]
     },
     "execution_count": 165,
     "metadata": {},
     "output_type": "execute_result"
    }
   ],
   "source": [
    "import math \n",
    "\n",
    "# Using handmade function\n",
    "def my_expr(x, y):\n",
    "    return 3*x**2 + math.log(x**2 + y**2 + 1)\n",
    "\n",
    "def eval2():\n",
    "    my_expr(17, 42)\n",
    "    \n",
    "timeit(eval2, number=10000)"
   ]
  },
  {
   "cell_type": "code",
   "execution_count": 166,
   "metadata": {},
   "outputs": [
    {
     "data": {
      "text/latex": [
       "$$0.011655547001282685$$"
      ],
      "text/plain": [
       "0.011655547001282685"
      ]
     },
     "execution_count": 166,
     "metadata": {},
     "output_type": "execute_result"
    }
   ],
   "source": [
    "# Let SymPy to make the function from expression\n",
    "g = lambdify([x, y], expr, modules=['math'])\n",
    "\n",
    "def eval3():\n",
    "    g(17, 42)\n",
    "    \n",
    "timeit(eval3, number=10000)    "
   ]
  }
 ],
 "metadata": {
  "kernelspec": {
   "display_name": "Python 3",
   "language": "python",
   "name": "python3"
  },
  "language_info": {
   "codemirror_mode": {
    "name": "ipython",
    "version": 3
   },
   "file_extension": ".py",
   "mimetype": "text/x-python",
   "name": "python",
   "nbconvert_exporter": "python",
   "pygments_lexer": "ipython3",
   "version": "3.5.2"
  }
 },
 "nbformat": 4,
 "nbformat_minor": 2
}
